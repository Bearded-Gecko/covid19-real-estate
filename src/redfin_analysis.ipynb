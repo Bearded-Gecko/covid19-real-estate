{
 "cells": [
  {
   "cell_type": "code",
   "execution_count": 3,
   "metadata": {},
   "outputs": [],
   "source": [
    "#packages/modules\n",
    "import pandas as pd\n",
    "import numpy as np\n",
    "import matplotlib.pyplot as plt\n",
    "from urllib.request import urlopen\n",
    "import json\n",
    "import os\n",
    "import datetime\n",
    "import plotly.express as px"
   ]
  },
  {
   "cell_type": "code",
   "execution_count": 4,
   "metadata": {},
   "outputs": [],
   "source": [
    "#read in data\n",
    "raw_data = pd.read_csv('P:\\Georgia Tech\\Curriculum\\Fall 2022\\CSE 6242 - Data and Visual Analytics\\Project\\Redfin Data\\zip_code_market_tracker.tsv000', sep = '\\t')"
   ]
  },
  {
   "cell_type": "code",
   "execution_count": 3,
   "metadata": {},
   "outputs": [
    {
     "data": {
      "text/html": [
       "<div>\n",
       "<style scoped>\n",
       "    .dataframe tbody tr th:only-of-type {\n",
       "        vertical-align: middle;\n",
       "    }\n",
       "\n",
       "    .dataframe tbody tr th {\n",
       "        vertical-align: top;\n",
       "    }\n",
       "\n",
       "    .dataframe thead th {\n",
       "        text-align: right;\n",
       "    }\n",
       "</style>\n",
       "<table border=\"1\" class=\"dataframe\">\n",
       "  <thead>\n",
       "    <tr style=\"text-align: right;\">\n",
       "      <th></th>\n",
       "      <th>period_begin</th>\n",
       "      <th>period_end</th>\n",
       "      <th>period_duration</th>\n",
       "      <th>region_type</th>\n",
       "      <th>region_type_id</th>\n",
       "      <th>table_id</th>\n",
       "      <th>is_seasonally_adjusted</th>\n",
       "      <th>region</th>\n",
       "      <th>city</th>\n",
       "      <th>state</th>\n",
       "      <th>...</th>\n",
       "      <th>sold_above_list_yoy</th>\n",
       "      <th>price_drops</th>\n",
       "      <th>price_drops_mom</th>\n",
       "      <th>price_drops_yoy</th>\n",
       "      <th>off_market_in_two_weeks</th>\n",
       "      <th>off_market_in_two_weeks_mom</th>\n",
       "      <th>off_market_in_two_weeks_yoy</th>\n",
       "      <th>parent_metro_region</th>\n",
       "      <th>parent_metro_region_metro_code</th>\n",
       "      <th>last_updated</th>\n",
       "    </tr>\n",
       "  </thead>\n",
       "  <tbody>\n",
       "    <tr>\n",
       "      <th>0</th>\n",
       "      <td>2021-08-01</td>\n",
       "      <td>2021-10-31</td>\n",
       "      <td>90</td>\n",
       "      <td>zip code</td>\n",
       "      <td>2</td>\n",
       "      <td>20593</td>\n",
       "      <td>f</td>\n",
       "      <td>Zip Code: 48301</td>\n",
       "      <td>NaN</td>\n",
       "      <td>Michigan</td>\n",
       "      <td>...</td>\n",
       "      <td>0.080460</td>\n",
       "      <td>NaN</td>\n",
       "      <td>NaN</td>\n",
       "      <td>NaN</td>\n",
       "      <td>0.461538</td>\n",
       "      <td>0.253205</td>\n",
       "      <td>0.061538</td>\n",
       "      <td>Warren, MI</td>\n",
       "      <td>47664</td>\n",
       "      <td>2022-10-16 14:38:47</td>\n",
       "    </tr>\n",
       "    <tr>\n",
       "      <th>1</th>\n",
       "      <td>2015-05-01</td>\n",
       "      <td>2015-07-31</td>\n",
       "      <td>90</td>\n",
       "      <td>zip code</td>\n",
       "      <td>2</td>\n",
       "      <td>29924</td>\n",
       "      <td>f</td>\n",
       "      <td>Zip Code: 70076</td>\n",
       "      <td>NaN</td>\n",
       "      <td>Louisiana</td>\n",
       "      <td>...</td>\n",
       "      <td>NaN</td>\n",
       "      <td>NaN</td>\n",
       "      <td>NaN</td>\n",
       "      <td>NaN</td>\n",
       "      <td>NaN</td>\n",
       "      <td>NaN</td>\n",
       "      <td>NaN</td>\n",
       "      <td>New Orleans, LA</td>\n",
       "      <td>35380</td>\n",
       "      <td>2022-10-16 14:38:47</td>\n",
       "    </tr>\n",
       "    <tr>\n",
       "      <th>2</th>\n",
       "      <td>2018-08-01</td>\n",
       "      <td>2018-10-31</td>\n",
       "      <td>90</td>\n",
       "      <td>zip code</td>\n",
       "      <td>2</td>\n",
       "      <td>5101</td>\n",
       "      <td>f</td>\n",
       "      <td>Zip Code: 14222</td>\n",
       "      <td>NaN</td>\n",
       "      <td>New York</td>\n",
       "      <td>...</td>\n",
       "      <td>-0.750000</td>\n",
       "      <td>NaN</td>\n",
       "      <td>NaN</td>\n",
       "      <td>NaN</td>\n",
       "      <td>NaN</td>\n",
       "      <td>NaN</td>\n",
       "      <td>NaN</td>\n",
       "      <td>Buffalo, NY</td>\n",
       "      <td>15380</td>\n",
       "      <td>2022-10-16 14:38:47</td>\n",
       "    </tr>\n",
       "    <tr>\n",
       "      <th>3</th>\n",
       "      <td>2016-07-01</td>\n",
       "      <td>2016-09-30</td>\n",
       "      <td>90</td>\n",
       "      <td>zip code</td>\n",
       "      <td>2</td>\n",
       "      <td>13900</td>\n",
       "      <td>f</td>\n",
       "      <td>Zip Code: 32966</td>\n",
       "      <td>NaN</td>\n",
       "      <td>Florida</td>\n",
       "      <td>...</td>\n",
       "      <td>0.014394</td>\n",
       "      <td>NaN</td>\n",
       "      <td>NaN</td>\n",
       "      <td>NaN</td>\n",
       "      <td>0.333333</td>\n",
       "      <td>0.222222</td>\n",
       "      <td>0.222222</td>\n",
       "      <td>Sebastian, FL</td>\n",
       "      <td>42680</td>\n",
       "      <td>2022-10-16 14:38:47</td>\n",
       "    </tr>\n",
       "    <tr>\n",
       "      <th>4</th>\n",
       "      <td>2020-09-01</td>\n",
       "      <td>2020-11-30</td>\n",
       "      <td>90</td>\n",
       "      <td>zip code</td>\n",
       "      <td>2</td>\n",
       "      <td>16709</td>\n",
       "      <td>f</td>\n",
       "      <td>Zip Code: 39180</td>\n",
       "      <td>NaN</td>\n",
       "      <td>Mississippi</td>\n",
       "      <td>...</td>\n",
       "      <td>-0.200000</td>\n",
       "      <td>NaN</td>\n",
       "      <td>NaN</td>\n",
       "      <td>NaN</td>\n",
       "      <td>0.000000</td>\n",
       "      <td>NaN</td>\n",
       "      <td>0.000000</td>\n",
       "      <td>Vicksburg, MS</td>\n",
       "      <td>46980</td>\n",
       "      <td>2022-10-16 14:38:47</td>\n",
       "    </tr>\n",
       "  </tbody>\n",
       "</table>\n",
       "<p>5 rows × 58 columns</p>\n",
       "</div>"
      ],
      "text/plain": [
       "  period_begin  period_end  period_duration region_type  region_type_id  \\\n",
       "0   2021-08-01  2021-10-31               90    zip code               2   \n",
       "1   2015-05-01  2015-07-31               90    zip code               2   \n",
       "2   2018-08-01  2018-10-31               90    zip code               2   \n",
       "3   2016-07-01  2016-09-30               90    zip code               2   \n",
       "4   2020-09-01  2020-11-30               90    zip code               2   \n",
       "\n",
       "   table_id is_seasonally_adjusted           region  city        state  ...  \\\n",
       "0     20593                      f  Zip Code: 48301   NaN     Michigan  ...   \n",
       "1     29924                      f  Zip Code: 70076   NaN    Louisiana  ...   \n",
       "2      5101                      f  Zip Code: 14222   NaN     New York  ...   \n",
       "3     13900                      f  Zip Code: 32966   NaN      Florida  ...   \n",
       "4     16709                      f  Zip Code: 39180   NaN  Mississippi  ...   \n",
       "\n",
       "  sold_above_list_yoy price_drops  price_drops_mom  price_drops_yoy  \\\n",
       "0            0.080460         NaN              NaN              NaN   \n",
       "1                 NaN         NaN              NaN              NaN   \n",
       "2           -0.750000         NaN              NaN              NaN   \n",
       "3            0.014394         NaN              NaN              NaN   \n",
       "4           -0.200000         NaN              NaN              NaN   \n",
       "\n",
       "   off_market_in_two_weeks  off_market_in_two_weeks_mom  \\\n",
       "0                 0.461538                     0.253205   \n",
       "1                      NaN                          NaN   \n",
       "2                      NaN                          NaN   \n",
       "3                 0.333333                     0.222222   \n",
       "4                 0.000000                          NaN   \n",
       "\n",
       "   off_market_in_two_weeks_yoy  parent_metro_region  \\\n",
       "0                     0.061538           Warren, MI   \n",
       "1                          NaN      New Orleans, LA   \n",
       "2                          NaN          Buffalo, NY   \n",
       "3                     0.222222        Sebastian, FL   \n",
       "4                     0.000000        Vicksburg, MS   \n",
       "\n",
       "   parent_metro_region_metro_code         last_updated  \n",
       "0                           47664  2022-10-16 14:38:47  \n",
       "1                           35380  2022-10-16 14:38:47  \n",
       "2                           15380  2022-10-16 14:38:47  \n",
       "3                           42680  2022-10-16 14:38:47  \n",
       "4                           46980  2022-10-16 14:38:47  \n",
       "\n",
       "[5 rows x 58 columns]"
      ]
     },
     "metadata": {},
     "output_type": "display_data"
    }
   ],
   "source": [
    "#see sample data\n",
    "display(raw_data.head(5))"
   ]
  },
  {
   "cell_type": "markdown",
   "metadata": {},
   "source": [
    "### How many rows?"
   ]
  },
  {
   "cell_type": "code",
   "execution_count": 4,
   "metadata": {},
   "outputs": [
    {
     "name": "stdout",
     "output_type": "stream",
     "text": [
      "6305970\n"
     ]
    }
   ],
   "source": [
    "print(len(raw_data))"
   ]
  },
  {
   "cell_type": "markdown",
   "metadata": {},
   "source": [
    "### What features are important?"
   ]
  },
  {
   "cell_type": "code",
   "execution_count": 5,
   "metadata": {},
   "outputs": [
    {
     "name": "stdout",
     "output_type": "stream",
     "text": [
      "Index(['period_begin', 'period_end', 'period_duration', 'region_type',\n",
      "       'region_type_id', 'table_id', 'is_seasonally_adjusted', 'region',\n",
      "       'city', 'state', 'state_code', 'property_type', 'property_type_id',\n",
      "       'median_sale_price', 'median_sale_price_mom', 'median_sale_price_yoy',\n",
      "       'median_list_price', 'median_list_price_mom', 'median_list_price_yoy',\n",
      "       'median_ppsf', 'median_ppsf_mom', 'median_ppsf_yoy', 'median_list_ppsf',\n",
      "       'median_list_ppsf_mom', 'median_list_ppsf_yoy', 'homes_sold',\n",
      "       'homes_sold_mom', 'homes_sold_yoy', 'pending_sales',\n",
      "       'pending_sales_mom', 'pending_sales_yoy', 'new_listings',\n",
      "       'new_listings_mom', 'new_listings_yoy', 'inventory', 'inventory_mom',\n",
      "       'inventory_yoy', 'months_of_supply', 'months_of_supply_mom',\n",
      "       'months_of_supply_yoy', 'median_dom', 'median_dom_mom',\n",
      "       'median_dom_yoy', 'avg_sale_to_list', 'avg_sale_to_list_mom',\n",
      "       'avg_sale_to_list_yoy', 'sold_above_list', 'sold_above_list_mom',\n",
      "       'sold_above_list_yoy', 'price_drops', 'price_drops_mom',\n",
      "       'price_drops_yoy', 'off_market_in_two_weeks',\n",
      "       'off_market_in_two_weeks_mom', 'off_market_in_two_weeks_yoy',\n",
      "       'parent_metro_region', 'parent_metro_region_metro_code',\n",
      "       'last_updated'],\n",
      "      dtype='object')\n",
      "58\n"
     ]
    }
   ],
   "source": [
    "#what are the features/columns?\n",
    "print(raw_data.columns)\n",
    "\n",
    "#number of columns\n",
    "print(len(raw_data.columns))\n"
   ]
  },
  {
   "cell_type": "markdown",
   "metadata": {},
   "source": [
    "# 0. Which features are important?\n",
    "period_begin, period_end, period_duration, region, state_code, property_type, homes_sold, new_listings, median_sale_price, median_list_price, inventory \n",
    "\n",
    "### Definitions\n",
    "inventory: total number of active listings on the last day of a given time period\n",
    "new_listings: total number of homes with a listing added date during a given time period\n",
    "months_of_supply: tells you how long it would take supply to be bought upt if no new homes came on the market"
   ]
  },
  {
   "cell_type": "markdown",
   "metadata": {},
   "source": [
    "### Describe feature values"
   ]
  },
  {
   "cell_type": "code",
   "execution_count": 6,
   "metadata": {},
   "outputs": [
    {
     "name": "stdout",
     "output_type": "stream",
     "text": [
      "count             6305970\n",
      "unique              22266\n",
      "top       Zip Code: 33407\n",
      "freq                  635\n",
      "Name: region, dtype: object\n",
      "\n",
      "count     6305970\n",
      "unique         48\n",
      "top            CA\n",
      "freq       628096\n",
      "Name: state_code, dtype: object\n",
      "\n",
      "count             6305970\n",
      "unique                  5\n",
      "top       All Residential\n",
      "freq              2092546\n",
      "Name: property_type, dtype: object\n",
      "\n",
      "count    6.294143e+06\n",
      "mean     3.628321e+01\n",
      "std      5.718470e+01\n",
      "min      1.000000e+00\n",
      "25%      3.000000e+00\n",
      "50%      1.100000e+01\n",
      "75%      4.600000e+01\n",
      "max      9.660000e+02\n",
      "Name: homes_sold, dtype: float64\n"
     ]
    }
   ],
   "source": [
    "print(raw_data['region'].describe())\n",
    "print()\n",
    "print(raw_data['state_code'].describe())\n",
    "print()\n",
    "print(raw_data['property_type'].describe())\n",
    "print()\n",
    "print(raw_data['homes_sold'].describe())\n"
   ]
  },
  {
   "cell_type": "code",
   "execution_count": 7,
   "metadata": {},
   "outputs": [
    {
     "name": "stdout",
     "output_type": "stream",
     "text": [
      "count    5.786043e+06\n",
      "mean     4.580903e+01\n",
      "std      6.786595e+01\n",
      "min      1.000000e+00\n",
      "25%      5.000000e+00\n",
      "50%      1.600000e+01\n",
      "75%      6.000000e+01\n",
      "max      1.369000e+03\n",
      "Name: new_listings, dtype: float64\n",
      "\n",
      "count    6.293614e+06\n",
      "mean     2.961404e+05\n",
      "std      1.053433e+06\n",
      "min      1.000000e+00\n",
      "25%      1.330000e+05\n",
      "50%      2.100000e+05\n",
      "75%      3.415000e+05\n",
      "max      1.000000e+09\n",
      "Name: median_sale_price, dtype: float64\n",
      "\n",
      "count    5.845714e+06\n",
      "mean     3.206317e+05\n",
      "std      2.069847e+06\n",
      "min      1.000000e+02\n",
      "25%      1.450000e+05\n",
      "50%      2.274500e+05\n",
      "75%      3.650000e+05\n",
      "max      2.000000e+09\n",
      "Name: median_list_price, dtype: float64\n"
     ]
    }
   ],
   "source": [
    "print(raw_data['new_listings'].describe())\n",
    "print()\n",
    "print(raw_data['median_sale_price'].describe())\n",
    "print()\n",
    "print(raw_data['median_list_price'].describe())"
   ]
  },
  {
   "cell_type": "code",
   "execution_count": 8,
   "metadata": {},
   "outputs": [
    {
     "name": "stdout",
     "output_type": "stream",
     "text": [
      "count    5.595925e+06\n",
      "mean     4.327854e+01\n",
      "std      6.730616e+01\n",
      "min      1.000000e+00\n",
      "25%      5.000000e+00\n",
      "50%      1.700000e+01\n",
      "75%      5.300000e+01\n",
      "max      1.804000e+03\n",
      "Name: inventory, dtype: float64\n"
     ]
    }
   ],
   "source": [
    "print(raw_data['inventory'].describe())"
   ]
  },
  {
   "cell_type": "markdown",
   "metadata": {},
   "source": [
    "### create dataframe subset, df"
   ]
  },
  {
   "cell_type": "code",
   "execution_count": 5,
   "metadata": {},
   "outputs": [],
   "source": [
    "#create subset df with important columns from above\n",
    "df = raw_data[['period_begin', 'period_end', 'region', \n",
    "'state_code', 'property_type', 'homes_sold', 'new_listings', \n",
    "'median_sale_price', 'median_list_price', 'inventory']]"
   ]
  },
  {
   "cell_type": "markdown",
   "metadata": {},
   "source": [
    "### change period_begin and period_end to datetime types"
   ]
  },
  {
   "cell_type": "code",
   "execution_count": 20,
   "metadata": {},
   "outputs": [],
   "source": [
    "df2 = df.copy()\n",
    "\n",
    "#period_begin\n",
    "df2['period_begin'] = pd.to_datetime(df2['period_begin'], format=\"%Y/%m/%d\").dt.date"
   ]
  },
  {
   "cell_type": "code",
   "execution_count": 21,
   "metadata": {},
   "outputs": [],
   "source": [
    "#period_end\n",
    "df2['period_end'] = pd.to_datetime(df2['period_end'], format=\"%Y/%m/%d\").dt.date"
   ]
  },
  {
   "cell_type": "markdown",
   "metadata": {},
   "source": [
    "# 1. What is the date range?\n",
    "March 2012 - September 2022"
   ]
  },
  {
   "cell_type": "code",
   "execution_count": 22,
   "metadata": {},
   "outputs": [
    {
     "name": "stdout",
     "output_type": "stream",
     "text": [
      "count        6305970\n",
      "unique           127\n",
      "top       2021-06-01\n",
      "freq           57722\n",
      "Name: period_begin, dtype: object\n",
      "count        6305970\n",
      "unique           127\n",
      "top       2021-08-31\n",
      "freq           57722\n",
      "Name: period_end, dtype: object\n"
     ]
    }
   ],
   "source": [
    "#period begin\n",
    "print(df2['period_begin'].describe(datetime_is_numeric = True))\n",
    "\n",
    "#period end\n",
    "print(df2['period_end'].describe(datetime_is_numeric = True))"
   ]
  },
  {
   "cell_type": "markdown",
   "metadata": {},
   "source": [
    "# 2. How many unique zip codes are there?\n",
    "22,266 unique zip codes"
   ]
  },
  {
   "cell_type": "markdown",
   "metadata": {},
   "source": [
    "### Extract Zip Codes"
   ]
  },
  {
   "cell_type": "code",
   "execution_count": 23,
   "metadata": {},
   "outputs": [],
   "source": [
    "#extract zip code from region and create new series\n",
    "df2['zip_code'] = df2['region'].str.replace('Zip Code: ', \"\")"
   ]
  },
  {
   "cell_type": "code",
   "execution_count": 14,
   "metadata": {},
   "outputs": [
    {
     "data": {
      "text/plain": [
       "count     6305970\n",
       "unique      22266\n",
       "top         02169\n",
       "freq          635\n",
       "Name: zip_code, dtype: object"
      ]
     },
     "execution_count": 14,
     "metadata": {},
     "output_type": "execute_result"
    }
   ],
   "source": [
    "#desribe zip codes\n",
    "df2['zip_code'].describe()"
   ]
  },
  {
   "cell_type": "code",
   "execution_count": 24,
   "metadata": {},
   "outputs": [
    {
     "data": {
      "text/html": [
       "<div>\n",
       "<style scoped>\n",
       "    .dataframe tbody tr th:only-of-type {\n",
       "        vertical-align: middle;\n",
       "    }\n",
       "\n",
       "    .dataframe tbody tr th {\n",
       "        vertical-align: top;\n",
       "    }\n",
       "\n",
       "    .dataframe thead th {\n",
       "        text-align: right;\n",
       "    }\n",
       "</style>\n",
       "<table border=\"1\" class=\"dataframe\">\n",
       "  <thead>\n",
       "    <tr style=\"text-align: right;\">\n",
       "      <th></th>\n",
       "      <th>period_begin</th>\n",
       "      <th>period_end</th>\n",
       "      <th>region</th>\n",
       "      <th>state_code</th>\n",
       "      <th>property_type</th>\n",
       "      <th>homes_sold</th>\n",
       "      <th>new_listings</th>\n",
       "      <th>median_sale_price</th>\n",
       "      <th>median_list_price</th>\n",
       "      <th>inventory</th>\n",
       "      <th>zip_code</th>\n",
       "    </tr>\n",
       "  </thead>\n",
       "  <tbody>\n",
       "    <tr>\n",
       "      <th>0</th>\n",
       "      <td>2021-08-01</td>\n",
       "      <td>2021-10-31</td>\n",
       "      <td>Zip Code: 48301</td>\n",
       "      <td>MI</td>\n",
       "      <td>All Residential</td>\n",
       "      <td>78.0</td>\n",
       "      <td>88.0</td>\n",
       "      <td>587000.0</td>\n",
       "      <td>639475.0</td>\n",
       "      <td>48.0</td>\n",
       "      <td>48301</td>\n",
       "    </tr>\n",
       "    <tr>\n",
       "      <th>1</th>\n",
       "      <td>2015-05-01</td>\n",
       "      <td>2015-07-31</td>\n",
       "      <td>Zip Code: 70076</td>\n",
       "      <td>LA</td>\n",
       "      <td>Single Family Residential</td>\n",
       "      <td>1.0</td>\n",
       "      <td>NaN</td>\n",
       "      <td>85000.0</td>\n",
       "      <td>NaN</td>\n",
       "      <td>1.0</td>\n",
       "      <td>70076</td>\n",
       "    </tr>\n",
       "    <tr>\n",
       "      <th>2</th>\n",
       "      <td>2018-08-01</td>\n",
       "      <td>2018-10-31</td>\n",
       "      <td>Zip Code: 14222</td>\n",
       "      <td>NY</td>\n",
       "      <td>Condo/Co-op</td>\n",
       "      <td>8.0</td>\n",
       "      <td>4.0</td>\n",
       "      <td>215000.0</td>\n",
       "      <td>199900.0</td>\n",
       "      <td>5.0</td>\n",
       "      <td>14222</td>\n",
       "    </tr>\n",
       "    <tr>\n",
       "      <th>3</th>\n",
       "      <td>2016-07-01</td>\n",
       "      <td>2016-09-30</td>\n",
       "      <td>Zip Code: 32966</td>\n",
       "      <td>FL</td>\n",
       "      <td>Condo/Co-op</td>\n",
       "      <td>40.0</td>\n",
       "      <td>39.0</td>\n",
       "      <td>132000.0</td>\n",
       "      <td>135900.0</td>\n",
       "      <td>44.0</td>\n",
       "      <td>32966</td>\n",
       "    </tr>\n",
       "    <tr>\n",
       "      <th>4</th>\n",
       "      <td>2020-09-01</td>\n",
       "      <td>2020-11-30</td>\n",
       "      <td>Zip Code: 39180</td>\n",
       "      <td>MS</td>\n",
       "      <td>All Residential</td>\n",
       "      <td>4.0</td>\n",
       "      <td>6.0</td>\n",
       "      <td>161950.0</td>\n",
       "      <td>190700.0</td>\n",
       "      <td>10.0</td>\n",
       "      <td>39180</td>\n",
       "    </tr>\n",
       "    <tr>\n",
       "      <th>5</th>\n",
       "      <td>2021-08-01</td>\n",
       "      <td>2021-10-31</td>\n",
       "      <td>Zip Code: 10465</td>\n",
       "      <td>NY</td>\n",
       "      <td>Condo/Co-op</td>\n",
       "      <td>12.0</td>\n",
       "      <td>27.0</td>\n",
       "      <td>407500.0</td>\n",
       "      <td>375000.0</td>\n",
       "      <td>31.0</td>\n",
       "      <td>10465</td>\n",
       "    </tr>\n",
       "    <tr>\n",
       "      <th>6</th>\n",
       "      <td>2020-05-01</td>\n",
       "      <td>2020-07-31</td>\n",
       "      <td>Zip Code: 60091</td>\n",
       "      <td>IL</td>\n",
       "      <td>Single Family Residential</td>\n",
       "      <td>104.0</td>\n",
       "      <td>166.0</td>\n",
       "      <td>826000.0</td>\n",
       "      <td>809000.0</td>\n",
       "      <td>102.0</td>\n",
       "      <td>60091</td>\n",
       "    </tr>\n",
       "    <tr>\n",
       "      <th>7</th>\n",
       "      <td>2018-03-01</td>\n",
       "      <td>2018-05-31</td>\n",
       "      <td>Zip Code: 94110</td>\n",
       "      <td>CA</td>\n",
       "      <td>Townhouse</td>\n",
       "      <td>3.0</td>\n",
       "      <td>5.0</td>\n",
       "      <td>1125000.0</td>\n",
       "      <td>1399000.0</td>\n",
       "      <td>3.0</td>\n",
       "      <td>94110</td>\n",
       "    </tr>\n",
       "    <tr>\n",
       "      <th>8</th>\n",
       "      <td>2017-05-01</td>\n",
       "      <td>2017-07-31</td>\n",
       "      <td>Zip Code: 84097</td>\n",
       "      <td>UT</td>\n",
       "      <td>All Residential</td>\n",
       "      <td>53.0</td>\n",
       "      <td>82.0</td>\n",
       "      <td>279000.0</td>\n",
       "      <td>310950.0</td>\n",
       "      <td>55.0</td>\n",
       "      <td>84097</td>\n",
       "    </tr>\n",
       "    <tr>\n",
       "      <th>9</th>\n",
       "      <td>2012-03-01</td>\n",
       "      <td>2012-05-31</td>\n",
       "      <td>Zip Code: 15074</td>\n",
       "      <td>PA</td>\n",
       "      <td>Single Family Residential</td>\n",
       "      <td>13.0</td>\n",
       "      <td>32.0</td>\n",
       "      <td>57700.0</td>\n",
       "      <td>77000.0</td>\n",
       "      <td>NaN</td>\n",
       "      <td>15074</td>\n",
       "    </tr>\n",
       "  </tbody>\n",
       "</table>\n",
       "</div>"
      ],
      "text/plain": [
       "  period_begin  period_end           region state_code  \\\n",
       "0   2021-08-01  2021-10-31  Zip Code: 48301         MI   \n",
       "1   2015-05-01  2015-07-31  Zip Code: 70076         LA   \n",
       "2   2018-08-01  2018-10-31  Zip Code: 14222         NY   \n",
       "3   2016-07-01  2016-09-30  Zip Code: 32966         FL   \n",
       "4   2020-09-01  2020-11-30  Zip Code: 39180         MS   \n",
       "5   2021-08-01  2021-10-31  Zip Code: 10465         NY   \n",
       "6   2020-05-01  2020-07-31  Zip Code: 60091         IL   \n",
       "7   2018-03-01  2018-05-31  Zip Code: 94110         CA   \n",
       "8   2017-05-01  2017-07-31  Zip Code: 84097         UT   \n",
       "9   2012-03-01  2012-05-31  Zip Code: 15074         PA   \n",
       "\n",
       "               property_type  homes_sold  new_listings  median_sale_price  \\\n",
       "0            All Residential        78.0          88.0           587000.0   \n",
       "1  Single Family Residential         1.0           NaN            85000.0   \n",
       "2                Condo/Co-op         8.0           4.0           215000.0   \n",
       "3                Condo/Co-op        40.0          39.0           132000.0   \n",
       "4            All Residential         4.0           6.0           161950.0   \n",
       "5                Condo/Co-op        12.0          27.0           407500.0   \n",
       "6  Single Family Residential       104.0         166.0           826000.0   \n",
       "7                  Townhouse         3.0           5.0          1125000.0   \n",
       "8            All Residential        53.0          82.0           279000.0   \n",
       "9  Single Family Residential        13.0          32.0            57700.0   \n",
       "\n",
       "   median_list_price  inventory zip_code  \n",
       "0           639475.0       48.0    48301  \n",
       "1                NaN        1.0    70076  \n",
       "2           199900.0        5.0    14222  \n",
       "3           135900.0       44.0    32966  \n",
       "4           190700.0       10.0    39180  \n",
       "5           375000.0       31.0    10465  \n",
       "6           809000.0      102.0    60091  \n",
       "7          1399000.0        3.0    94110  \n",
       "8           310950.0       55.0    84097  \n",
       "9            77000.0        NaN    15074  "
      ]
     },
     "metadata": {},
     "output_type": "display_data"
    }
   ],
   "source": [
    "display(df2.head(10))"
   ]
  },
  {
   "cell_type": "code",
   "execution_count": 18,
   "metadata": {},
   "outputs": [],
   "source": [
    "#export dataframe to csv file\n",
    "df2.to_csv (r'redfin_condensed.csv', index = False, header=True)"
   ]
  },
  {
   "cell_type": "markdown",
   "metadata": {},
   "source": [
    "# 3. Create Nested Dictionary:\n",
    "### {period_end: {zip codes: median_sale_price, ...}...}"
   ]
  },
  {
   "cell_type": "code",
   "execution_count": 14,
   "metadata": {},
   "outputs": [],
   "source": [
    "# #extract unique period_end dates \n",
    "# df3 = df2.copy()\n",
    "# period_end_list = df3['period_end'].values.tolist()\n",
    "# unique_period_ends = list()\n",
    "# for x in period_end_list:\n",
    "#     if x not in unique_period_ends:\n",
    "#         unique_period_ends.append(x)"
   ]
  },
  {
   "cell_type": "code",
   "execution_count": 15,
   "metadata": {},
   "outputs": [],
   "source": [
    "# #extract zip code, period_end, and median_sale_price columns\n",
    "# condensed_df = df3[['zip_code', 'period_end', 'median_sale_price']]\n",
    "\n",
    "# #populate nested dict\n",
    "# choropleth_dict = dict.fromkeys(unique_period_ends)\n",
    "\n",
    "# for i in choropleth_dict:\n",
    "#     choropleth_dict[i] = {}\n",
    "\n",
    "\n",
    "# for index, row in condensed_df.iterrows():\n",
    "#     date = row['period_end']\n",
    "#     house_sale = row['median_sale_price']\n",
    "#     zip_code = row['zip_code']\n",
    "#     choropleth_dict[date][zip_code] = house_sale\n"
   ]
  },
  {
   "cell_type": "markdown",
   "metadata": {},
   "source": [
    "# 4. Choropleth at Zip Code Level"
   ]
  },
  {
   "cell_type": "markdown",
   "metadata": {},
   "source": [
    "## read in combined geo-json file for CA, WA, TX, and NC"
   ]
  },
  {
   "cell_type": "code",
   "execution_count": 23,
   "metadata": {},
   "outputs": [],
   "source": [
    "file = \"mergedfile.geojson\"\n",
    "with open(\"json_test_edits/{}\".format(file)) as user_file:\n",
    "    combined_geojson = json.load(user_file)\n"
   ]
  },
  {
   "cell_type": "code",
   "execution_count": 18,
   "metadata": {},
   "outputs": [],
   "source": [
    "# #new york example\n",
    "# df4 = df2.copy()\n",
    "# df4_condensed = df4[['zip_code', 'period_end', 'median_sale_price', 'state_code']]\n",
    "\n",
    "# #filter by new york and pick one end date\n",
    "# df4_filtered = df4_condensed[(df4_condensed[\"state_code\"] == \"NY\") & (df4_condensed[\"period_end\"] == datetime.date(2021,10,31))]\n",
    "\n",
    "# ny_data = df4_filtered[['zip_code', 'median_sale_price']]\n",
    "\n"
   ]
  },
  {
   "cell_type": "markdown",
   "metadata": {},
   "source": [
    "# 2016 (wa, ca, tx, nc)"
   ]
  },
  {
   "cell_type": "code",
   "execution_count": 19,
   "metadata": {},
   "outputs": [
    {
     "name": "stdout",
     "output_type": "stream",
     "text": [
      "12500000.0 7400.0\n"
     ]
    }
   ],
   "source": [
    "#combine alabama and alaska\n",
    "df5 = df2.copy()\n",
    "df5_condensed = df5[['zip_code', 'period_end', 'median_sale_price', 'state_code']]\n",
    "\n",
    "#filter by ca\n",
    "ca_filtered_2016 = df5_condensed[(df5_condensed[\"state_code\"] == \"CA\") & (df5_condensed[\"period_end\"] == datetime.date(2016,1,31))]\n",
    "\n",
    "#filter by wa\n",
    "wa_filtered_2016 = df5_condensed[(df5_condensed[\"state_code\"] == \"WA\") & (df5_condensed[\"period_end\"] == datetime.date(2016,1,31))]\n",
    "\n",
    "#filter by TX\n",
    "tx_filtered_2016 = df5_condensed[(df5_condensed[\"state_code\"] == \"TX\") & (df5_condensed[\"period_end\"] == datetime.date(2016,1,31))]\n",
    "\n",
    "#filter by wa\n",
    "nc_filtered_2016 = df5_condensed[(df5_condensed[\"state_code\"] == \"NC\") & (df5_condensed[\"period_end\"] == datetime.date(2016,1,31))]\n",
    "\n",
    "#merge\n",
    "ca_data_2016 = ca_filtered_2016[['zip_code', 'median_sale_price']]\n",
    "wa_data_2016 = wa_filtered_2016[['zip_code', 'median_sale_price']]\n",
    "tx_data_2016 = tx_filtered_2016[['zip_code', 'median_sale_price']]\n",
    "nc_data_2016 = nc_filtered_2016[['zip_code', 'median_sale_price']]\n",
    "\n",
    "combined_data_2016 = pd.concat([ca_data_2016, wa_data_2016, tx_data_2016, nc_data_2016])\n",
    "\n",
    "max_sale_2016 = combined_data_2016['median_sale_price'].max()\n",
    "min_sale_2016 = combined_data_2016['median_sale_price'].min()\n",
    "\n",
    "print(max_sale_2016, min_sale_2016)"
   ]
  },
  {
   "cell_type": "markdown",
   "metadata": {},
   "source": [
    "# 2022 (wa, ca, tx, nc)"
   ]
  },
  {
   "cell_type": "code",
   "execution_count": 22,
   "metadata": {},
   "outputs": [
    {
     "name": "stdout",
     "output_type": "stream",
     "text": [
      "12500000.0 1.0\n"
     ]
    }
   ],
   "source": [
    "#combine alabama and alaska\n",
    "df5 = df2.copy()\n",
    "df5_condensed = df5[['zip_code', 'period_end', 'median_sale_price', 'state_code']]\n",
    "\n",
    "#filter by ca\n",
    "ca_filtered_2022 = df5_condensed[(df5_condensed[\"state_code\"] == \"CA\") & (df5_condensed[\"period_end\"] == datetime.date(2022,9,30))]\n",
    "\n",
    "#filter by wa\n",
    "wa_filtered_2022 = df5_condensed[(df5_condensed[\"state_code\"] == \"WA\") & (df5_condensed[\"period_end\"] == datetime.date(2022,9,30))]\n",
    "\n",
    "#filter by TX\n",
    "tx_filtered_2022 = df5_condensed[(df5_condensed[\"state_code\"] == \"TX\") & (df5_condensed[\"period_end\"] == datetime.date(2022,9,30))]\n",
    "\n",
    "#filter by wa\n",
    "nc_filtered_2022 = df5_condensed[(df5_condensed[\"state_code\"] == \"NC\") & (df5_condensed[\"period_end\"] == datetime.date(2022,9,30))]\n",
    "\n",
    "#merge\n",
    "ca_data_2022 = ca_filtered_2022[['zip_code', 'median_sale_price']]\n",
    "wa_data_2022 = wa_filtered_2022[['zip_code', 'median_sale_price']]\n",
    "tx_data_2022 = tx_filtered_2022[['zip_code', 'median_sale_price']]\n",
    "nc_data_2022 = nc_filtered_2022[['zip_code', 'median_sale_price']]\n",
    "\n",
    "combined_data_2022 = pd.concat([ca_data_2022, wa_data_2022, tx_data_2022, nc_data_2022])\n",
    "\n",
    "max_sale_2022 = combined_data_2022['median_sale_price'].max()\n",
    "min_sale_2022 = combined_data_2022['median_sale_price'].min()\n",
    "\n",
    "print(max_sale_2022, min_sale_2022)"
   ]
  },
  {
   "cell_type": "code",
   "execution_count": 24,
   "metadata": {},
   "outputs": [],
   "source": [
    "fig = px.choropleth(combined_data_2016, geojson = combined_geojson, locations = 'zip_code', color = 'median_sale_price',\n",
    "                                    featureidkey = \"properties.ZCTA5CE10\",\n",
    "                                    color_continuous_scale=\"Viridis\",\n",
    "                                    range_color=(min_sale_2016, max_sale_2022),\n",
    "                                    scope=\"usa\",\n",
    "                                    labels={'median_sale_price':'median sale price'}\n",
    "                                    )\n",
    "\n",
    "fig.update_layout(margin={\"r\":0,\"t\":0,\"l\":0,\"b\":0})\n",
    "\n",
    "fig.show()"
   ]
  },
  {
   "cell_type": "code",
   "execution_count": null,
   "metadata": {},
   "outputs": [],
   "source": [
    "fig1 = px.choropleth(combined_data_2022, geojson = combined_geojson, locations = 'zip_code', color = 'median_sale_price',\n",
    "                                    featureidkey = \"properties.ZCTA5CE10\",\n",
    "                                    color_continuous_scale=\"Viridis\",\n",
    "                                    range_color=(min_sale_2016, max_sale_2022),\n",
    "                                    scope=\"usa\",\n",
    "                                    labels={'median_sale_price':'median sale price'}\n",
    "                                    )\n",
    "\n",
    "fig1.update_layout(margin={\"r\":0,\"t\":0,\"l\":0,\"b\":0})\n",
    "\n",
    "fig1.show()"
   ]
  },
  {
   "cell_type": "code",
   "execution_count": null,
   "metadata": {},
   "outputs": [],
   "source": [
    "#hellow"
   ]
  }
 ],
 "metadata": {
  "kernelspec": {
   "display_name": "Python 3.10.1 64-bit",
   "language": "python",
   "name": "python3"
  },
  "language_info": {
   "codemirror_mode": {
    "name": "ipython",
    "version": 3
   },
   "file_extension": ".py",
   "mimetype": "text/x-python",
   "name": "python",
   "nbconvert_exporter": "python",
   "pygments_lexer": "ipython3",
   "version": "3.10.1"
  },
  "orig_nbformat": 4,
  "vscode": {
   "interpreter": {
    "hash": "aee8b7b246df8f9039afb4144a1f6fd8d2ca17a180786b69acc140d282b71a49"
   }
  }
 },
 "nbformat": 4,
 "nbformat_minor": 2
}
