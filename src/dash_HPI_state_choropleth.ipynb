{
 "cells": [
  {
   "cell_type": "code",
   "execution_count": 1,
   "metadata": {},
   "outputs": [],
   "source": [
    "import pandas as pd\n",
    "import plotly.express as px  # (version 4.7.0 or higher)\n",
    "import plotly.graph_objects as go\n",
    "import dash\n",
    "from dash import Dash, html, dcc\n",
    "# import dash_core_components as dcc \n",
    "# import dash_html_components as html\n",
    "from dash.dependencies import Input, Output, State\n",
    "import datetime\n",
    "\n",
    "# from visualize import Visualize2\n",
    "import random\n",
    "# from google.cloud import bigquery\n",
    "# from google.oauth2 import service_account\n",
    "import pandas as pd\n",
    "import numpy as np\n",
    "import json"
   ]
  },
  {
   "cell_type": "code",
   "execution_count": 2,
   "metadata": {},
   "outputs": [],
   "source": [
    "from google.cloud import bigquery\n",
    "from google.oauth2 import service_account\n",
    "credentials = service_account.Credentials.from_service_account_file(\n",
    "'./chain-coders-5d47d58b2c33.json')\n",
    "\n",
    "project_id = 'chain-coders'\n",
    "client = bigquery.Client(credentials= credentials,project=project_id)\n",
    "# query = \"SELECT * FROM `redfin.redfin-data-state`\"\n",
    "# df = client.query(query).to_dataframe()"
   ]
  },
  {
   "cell_type": "code",
   "execution_count": 3,
   "metadata": {},
   "outputs": [],
   "source": [
    "app = dash.Dash(__name__)"
   ]
  },
  {
   "cell_type": "code",
   "execution_count": 4,
   "metadata": {},
   "outputs": [
    {
     "name": "stderr",
     "output_type": "stream",
     "text": [
      "/var/folders/q5/w70sk57n1wg65pgbm0rks01h0000gp/T/ipykernel_35098/3411183983.py:5: FutureWarning: The default value of regex will change from True to False in a future version.\n",
      "  HPI_state.year_quarter = HPI_state.year_quarter.str.replace(r'(\\d{4})_(\\d)', r'\\1-Q\\2')\n"
     ]
    }
   ],
   "source": [
    "# -- Import and clean data (importing csv into pandas)\n",
    "HPI_state = pd.read_csv('./data/HPI_AT_state.csv', header=None)\n",
    "HPI_state.columns = ['state_abbr', 'year', 'quarter', 'HPI_base_1980']\n",
    "HPI_state['year_quarter'] = HPI_state.year.astype(str)[:]+'-Q'+HPI_state.quarter.astype(str)[:]\n",
    "HPI_state.year_quarter = HPI_state.year_quarter.str.replace(r'(\\d{4})_(\\d)', r'\\1-Q\\2')\n",
    "HPI_state.year_quarter = pd.to_datetime(HPI_state.year_quarter).dt.date\n",
    "df = HPI_state.reindex(['state_abbr', 'year_quarter', 'HPI_base_1980'], axis=1)\n",
    "\n",
    "#property types for drop down\n",
    "property_set = ['']\n",
    "\n",
    "#metric types for dropdown\n",
    "metric_set = ['HPI_base_1980']\n",
    "\n",
    "#dates for slider\n",
    "sorted_dates = np.sort(df['year_quarter'].unique())\n",
    "sorted_dates = ['{}'.format(i) for i in sorted_dates] #convert each date to string within a list\n",
    "counter = 0\n",
    "year = 1975\n",
    "\n",
    "slider_labels = {}\n",
    "#labels for slider\n",
    "for index, date in enumerate(sorted_dates):\n",
    "       if counter == index:\n",
    "              slider_labels['{}'.format(index)] = year\n",
    "              year += 1\n",
    "              counter += 4\n",
    "       else: \n",
    "              slider_labels['{}'.format(index)] = ''\n",
    "\n",
    "# labels = {index: date for index, date in enumerate(sorted_dates)} #labels of dates for slider object\n",
    "\n",
    "#color-scale\n",
    "color_scale = [[0.0, '#edf8fb'],[0.2, '#ccece6'],[0.4, '#99d8c9'],\n",
    "       [0.6, '#66c2a4'],[0.8, '#2ca25f'],[1.0, '#006d2c']] # purples\n"
   ]
  },
  {
   "cell_type": "code",
   "execution_count": null,
   "metadata": {},
   "outputs": [],
   "source": [
    "print(property_set)"
   ]
  },
  {
   "cell_type": "code",
   "execution_count": null,
   "metadata": {},
   "outputs": [],
   "source": [
    "print(sorted_dates)\n",
    "print(len(sorted_dates))"
   ]
  },
  {
   "cell_type": "code",
   "execution_count": null,
   "metadata": {},
   "outputs": [],
   "source": [
    "# line = go.Figure(data=[go.Scatter(x=[1, 2, 3], y=[4, 1, 2])])"
   ]
  },
  {
   "cell_type": "code",
   "execution_count": 5,
   "metadata": {},
   "outputs": [],
   "source": [
    "%store -r state_codes"
   ]
  },
  {
   "cell_type": "code",
   "execution_count": 6,
   "metadata": {},
   "outputs": [],
   "source": [
    "state_codes['MT'] = '30'\n",
    "state_codes['ND'] = '38'\n",
    "state_codes['WY'] = '56'"
   ]
  },
  {
   "cell_type": "code",
   "execution_count": 15,
   "metadata": {},
   "outputs": [],
   "source": [
    "import pickle as pkl"
   ]
  },
  {
   "cell_type": "code",
   "execution_count": null,
   "metadata": {},
   "outputs": [],
   "source": [
    "with open(r\"state_codes.pickle\", \"wb\") as output_file:\n",
    "    pkl.dump(d, output_file)"
   ]
  },
  {
   "cell_type": "code",
   "execution_count": 7,
   "metadata": {},
   "outputs": [],
   "source": [
    "df['state_code'] = df.state_abbr.apply(state_codes.get)"
   ]
  },
  {
   "cell_type": "code",
   "execution_count": 5,
   "metadata": {},
   "outputs": [],
   "source": [
    "df2 = pd.read_csv('pred_HPI_state.csv')"
   ]
  },
  {
   "cell_type": "code",
   "execution_count": 6,
   "metadata": {},
   "outputs": [],
   "source": [
    "df2.year_quarter = pd.to_datetime(df2.year_quarter)"
   ]
  },
  {
   "cell_type": "code",
   "execution_count": 7,
   "metadata": {},
   "outputs": [],
   "source": [
    "df2.rename(columns={'HPI_base_1980': 'predicted', 'test': 'actual'}, inplace=True)"
   ]
  },
  {
   "cell_type": "code",
   "execution_count": null,
   "metadata": {},
   "outputs": [],
   "source": [
    "# temp = df2[(df2['property'] == 'All Residential') & (df2['state'] == 'MN')]\n",
    "# print(temp)"
   ]
  },
  {
   "cell_type": "code",
   "execution_count": 12,
   "metadata": {},
   "outputs": [
    {
     "data": {
      "text/plain": [
       "['1975-01-01',\n",
       " '1975-04-01',\n",
       " '1975-07-01',\n",
       " '1975-10-01',\n",
       " '1976-01-01',\n",
       " '1976-04-01',\n",
       " '1976-07-01',\n",
       " '1976-10-01',\n",
       " '1977-01-01',\n",
       " '1977-04-01',\n",
       " '1977-07-01',\n",
       " '1977-10-01',\n",
       " '1978-01-01',\n",
       " '1978-04-01',\n",
       " '1978-07-01',\n",
       " '1978-10-01',\n",
       " '1979-01-01',\n",
       " '1979-04-01',\n",
       " '1979-07-01',\n",
       " '1979-10-01',\n",
       " '1980-01-01',\n",
       " '1980-04-01',\n",
       " '1980-07-01',\n",
       " '1980-10-01',\n",
       " '1981-01-01',\n",
       " '1981-04-01',\n",
       " '1981-07-01',\n",
       " '1981-10-01',\n",
       " '1982-01-01',\n",
       " '1982-04-01',\n",
       " '1982-07-01',\n",
       " '1982-10-01',\n",
       " '1983-01-01',\n",
       " '1983-04-01',\n",
       " '1983-07-01',\n",
       " '1983-10-01',\n",
       " '1984-01-01',\n",
       " '1984-04-01',\n",
       " '1984-07-01',\n",
       " '1984-10-01',\n",
       " '1985-01-01',\n",
       " '1985-04-01',\n",
       " '1985-07-01',\n",
       " '1985-10-01',\n",
       " '1986-01-01',\n",
       " '1986-04-01',\n",
       " '1986-07-01',\n",
       " '1986-10-01',\n",
       " '1987-01-01',\n",
       " '1987-04-01',\n",
       " '1987-07-01',\n",
       " '1987-10-01',\n",
       " '1988-01-01',\n",
       " '1988-04-01',\n",
       " '1988-07-01',\n",
       " '1988-10-01',\n",
       " '1989-01-01',\n",
       " '1989-04-01',\n",
       " '1989-07-01',\n",
       " '1989-10-01',\n",
       " '1990-01-01',\n",
       " '1990-04-01',\n",
       " '1990-07-01',\n",
       " '1990-10-01',\n",
       " '1991-01-01',\n",
       " '1991-04-01',\n",
       " '1991-07-01',\n",
       " '1991-10-01',\n",
       " '1992-01-01',\n",
       " '1992-04-01',\n",
       " '1992-07-01',\n",
       " '1992-10-01',\n",
       " '1993-01-01',\n",
       " '1993-04-01',\n",
       " '1993-07-01',\n",
       " '1993-10-01',\n",
       " '1994-01-01',\n",
       " '1994-04-01',\n",
       " '1994-07-01',\n",
       " '1994-10-01',\n",
       " '1995-01-01',\n",
       " '1995-04-01',\n",
       " '1995-07-01',\n",
       " '1995-10-01',\n",
       " '1996-01-01',\n",
       " '1996-04-01',\n",
       " '1996-07-01',\n",
       " '1996-10-01',\n",
       " '1997-01-01',\n",
       " '1997-04-01',\n",
       " '1997-07-01',\n",
       " '1997-10-01',\n",
       " '1998-01-01',\n",
       " '1998-04-01',\n",
       " '1998-07-01',\n",
       " '1998-10-01',\n",
       " '1999-01-01',\n",
       " '1999-04-01',\n",
       " '1999-07-01',\n",
       " '1999-10-01',\n",
       " '2000-01-01',\n",
       " '2000-04-01',\n",
       " '2000-07-01',\n",
       " '2000-10-01',\n",
       " '2001-01-01',\n",
       " '2001-04-01',\n",
       " '2001-07-01',\n",
       " '2001-10-01',\n",
       " '2002-01-01',\n",
       " '2002-04-01',\n",
       " '2002-07-01',\n",
       " '2002-10-01',\n",
       " '2003-01-01',\n",
       " '2003-04-01',\n",
       " '2003-07-01',\n",
       " '2003-10-01',\n",
       " '2004-01-01',\n",
       " '2004-04-01',\n",
       " '2004-07-01',\n",
       " '2004-10-01',\n",
       " '2005-01-01',\n",
       " '2005-04-01',\n",
       " '2005-07-01',\n",
       " '2005-10-01',\n",
       " '2006-01-01',\n",
       " '2006-04-01',\n",
       " '2006-07-01',\n",
       " '2006-10-01',\n",
       " '2007-01-01',\n",
       " '2007-04-01',\n",
       " '2007-07-01',\n",
       " '2007-10-01',\n",
       " '2008-01-01',\n",
       " '2008-04-01',\n",
       " '2008-07-01',\n",
       " '2008-10-01',\n",
       " '2009-01-01',\n",
       " '2009-04-01',\n",
       " '2009-07-01',\n",
       " '2009-10-01',\n",
       " '2010-01-01',\n",
       " '2010-04-01',\n",
       " '2010-07-01',\n",
       " '2010-10-01',\n",
       " '2011-01-01',\n",
       " '2011-04-01',\n",
       " '2011-07-01',\n",
       " '2011-10-01',\n",
       " '2012-01-01',\n",
       " '2012-04-01',\n",
       " '2012-07-01',\n",
       " '2012-10-01',\n",
       " '2013-01-01',\n",
       " '2013-04-01',\n",
       " '2013-07-01',\n",
       " '2013-10-01',\n",
       " '2014-01-01',\n",
       " '2014-04-01',\n",
       " '2014-07-01',\n",
       " '2014-10-01',\n",
       " '2015-01-01',\n",
       " '2015-04-01',\n",
       " '2015-07-01',\n",
       " '2015-10-01',\n",
       " '2016-01-01',\n",
       " '2016-04-01',\n",
       " '2016-07-01',\n",
       " '2016-10-01',\n",
       " '2017-01-01',\n",
       " '2017-04-01',\n",
       " '2017-07-01',\n",
       " '2017-10-01',\n",
       " '2018-01-01',\n",
       " '2018-04-01',\n",
       " '2018-07-01',\n",
       " '2018-10-01',\n",
       " '2019-01-01',\n",
       " '2019-04-01',\n",
       " '2019-07-01',\n",
       " '2019-10-01',\n",
       " '2020-01-01',\n",
       " '2020-04-01',\n",
       " '2020-07-01',\n",
       " '2020-10-01',\n",
       " '2021-01-01',\n",
       " '2021-04-01',\n",
       " '2021-07-01',\n",
       " '2021-10-01',\n",
       " '2022-01-01',\n",
       " '2022-04-01']"
      ]
     },
     "execution_count": 12,
     "metadata": {},
     "output_type": "execute_result"
    }
   ],
   "source": [
    "sorted_dates"
   ]
  },
  {
   "cell_type": "code",
   "execution_count": 8,
   "metadata": {},
   "outputs": [],
   "source": [
    "# ------------------------------------------------------------------------------\n",
    "# App layout\n",
    "#what goes inside dash layout are the dash components and any html we need\n",
    "app.layout = html.Div([\n",
    "\n",
    "    html.H1(\"HPI Choropleth Data\", style={'text-align': 'center'}), #html Title\n",
    "\n",
    "#     html.Div(id='output_container', children=[\"Metric\"], style = {'font-weight': 'bold'}),\n",
    "\n",
    "    #components, e.g., drop downs, sliders\n",
    "    #first drop down by metric\n",
    "    dcc.Dropdown(id=\"metric\",\n",
    "                 placeholder = \"Select Metric\",\n",
    "                 options=metric_set,\n",
    "                 value=metric_set[0],\n",
    "                 style={'width': \"60%\",}\n",
    "                 ),\n",
    "\n",
    "    html.Br(), #space between dropdowns\n",
    "\n",
    "#     html.Div(id='output_container', style = {'font-weight': 'bold'}, \n",
    "#     children = [\"Property Type\"]\n",
    "#     ),\n",
    "\n",
    "    #second drop down for property type\n",
    "    dcc.Dropdown(id=\"property_type\",\n",
    "                 placeholder = \"Select Property Type\",\n",
    "                 options=property_set,\n",
    "                 value=property_set[0],\n",
    "                 style={'width': \"60%\"},\n",
    "                 ),\n",
    "\n",
    "    \n",
    "    html.Br(), #space\n",
    "    \n",
    "    #create div element, e.g., text to display dropdown selection\n",
    "    html.Div(id='output_container', children=[]),\n",
    "\n",
    "    html.Br(), #space\n",
    "\n",
    "    #graph object, e.g., choropleth\n",
    "    dcc.Graph(id='choropleth', figure={}),\n",
    "\n",
    "    \n",
    "\n",
    "    #slider object\n",
    "    dcc.Slider(0, len(sorted_dates), step = None, #min value of 0 and max of number of unique dates\n",
    "               value=0, #where the slider starts\n",
    "               marks = slider_labels,\n",
    "               tooltip={\"placement\": \"bottom\", \"always_visible\": True}, #place slider at bottom of graph\n",
    "               id='date_chosen'),\n",
    "\n",
    "    #add line chart\n",
    "    dcc.Graph(id = \"line_chart\", figure = {})\n",
    "\n",
    "])"
   ]
  },
  {
   "cell_type": "code",
   "execution_count": 12,
   "metadata": {},
   "outputs": [
    {
     "name": "stderr",
     "output_type": "stream",
     "text": [
      "/Users/enrico.eduardo/opt/miniconda3/envs/plutho/lib/python3.10/site-packages/pandas/core/ops/array_ops.py:73: FutureWarning: Comparison of Timestamp with datetime.date is deprecated in order to match the standard library behavior. In a future version these will be considered non-comparable. Use 'ts == pd.Timestamp(date)' or 'ts.date() == date' instead.\n",
      "  result = libops.scalar_compare(x.ravel(), y, op)\n"
     ]
    },
    {
     "data": {
      "text/html": [
       "<div>\n",
       "<style scoped>\n",
       "    .dataframe tbody tr th:only-of-type {\n",
       "        vertical-align: middle;\n",
       "    }\n",
       "\n",
       "    .dataframe tbody tr th {\n",
       "        vertical-align: top;\n",
       "    }\n",
       "\n",
       "    .dataframe thead th {\n",
       "        text-align: right;\n",
       "    }\n",
       "</style>\n",
       "<table border=\"1\" class=\"dataframe\">\n",
       "  <thead>\n",
       "    <tr style=\"text-align: right;\">\n",
       "      <th></th>\n",
       "      <th>state_abbr</th>\n",
       "      <th>year_quarter</th>\n",
       "      <th>HPI_base_1980</th>\n",
       "      <th>state_code</th>\n",
       "    </tr>\n",
       "  </thead>\n",
       "  <tbody>\n",
       "    <tr>\n",
       "      <th>0</th>\n",
       "      <td>AK</td>\n",
       "      <td>1975-01-01</td>\n",
       "      <td>62.10</td>\n",
       "      <td>02</td>\n",
       "    </tr>\n",
       "    <tr>\n",
       "      <th>190</th>\n",
       "      <td>AL</td>\n",
       "      <td>1975-01-01</td>\n",
       "      <td>75.03</td>\n",
       "      <td>01</td>\n",
       "    </tr>\n",
       "    <tr>\n",
       "      <th>380</th>\n",
       "      <td>AR</td>\n",
       "      <td>1975-01-01</td>\n",
       "      <td>66.69</td>\n",
       "      <td>05</td>\n",
       "    </tr>\n",
       "    <tr>\n",
       "      <th>570</th>\n",
       "      <td>AZ</td>\n",
       "      <td>1975-01-01</td>\n",
       "      <td>60.50</td>\n",
       "      <td>04</td>\n",
       "    </tr>\n",
       "    <tr>\n",
       "      <th>760</th>\n",
       "      <td>CA</td>\n",
       "      <td>1975-01-01</td>\n",
       "      <td>41.71</td>\n",
       "      <td>06</td>\n",
       "    </tr>\n",
       "    <tr>\n",
       "      <th>950</th>\n",
       "      <td>CO</td>\n",
       "      <td>1975-01-01</td>\n",
       "      <td>54.19</td>\n",
       "      <td>08</td>\n",
       "    </tr>\n",
       "    <tr>\n",
       "      <th>1140</th>\n",
       "      <td>CT</td>\n",
       "      <td>1975-01-01</td>\n",
       "      <td>62.06</td>\n",
       "      <td>09</td>\n",
       "    </tr>\n",
       "    <tr>\n",
       "      <th>1330</th>\n",
       "      <td>DC</td>\n",
       "      <td>1975-01-01</td>\n",
       "      <td>46.56</td>\n",
       "      <td>11</td>\n",
       "    </tr>\n",
       "    <tr>\n",
       "      <th>1520</th>\n",
       "      <td>DE</td>\n",
       "      <td>1975-01-01</td>\n",
       "      <td>77.16</td>\n",
       "      <td>10</td>\n",
       "    </tr>\n",
       "    <tr>\n",
       "      <th>1710</th>\n",
       "      <td>FL</td>\n",
       "      <td>1975-01-01</td>\n",
       "      <td>65.89</td>\n",
       "      <td>12</td>\n",
       "    </tr>\n",
       "    <tr>\n",
       "      <th>1900</th>\n",
       "      <td>GA</td>\n",
       "      <td>1975-01-01</td>\n",
       "      <td>73.87</td>\n",
       "      <td>13</td>\n",
       "    </tr>\n",
       "    <tr>\n",
       "      <th>2090</th>\n",
       "      <td>HI</td>\n",
       "      <td>1975-01-01</td>\n",
       "      <td>66.84</td>\n",
       "      <td>15</td>\n",
       "    </tr>\n",
       "    <tr>\n",
       "      <th>2280</th>\n",
       "      <td>IA</td>\n",
       "      <td>1975-01-01</td>\n",
       "      <td>59.42</td>\n",
       "      <td>19</td>\n",
       "    </tr>\n",
       "    <tr>\n",
       "      <th>2470</th>\n",
       "      <td>ID</td>\n",
       "      <td>1975-01-01</td>\n",
       "      <td>70.11</td>\n",
       "      <td>16</td>\n",
       "    </tr>\n",
       "    <tr>\n",
       "      <th>2660</th>\n",
       "      <td>IL</td>\n",
       "      <td>1975-01-01</td>\n",
       "      <td>66.57</td>\n",
       "      <td>17</td>\n",
       "    </tr>\n",
       "    <tr>\n",
       "      <th>2850</th>\n",
       "      <td>IN</td>\n",
       "      <td>1975-01-01</td>\n",
       "      <td>66.22</td>\n",
       "      <td>18</td>\n",
       "    </tr>\n",
       "    <tr>\n",
       "      <th>3040</th>\n",
       "      <td>KS</td>\n",
       "      <td>1975-01-01</td>\n",
       "      <td>61.87</td>\n",
       "      <td>20</td>\n",
       "    </tr>\n",
       "    <tr>\n",
       "      <th>3230</th>\n",
       "      <td>KY</td>\n",
       "      <td>1975-01-01</td>\n",
       "      <td>64.14</td>\n",
       "      <td>21</td>\n",
       "    </tr>\n",
       "    <tr>\n",
       "      <th>3420</th>\n",
       "      <td>LA</td>\n",
       "      <td>1975-01-01</td>\n",
       "      <td>51.70</td>\n",
       "      <td>22</td>\n",
       "    </tr>\n",
       "    <tr>\n",
       "      <th>3610</th>\n",
       "      <td>MA</td>\n",
       "      <td>1975-01-01</td>\n",
       "      <td>67.86</td>\n",
       "      <td>25</td>\n",
       "    </tr>\n",
       "    <tr>\n",
       "      <th>3800</th>\n",
       "      <td>MD</td>\n",
       "      <td>1975-01-01</td>\n",
       "      <td>61.91</td>\n",
       "      <td>24</td>\n",
       "    </tr>\n",
       "    <tr>\n",
       "      <th>3990</th>\n",
       "      <td>ME</td>\n",
       "      <td>1975-01-01</td>\n",
       "      <td>60.97</td>\n",
       "      <td>23</td>\n",
       "    </tr>\n",
       "    <tr>\n",
       "      <th>4180</th>\n",
       "      <td>MI</td>\n",
       "      <td>1975-01-01</td>\n",
       "      <td>60.25</td>\n",
       "      <td>26</td>\n",
       "    </tr>\n",
       "    <tr>\n",
       "      <th>4370</th>\n",
       "      <td>MN</td>\n",
       "      <td>1975-01-01</td>\n",
       "      <td>55.59</td>\n",
       "      <td>27</td>\n",
       "    </tr>\n",
       "    <tr>\n",
       "      <th>4560</th>\n",
       "      <td>MO</td>\n",
       "      <td>1975-01-01</td>\n",
       "      <td>65.37</td>\n",
       "      <td>29</td>\n",
       "    </tr>\n",
       "    <tr>\n",
       "      <th>4750</th>\n",
       "      <td>MS</td>\n",
       "      <td>1975-01-01</td>\n",
       "      <td>75.22</td>\n",
       "      <td>28</td>\n",
       "    </tr>\n",
       "    <tr>\n",
       "      <th>4940</th>\n",
       "      <td>MT</td>\n",
       "      <td>1975-01-01</td>\n",
       "      <td>57.06</td>\n",
       "      <td>30</td>\n",
       "    </tr>\n",
       "    <tr>\n",
       "      <th>5130</th>\n",
       "      <td>NC</td>\n",
       "      <td>1975-01-01</td>\n",
       "      <td>65.99</td>\n",
       "      <td>37</td>\n",
       "    </tr>\n",
       "    <tr>\n",
       "      <th>5320</th>\n",
       "      <td>ND</td>\n",
       "      <td>1975-01-01</td>\n",
       "      <td>67.53</td>\n",
       "      <td>38</td>\n",
       "    </tr>\n",
       "    <tr>\n",
       "      <th>5510</th>\n",
       "      <td>NE</td>\n",
       "      <td>1975-01-01</td>\n",
       "      <td>63.71</td>\n",
       "      <td>31</td>\n",
       "    </tr>\n",
       "    <tr>\n",
       "      <th>5700</th>\n",
       "      <td>NH</td>\n",
       "      <td>1975-01-01</td>\n",
       "      <td>76.08</td>\n",
       "      <td>33</td>\n",
       "    </tr>\n",
       "    <tr>\n",
       "      <th>5890</th>\n",
       "      <td>NJ</td>\n",
       "      <td>1975-01-01</td>\n",
       "      <td>64.01</td>\n",
       "      <td>34</td>\n",
       "    </tr>\n",
       "    <tr>\n",
       "      <th>6080</th>\n",
       "      <td>NM</td>\n",
       "      <td>1975-01-01</td>\n",
       "      <td>56.94</td>\n",
       "      <td>35</td>\n",
       "    </tr>\n",
       "    <tr>\n",
       "      <th>6270</th>\n",
       "      <td>NV</td>\n",
       "      <td>1975-01-01</td>\n",
       "      <td>52.24</td>\n",
       "      <td>32</td>\n",
       "    </tr>\n",
       "    <tr>\n",
       "      <th>6460</th>\n",
       "      <td>NY</td>\n",
       "      <td>1975-01-01</td>\n",
       "      <td>78.32</td>\n",
       "      <td>36</td>\n",
       "    </tr>\n",
       "    <tr>\n",
       "      <th>6650</th>\n",
       "      <td>OH</td>\n",
       "      <td>1975-01-01</td>\n",
       "      <td>65.00</td>\n",
       "      <td>39</td>\n",
       "    </tr>\n",
       "    <tr>\n",
       "      <th>6840</th>\n",
       "      <td>OK</td>\n",
       "      <td>1975-01-01</td>\n",
       "      <td>52.01</td>\n",
       "      <td>40</td>\n",
       "    </tr>\n",
       "    <tr>\n",
       "      <th>7030</th>\n",
       "      <td>OR</td>\n",
       "      <td>1975-01-01</td>\n",
       "      <td>51.20</td>\n",
       "      <td>41</td>\n",
       "    </tr>\n",
       "    <tr>\n",
       "      <th>7220</th>\n",
       "      <td>PA</td>\n",
       "      <td>1975-01-01</td>\n",
       "      <td>70.76</td>\n",
       "      <td>42</td>\n",
       "    </tr>\n",
       "    <tr>\n",
       "      <th>7410</th>\n",
       "      <td>RI</td>\n",
       "      <td>1975-01-01</td>\n",
       "      <td>61.35</td>\n",
       "      <td>44</td>\n",
       "    </tr>\n",
       "    <tr>\n",
       "      <th>7600</th>\n",
       "      <td>SC</td>\n",
       "      <td>1975-01-01</td>\n",
       "      <td>75.24</td>\n",
       "      <td>45</td>\n",
       "    </tr>\n",
       "    <tr>\n",
       "      <th>7790</th>\n",
       "      <td>SD</td>\n",
       "      <td>1975-01-01</td>\n",
       "      <td>75.07</td>\n",
       "      <td>46</td>\n",
       "    </tr>\n",
       "    <tr>\n",
       "      <th>7980</th>\n",
       "      <td>TN</td>\n",
       "      <td>1975-01-01</td>\n",
       "      <td>68.08</td>\n",
       "      <td>47</td>\n",
       "    </tr>\n",
       "    <tr>\n",
       "      <th>8170</th>\n",
       "      <td>TX</td>\n",
       "      <td>1975-01-01</td>\n",
       "      <td>55.59</td>\n",
       "      <td>48</td>\n",
       "    </tr>\n",
       "    <tr>\n",
       "      <th>8360</th>\n",
       "      <td>UT</td>\n",
       "      <td>1975-01-01</td>\n",
       "      <td>55.02</td>\n",
       "      <td>49</td>\n",
       "    </tr>\n",
       "    <tr>\n",
       "      <th>8550</th>\n",
       "      <td>VA</td>\n",
       "      <td>1975-01-01</td>\n",
       "      <td>69.81</td>\n",
       "      <td>51</td>\n",
       "    </tr>\n",
       "    <tr>\n",
       "      <th>8740</th>\n",
       "      <td>VT</td>\n",
       "      <td>1975-01-01</td>\n",
       "      <td>77.36</td>\n",
       "      <td>50</td>\n",
       "    </tr>\n",
       "    <tr>\n",
       "      <th>8930</th>\n",
       "      <td>WA</td>\n",
       "      <td>1975-01-01</td>\n",
       "      <td>46.22</td>\n",
       "      <td>53</td>\n",
       "    </tr>\n",
       "    <tr>\n",
       "      <th>9120</th>\n",
       "      <td>WI</td>\n",
       "      <td>1975-01-01</td>\n",
       "      <td>61.86</td>\n",
       "      <td>55</td>\n",
       "    </tr>\n",
       "    <tr>\n",
       "      <th>9310</th>\n",
       "      <td>WV</td>\n",
       "      <td>1975-01-01</td>\n",
       "      <td>50.19</td>\n",
       "      <td>54</td>\n",
       "    </tr>\n",
       "    <tr>\n",
       "      <th>9500</th>\n",
       "      <td>WY</td>\n",
       "      <td>1975-01-01</td>\n",
       "      <td>49.31</td>\n",
       "      <td>56</td>\n",
       "    </tr>\n",
       "  </tbody>\n",
       "</table>\n",
       "</div>"
      ],
      "text/plain": [
       "     state_abbr year_quarter  HPI_base_1980 state_code\n",
       "0            AK   1975-01-01          62.10         02\n",
       "190          AL   1975-01-01          75.03         01\n",
       "380          AR   1975-01-01          66.69         05\n",
       "570          AZ   1975-01-01          60.50         04\n",
       "760          CA   1975-01-01          41.71         06\n",
       "950          CO   1975-01-01          54.19         08\n",
       "1140         CT   1975-01-01          62.06         09\n",
       "1330         DC   1975-01-01          46.56         11\n",
       "1520         DE   1975-01-01          77.16         10\n",
       "1710         FL   1975-01-01          65.89         12\n",
       "1900         GA   1975-01-01          73.87         13\n",
       "2090         HI   1975-01-01          66.84         15\n",
       "2280         IA   1975-01-01          59.42         19\n",
       "2470         ID   1975-01-01          70.11         16\n",
       "2660         IL   1975-01-01          66.57         17\n",
       "2850         IN   1975-01-01          66.22         18\n",
       "3040         KS   1975-01-01          61.87         20\n",
       "3230         KY   1975-01-01          64.14         21\n",
       "3420         LA   1975-01-01          51.70         22\n",
       "3610         MA   1975-01-01          67.86         25\n",
       "3800         MD   1975-01-01          61.91         24\n",
       "3990         ME   1975-01-01          60.97         23\n",
       "4180         MI   1975-01-01          60.25         26\n",
       "4370         MN   1975-01-01          55.59         27\n",
       "4560         MO   1975-01-01          65.37         29\n",
       "4750         MS   1975-01-01          75.22         28\n",
       "4940         MT   1975-01-01          57.06         30\n",
       "5130         NC   1975-01-01          65.99         37\n",
       "5320         ND   1975-01-01          67.53         38\n",
       "5510         NE   1975-01-01          63.71         31\n",
       "5700         NH   1975-01-01          76.08         33\n",
       "5890         NJ   1975-01-01          64.01         34\n",
       "6080         NM   1975-01-01          56.94         35\n",
       "6270         NV   1975-01-01          52.24         32\n",
       "6460         NY   1975-01-01          78.32         36\n",
       "6650         OH   1975-01-01          65.00         39\n",
       "6840         OK   1975-01-01          52.01         40\n",
       "7030         OR   1975-01-01          51.20         41\n",
       "7220         PA   1975-01-01          70.76         42\n",
       "7410         RI   1975-01-01          61.35         44\n",
       "7600         SC   1975-01-01          75.24         45\n",
       "7790         SD   1975-01-01          75.07         46\n",
       "7980         TN   1975-01-01          68.08         47\n",
       "8170         TX   1975-01-01          55.59         48\n",
       "8360         UT   1975-01-01          55.02         49\n",
       "8550         VA   1975-01-01          69.81         51\n",
       "8740         VT   1975-01-01          77.36         50\n",
       "8930         WA   1975-01-01          46.22         53\n",
       "9120         WI   1975-01-01          61.86         55\n",
       "9310         WV   1975-01-01          50.19         54\n",
       "9500         WY   1975-01-01          49.31         56"
      ]
     },
     "execution_count": 12,
     "metadata": {},
     "output_type": "execute_result"
    }
   ],
   "source": [
    "df[df.year_quarter==pd.to_datetime(sorted_dates[0])]"
   ]
  },
  {
   "cell_type": "code",
   "execution_count": 9,
   "metadata": {},
   "outputs": [],
   "source": [
    "@app.callback(\n",
    "    Output(component_id='output_container', component_property='children'),\n",
    "    Output(component_id='choropleth', component_property='figure'),\n",
    "    Output(component_id = 'line_chart', component_property = 'figure'),\n",
    "    Input(component_id='property_type', component_property='value'),\n",
    "    Input(component_id = 'metric', component_property = 'value'),\n",
    "    Input(component_id='date_chosen', component_property='value'),\n",
    "    Input(component_id = 'choropleth', component_property = 'hoverData'))\n",
    "\n",
    "\n",
    "def update_graph(property_type, metric, date_chosen, hover):\n",
    "    print(property_type)\n",
    "    print(type(property_type))\n",
    "    # print(hover)\n",
    "    # print(type(hover))\n",
    "\n",
    "    container = \"Date Selected: {}\".format(sorted_dates[date_chosen])\n",
    "\n",
    "    dff = df.copy()\n",
    "    dff = dff[dff['year_quarter'] == pd.to_datetime(sorted_dates[date_chosen])]\n",
    "\n",
    "    # Plotly Express\n",
    "    fig = px.choropleth(\n",
    "        data_frame=dff,\n",
    "        locationmode='USA-states',\n",
    "        locations='state_abbr',\n",
    "        scope=\"usa\",\n",
    "        color='{}'.format(metric),\n",
    "        hover_data=['state_abbr', '{}'.format(metric)],\n",
    "        color_continuous_scale= color_scale\n",
    "    )\n",
    "\n",
    "    if type(hover) == dict:\n",
    "        hover_state = hover['points'][0]['customdata'][0]\n",
    "        hover_df = df2[df2['state'] == hover_state]\n",
    "        # hover_df = hover_df[['year', '{}'.format(metric)]]\n",
    "        # hover_x = hover_df['year'].values.tolist()\n",
    "        # hover_y = hover_df['{}'.format(metric)].values.tolist()\n",
    "        # hover_y = [int(year) for year in hover_y]\n",
    "        line_data = px.line(hover_df, x = \"year_quarter\", y = ['predicted', 'actual'], title = '{fmetric} for {fstate}'.format(fmetric = metric, fstate = hover_state))\n",
    "        # line_data = go.Figure(data=[go.Scatter(x=hover_x, y=hover_y)])\n",
    "        result = line_data\n",
    "    else:\n",
    "        result = []\n",
    "\n",
    "    return container, fig, result"
   ]
  },
  {
   "cell_type": "code",
   "execution_count": null,
   "metadata": {},
   "outputs": [
    {
     "name": "stdout",
     "output_type": "stream",
     "text": [
      "Dash is running on http://127.0.0.1:8050/\n",
      "\n",
      " * Serving Flask app '__main__'\n",
      " * Debug mode: off\n"
     ]
    },
    {
     "name": "stderr",
     "output_type": "stream",
     "text": [
      "WARNING: This is a development server. Do not use it in a production deployment. Use a production WSGI server instead.\n",
      " * Running on http://127.0.0.1:8050\n",
      "Press CTRL+C to quit\n",
      "127.0.0.1 - - [04/Dec/2022 00:05:49] \"GET / HTTP/1.1\" 200 -\n",
      "127.0.0.1 - - [04/Dec/2022 00:05:49] \"GET /_dash-layout HTTP/1.1\" 200 -\n",
      "127.0.0.1 - - [04/Dec/2022 00:05:49] \"GET /_dash-dependencies HTTP/1.1\" 200 -\n",
      "127.0.0.1 - - [04/Dec/2022 00:05:49] \"GET /_dash-component-suites/dash/dcc/async-graph.js HTTP/1.1\" 304 -\n",
      "127.0.0.1 - - [04/Dec/2022 00:05:49] \"GET /_dash-component-suites/dash/dcc/async-dropdown.js HTTP/1.1\" 304 -\n",
      "127.0.0.1 - - [04/Dec/2022 00:05:49] \"GET /_dash-component-suites/dash/dcc/async-slider.js HTTP/1.1\" 304 -\n",
      "127.0.0.1 - - [04/Dec/2022 00:05:49] \"GET /_dash-component-suites/dash/dcc/async-plotlyjs.js HTTP/1.1\" 304 -\n",
      "/Users/enrico.eduardo/opt/miniconda3/envs/plutho/lib/python3.10/site-packages/pandas/core/ops/array_ops.py:73: FutureWarning:\n",
      "\n",
      "Comparison of Timestamp with datetime.date is deprecated in order to match the standard library behavior. In a future version these will be considered non-comparable. Use 'ts == pd.Timestamp(date)' or 'ts.date() == date' instead.\n",
      "\n",
      "127.0.0.1 - - [04/Dec/2022 00:05:49] \"GET /assets/fonts/d7d7b8359eeb9cddfba6.ttf HTTP/1.1\" 404 -\n"
     ]
    },
    {
     "name": "stdout",
     "output_type": "stream",
     "text": [
      "\n",
      "<class 'str'>\n"
     ]
    },
    {
     "name": "stderr",
     "output_type": "stream",
     "text": [
      "127.0.0.1 - - [04/Dec/2022 00:05:50] \"POST /_dash-update-component HTTP/1.1\" 200 -\n",
      "/Users/enrico.eduardo/opt/miniconda3/envs/plutho/lib/python3.10/site-packages/pandas/core/ops/array_ops.py:73: FutureWarning:\n",
      "\n",
      "Comparison of Timestamp with datetime.date is deprecated in order to match the standard library behavior. In a future version these will be considered non-comparable. Use 'ts == pd.Timestamp(date)' or 'ts.date() == date' instead.\n",
      "\n",
      "/Users/enrico.eduardo/opt/miniconda3/envs/plutho/lib/python3.10/site-packages/pandas/core/ops/array_ops.py:73: FutureWarning:\n",
      "\n",
      "Comparison of Timestamp with datetime.date is deprecated in order to match the standard library behavior. In a future version these will be considered non-comparable. Use 'ts == pd.Timestamp(date)' or 'ts.date() == date' instead.\n",
      "\n",
      "127.0.0.1 - - [04/Dec/2022 00:05:53] \"POST /_dash-update-component HTTP/1.1\" 200 -\n",
      "127.0.0.1 - - [04/Dec/2022 00:05:53] \"POST /_dash-update-component HTTP/1.1\" 200 -\n"
     ]
    },
    {
     "name": "stdout",
     "output_type": "stream",
     "text": [
      "\n",
      "<class 'str'>\n",
      "\n",
      "<class 'str'>\n"
     ]
    },
    {
     "name": "stderr",
     "output_type": "stream",
     "text": [
      "/Users/enrico.eduardo/opt/miniconda3/envs/plutho/lib/python3.10/site-packages/pandas/core/ops/array_ops.py:73: FutureWarning:\n",
      "\n",
      "Comparison of Timestamp with datetime.date is deprecated in order to match the standard library behavior. In a future version these will be considered non-comparable. Use 'ts == pd.Timestamp(date)' or 'ts.date() == date' instead.\n",
      "\n",
      "127.0.0.1 - - [04/Dec/2022 00:05:53] \"POST /_dash-update-component HTTP/1.1\" 200 -\n",
      "/Users/enrico.eduardo/opt/miniconda3/envs/plutho/lib/python3.10/site-packages/pandas/core/ops/array_ops.py:73: FutureWarning:\n",
      "\n",
      "Comparison of Timestamp with datetime.date is deprecated in order to match the standard library behavior. In a future version these will be considered non-comparable. Use 'ts == pd.Timestamp(date)' or 'ts.date() == date' instead.\n",
      "\n",
      "127.0.0.1 - - [04/Dec/2022 00:05:53] \"POST /_dash-update-component HTTP/1.1\" 200 -\n"
     ]
    },
    {
     "name": "stdout",
     "output_type": "stream",
     "text": [
      "\n",
      "<class 'str'>\n",
      "\n",
      "<class 'str'>\n"
     ]
    },
    {
     "name": "stderr",
     "output_type": "stream",
     "text": [
      "/Users/enrico.eduardo/opt/miniconda3/envs/plutho/lib/python3.10/site-packages/pandas/core/ops/array_ops.py:73: FutureWarning:\n",
      "\n",
      "Comparison of Timestamp with datetime.date is deprecated in order to match the standard library behavior. In a future version these will be considered non-comparable. Use 'ts == pd.Timestamp(date)' or 'ts.date() == date' instead.\n",
      "\n",
      "127.0.0.1 - - [04/Dec/2022 00:05:54] \"POST /_dash-update-component HTTP/1.1\" 200 -\n"
     ]
    },
    {
     "name": "stdout",
     "output_type": "stream",
     "text": [
      "\n",
      "<class 'str'>\n"
     ]
    },
    {
     "name": "stderr",
     "output_type": "stream",
     "text": [
      "/Users/enrico.eduardo/opt/miniconda3/envs/plutho/lib/python3.10/site-packages/pandas/core/ops/array_ops.py:73: FutureWarning:\n",
      "\n",
      "Comparison of Timestamp with datetime.date is deprecated in order to match the standard library behavior. In a future version these will be considered non-comparable. Use 'ts == pd.Timestamp(date)' or 'ts.date() == date' instead.\n",
      "\n",
      "/Users/enrico.eduardo/opt/miniconda3/envs/plutho/lib/python3.10/site-packages/pandas/core/ops/array_ops.py:73: FutureWarning:\n",
      "\n",
      "Comparison of Timestamp with datetime.date is deprecated in order to match the standard library behavior. In a future version these will be considered non-comparable. Use 'ts == pd.Timestamp(date)' or 'ts.date() == date' instead.\n",
      "\n",
      "127.0.0.1 - - [04/Dec/2022 00:05:57] \"POST /_dash-update-component HTTP/1.1\" 200 -\n",
      "127.0.0.1 - - [04/Dec/2022 00:05:57] \"POST /_dash-update-component HTTP/1.1\" 200 -\n"
     ]
    },
    {
     "name": "stdout",
     "output_type": "stream",
     "text": [
      "\n",
      "<class 'str'>\n",
      "\n",
      "<class 'str'>\n"
     ]
    },
    {
     "name": "stderr",
     "output_type": "stream",
     "text": [
      "/Users/enrico.eduardo/opt/miniconda3/envs/plutho/lib/python3.10/site-packages/pandas/core/ops/array_ops.py:73: FutureWarning:\n",
      "\n",
      "Comparison of Timestamp with datetime.date is deprecated in order to match the standard library behavior. In a future version these will be considered non-comparable. Use 'ts == pd.Timestamp(date)' or 'ts.date() == date' instead.\n",
      "\n",
      "127.0.0.1 - - [04/Dec/2022 00:05:57] \"POST /_dash-update-component HTTP/1.1\" 200 -\n"
     ]
    },
    {
     "name": "stdout",
     "output_type": "stream",
     "text": [
      "\n",
      "<class 'str'>\n"
     ]
    },
    {
     "name": "stderr",
     "output_type": "stream",
     "text": [
      "/Users/enrico.eduardo/opt/miniconda3/envs/plutho/lib/python3.10/site-packages/pandas/core/ops/array_ops.py:73: FutureWarning:\n",
      "\n",
      "Comparison of Timestamp with datetime.date is deprecated in order to match the standard library behavior. In a future version these will be considered non-comparable. Use 'ts == pd.Timestamp(date)' or 'ts.date() == date' instead.\n",
      "\n",
      "127.0.0.1 - - [04/Dec/2022 00:05:58] \"POST /_dash-update-component HTTP/1.1\" 200 -\n"
     ]
    },
    {
     "name": "stdout",
     "output_type": "stream",
     "text": [
      "\n",
      "<class 'str'>\n"
     ]
    },
    {
     "name": "stderr",
     "output_type": "stream",
     "text": [
      "/Users/enrico.eduardo/opt/miniconda3/envs/plutho/lib/python3.10/site-packages/pandas/core/ops/array_ops.py:73: FutureWarning:\n",
      "\n",
      "Comparison of Timestamp with datetime.date is deprecated in order to match the standard library behavior. In a future version these will be considered non-comparable. Use 'ts == pd.Timestamp(date)' or 'ts.date() == date' instead.\n",
      "\n",
      "127.0.0.1 - - [04/Dec/2022 00:05:58] \"POST /_dash-update-component HTTP/1.1\" 200 -\n"
     ]
    },
    {
     "name": "stdout",
     "output_type": "stream",
     "text": [
      "\n",
      "<class 'str'>\n"
     ]
    },
    {
     "name": "stderr",
     "output_type": "stream",
     "text": [
      "/Users/enrico.eduardo/opt/miniconda3/envs/plutho/lib/python3.10/site-packages/pandas/core/ops/array_ops.py:73: FutureWarning:\n",
      "\n",
      "Comparison of Timestamp with datetime.date is deprecated in order to match the standard library behavior. In a future version these will be considered non-comparable. Use 'ts == pd.Timestamp(date)' or 'ts.date() == date' instead.\n",
      "\n",
      "127.0.0.1 - - [04/Dec/2022 00:05:58] \"POST /_dash-update-component HTTP/1.1\" 200 -\n"
     ]
    },
    {
     "name": "stdout",
     "output_type": "stream",
     "text": [
      "\n",
      "<class 'str'>\n"
     ]
    },
    {
     "name": "stderr",
     "output_type": "stream",
     "text": [
      "/Users/enrico.eduardo/opt/miniconda3/envs/plutho/lib/python3.10/site-packages/pandas/core/ops/array_ops.py:73: FutureWarning:\n",
      "\n",
      "Comparison of Timestamp with datetime.date is deprecated in order to match the standard library behavior. In a future version these will be considered non-comparable. Use 'ts == pd.Timestamp(date)' or 'ts.date() == date' instead.\n",
      "\n",
      "127.0.0.1 - - [04/Dec/2022 00:05:59] \"POST /_dash-update-component HTTP/1.1\" 200 -\n"
     ]
    },
    {
     "name": "stdout",
     "output_type": "stream",
     "text": [
      "\n",
      "<class 'str'>\n"
     ]
    },
    {
     "name": "stderr",
     "output_type": "stream",
     "text": [
      "/Users/enrico.eduardo/opt/miniconda3/envs/plutho/lib/python3.10/site-packages/pandas/core/ops/array_ops.py:73: FutureWarning:\n",
      "\n",
      "Comparison of Timestamp with datetime.date is deprecated in order to match the standard library behavior. In a future version these will be considered non-comparable. Use 'ts == pd.Timestamp(date)' or 'ts.date() == date' instead.\n",
      "\n",
      "127.0.0.1 - - [04/Dec/2022 00:06:00] \"POST /_dash-update-component HTTP/1.1\" 200 -\n"
     ]
    },
    {
     "name": "stdout",
     "output_type": "stream",
     "text": [
      "\n",
      "<class 'str'>\n",
      "\n",
      "<class 'str'>\n"
     ]
    },
    {
     "name": "stderr",
     "output_type": "stream",
     "text": [
      "/Users/enrico.eduardo/opt/miniconda3/envs/plutho/lib/python3.10/site-packages/pandas/core/ops/array_ops.py:73: FutureWarning:\n",
      "\n",
      "Comparison of Timestamp with datetime.date is deprecated in order to match the standard library behavior. In a future version these will be considered non-comparable. Use 'ts == pd.Timestamp(date)' or 'ts.date() == date' instead.\n",
      "\n",
      "127.0.0.1 - - [04/Dec/2022 00:06:00] \"POST /_dash-update-component HTTP/1.1\" 200 -\n",
      "/Users/enrico.eduardo/opt/miniconda3/envs/plutho/lib/python3.10/site-packages/pandas/core/ops/array_ops.py:73: FutureWarning:\n",
      "\n",
      "Comparison of Timestamp with datetime.date is deprecated in order to match the standard library behavior. In a future version these will be considered non-comparable. Use 'ts == pd.Timestamp(date)' or 'ts.date() == date' instead.\n",
      "\n",
      "127.0.0.1 - - [04/Dec/2022 00:06:00] \"POST /_dash-update-component HTTP/1.1\" 200 -\n",
      "/Users/enrico.eduardo/opt/miniconda3/envs/plutho/lib/python3.10/site-packages/pandas/core/ops/array_ops.py:73: FutureWarning:\n",
      "\n",
      "Comparison of Timestamp with datetime.date is deprecated in order to match the standard library behavior. In a future version these will be considered non-comparable. Use 'ts == pd.Timestamp(date)' or 'ts.date() == date' instead.\n",
      "\n",
      "127.0.0.1 - - [04/Dec/2022 00:06:00] \"POST /_dash-update-component HTTP/1.1\" 200 -\n"
     ]
    },
    {
     "name": "stdout",
     "output_type": "stream",
     "text": [
      "\n",
      "<class 'str'>\n",
      "\n",
      "<class 'str'>\n"
     ]
    },
    {
     "name": "stderr",
     "output_type": "stream",
     "text": [
      "/Users/enrico.eduardo/opt/miniconda3/envs/plutho/lib/python3.10/site-packages/pandas/core/ops/array_ops.py:73: FutureWarning:\n",
      "\n",
      "Comparison of Timestamp with datetime.date is deprecated in order to match the standard library behavior. In a future version these will be considered non-comparable. Use 'ts == pd.Timestamp(date)' or 'ts.date() == date' instead.\n",
      "\n",
      "127.0.0.1 - - [04/Dec/2022 00:06:04] \"POST /_dash-update-component HTTP/1.1\" 200 -\n"
     ]
    },
    {
     "name": "stdout",
     "output_type": "stream",
     "text": [
      "\n",
      "<class 'str'>\n"
     ]
    },
    {
     "name": "stderr",
     "output_type": "stream",
     "text": [
      "/Users/enrico.eduardo/opt/miniconda3/envs/plutho/lib/python3.10/site-packages/pandas/core/ops/array_ops.py:73: FutureWarning:\n",
      "\n",
      "Comparison of Timestamp with datetime.date is deprecated in order to match the standard library behavior. In a future version these will be considered non-comparable. Use 'ts == pd.Timestamp(date)' or 'ts.date() == date' instead.\n",
      "\n",
      "127.0.0.1 - - [04/Dec/2022 00:06:04] \"POST /_dash-update-component HTTP/1.1\" 200 -\n",
      "/Users/enrico.eduardo/opt/miniconda3/envs/plutho/lib/python3.10/site-packages/pandas/core/ops/array_ops.py:73: FutureWarning:\n",
      "\n",
      "Comparison of Timestamp with datetime.date is deprecated in order to match the standard library behavior. In a future version these will be considered non-comparable. Use 'ts == pd.Timestamp(date)' or 'ts.date() == date' instead.\n",
      "\n",
      "127.0.0.1 - - [04/Dec/2022 00:06:04] \"POST /_dash-update-component HTTP/1.1\" 200 -\n",
      "/Users/enrico.eduardo/opt/miniconda3/envs/plutho/lib/python3.10/site-packages/pandas/core/ops/array_ops.py:73: FutureWarning:\n",
      "\n",
      "Comparison of Timestamp with datetime.date is deprecated in order to match the standard library behavior. In a future version these will be considered non-comparable. Use 'ts == pd.Timestamp(date)' or 'ts.date() == date' instead.\n",
      "\n",
      "127.0.0.1 - - [04/Dec/2022 00:06:04] \"POST /_dash-update-component HTTP/1.1\" 200 -\n"
     ]
    },
    {
     "name": "stdout",
     "output_type": "stream",
     "text": [
      "\n",
      "<class 'str'>\n",
      "\n",
      "<class 'str'>\n",
      "\n",
      "<class 'str'>\n"
     ]
    },
    {
     "name": "stderr",
     "output_type": "stream",
     "text": [
      "/Users/enrico.eduardo/opt/miniconda3/envs/plutho/lib/python3.10/site-packages/pandas/core/ops/array_ops.py:73: FutureWarning:\n",
      "\n",
      "Comparison of Timestamp with datetime.date is deprecated in order to match the standard library behavior. In a future version these will be considered non-comparable. Use 'ts == pd.Timestamp(date)' or 'ts.date() == date' instead.\n",
      "\n",
      "127.0.0.1 - - [04/Dec/2022 00:06:06] \"POST /_dash-update-component HTTP/1.1\" 200 -\n"
     ]
    },
    {
     "name": "stdout",
     "output_type": "stream",
     "text": [
      "\n",
      "<class 'str'>\n"
     ]
    },
    {
     "name": "stderr",
     "output_type": "stream",
     "text": [
      "/Users/enrico.eduardo/opt/miniconda3/envs/plutho/lib/python3.10/site-packages/pandas/core/ops/array_ops.py:73: FutureWarning:\n",
      "\n",
      "Comparison of Timestamp with datetime.date is deprecated in order to match the standard library behavior. In a future version these will be considered non-comparable. Use 'ts == pd.Timestamp(date)' or 'ts.date() == date' instead.\n",
      "\n",
      "127.0.0.1 - - [04/Dec/2022 00:08:52] \"POST /_dash-update-component HTTP/1.1\" 200 -\n"
     ]
    },
    {
     "name": "stdout",
     "output_type": "stream",
     "text": [
      "\n",
      "<class 'str'>\n"
     ]
    },
    {
     "name": "stderr",
     "output_type": "stream",
     "text": [
      "/Users/enrico.eduardo/opt/miniconda3/envs/plutho/lib/python3.10/site-packages/pandas/core/ops/array_ops.py:73: FutureWarning:\n",
      "\n",
      "Comparison of Timestamp with datetime.date is deprecated in order to match the standard library behavior. In a future version these will be considered non-comparable. Use 'ts == pd.Timestamp(date)' or 'ts.date() == date' instead.\n",
      "\n",
      "127.0.0.1 - - [04/Dec/2022 00:08:53] \"POST /_dash-update-component HTTP/1.1\" 200 -\n",
      "/Users/enrico.eduardo/opt/miniconda3/envs/plutho/lib/python3.10/site-packages/pandas/core/ops/array_ops.py:73: FutureWarning:\n",
      "\n",
      "Comparison of Timestamp with datetime.date is deprecated in order to match the standard library behavior. In a future version these will be considered non-comparable. Use 'ts == pd.Timestamp(date)' or 'ts.date() == date' instead.\n",
      "\n",
      "127.0.0.1 - - [04/Dec/2022 00:08:53] \"POST /_dash-update-component HTTP/1.1\" 200 -\n"
     ]
    },
    {
     "name": "stdout",
     "output_type": "stream",
     "text": [
      "\n",
      "<class 'str'>\n",
      "\n",
      "<class 'str'>\n"
     ]
    },
    {
     "name": "stderr",
     "output_type": "stream",
     "text": [
      "/Users/enrico.eduardo/opt/miniconda3/envs/plutho/lib/python3.10/site-packages/pandas/core/ops/array_ops.py:73: FutureWarning:\n",
      "\n",
      "Comparison of Timestamp with datetime.date is deprecated in order to match the standard library behavior. In a future version these will be considered non-comparable. Use 'ts == pd.Timestamp(date)' or 'ts.date() == date' instead.\n",
      "\n",
      "127.0.0.1 - - [04/Dec/2022 00:08:53] \"POST /_dash-update-component HTTP/1.1\" 200 -\n"
     ]
    },
    {
     "name": "stdout",
     "output_type": "stream",
     "text": [
      "\n",
      "<class 'str'>\n"
     ]
    },
    {
     "name": "stderr",
     "output_type": "stream",
     "text": [
      "/Users/enrico.eduardo/opt/miniconda3/envs/plutho/lib/python3.10/site-packages/pandas/core/ops/array_ops.py:73: FutureWarning:\n",
      "\n",
      "Comparison of Timestamp with datetime.date is deprecated in order to match the standard library behavior. In a future version these will be considered non-comparable. Use 'ts == pd.Timestamp(date)' or 'ts.date() == date' instead.\n",
      "\n",
      "127.0.0.1 - - [04/Dec/2022 00:08:53] \"POST /_dash-update-component HTTP/1.1\" 200 -\n",
      "/Users/enrico.eduardo/opt/miniconda3/envs/plutho/lib/python3.10/site-packages/pandas/core/ops/array_ops.py:73: FutureWarning:\n",
      "\n",
      "Comparison of Timestamp with datetime.date is deprecated in order to match the standard library behavior. In a future version these will be considered non-comparable. Use 'ts == pd.Timestamp(date)' or 'ts.date() == date' instead.\n",
      "\n",
      "127.0.0.1 - - [04/Dec/2022 00:08:54] \"POST /_dash-update-component HTTP/1.1\" 200 -\n"
     ]
    },
    {
     "name": "stdout",
     "output_type": "stream",
     "text": [
      "\n",
      "<class 'str'>\n",
      "\n",
      "<class 'str'>\n"
     ]
    },
    {
     "name": "stderr",
     "output_type": "stream",
     "text": [
      "/Users/enrico.eduardo/opt/miniconda3/envs/plutho/lib/python3.10/site-packages/pandas/core/ops/array_ops.py:73: FutureWarning:\n",
      "\n",
      "Comparison of Timestamp with datetime.date is deprecated in order to match the standard library behavior. In a future version these will be considered non-comparable. Use 'ts == pd.Timestamp(date)' or 'ts.date() == date' instead.\n",
      "\n",
      "127.0.0.1 - - [04/Dec/2022 00:08:55] \"POST /_dash-update-component HTTP/1.1\" 200 -\n"
     ]
    },
    {
     "name": "stdout",
     "output_type": "stream",
     "text": [
      "\n",
      "<class 'str'>\n"
     ]
    },
    {
     "name": "stderr",
     "output_type": "stream",
     "text": [
      "/Users/enrico.eduardo/opt/miniconda3/envs/plutho/lib/python3.10/site-packages/pandas/core/ops/array_ops.py:73: FutureWarning:\n",
      "\n",
      "Comparison of Timestamp with datetime.date is deprecated in order to match the standard library behavior. In a future version these will be considered non-comparable. Use 'ts == pd.Timestamp(date)' or 'ts.date() == date' instead.\n",
      "\n",
      "127.0.0.1 - - [04/Dec/2022 00:08:56] \"POST /_dash-update-component HTTP/1.1\" 200 -\n"
     ]
    },
    {
     "name": "stdout",
     "output_type": "stream",
     "text": [
      "\n",
      "<class 'str'>\n"
     ]
    },
    {
     "name": "stderr",
     "output_type": "stream",
     "text": [
      "/Users/enrico.eduardo/opt/miniconda3/envs/plutho/lib/python3.10/site-packages/pandas/core/ops/array_ops.py:73: FutureWarning:\n",
      "\n",
      "Comparison of Timestamp with datetime.date is deprecated in order to match the standard library behavior. In a future version these will be considered non-comparable. Use 'ts == pd.Timestamp(date)' or 'ts.date() == date' instead.\n",
      "\n",
      "127.0.0.1 - - [04/Dec/2022 00:08:57] \"POST /_dash-update-component HTTP/1.1\" 200 -\n"
     ]
    },
    {
     "name": "stdout",
     "output_type": "stream",
     "text": [
      "\n",
      "<class 'str'>\n",
      "\n",
      "<class 'str'>\n"
     ]
    },
    {
     "name": "stderr",
     "output_type": "stream",
     "text": [
      "/Users/enrico.eduardo/opt/miniconda3/envs/plutho/lib/python3.10/site-packages/pandas/core/ops/array_ops.py:73: FutureWarning:\n",
      "\n",
      "Comparison of Timestamp with datetime.date is deprecated in order to match the standard library behavior. In a future version these will be considered non-comparable. Use 'ts == pd.Timestamp(date)' or 'ts.date() == date' instead.\n",
      "\n",
      "127.0.0.1 - - [04/Dec/2022 00:08:58] \"POST /_dash-update-component HTTP/1.1\" 200 -\n",
      "/Users/enrico.eduardo/opt/miniconda3/envs/plutho/lib/python3.10/site-packages/pandas/core/ops/array_ops.py:73: FutureWarning:\n",
      "\n",
      "Comparison of Timestamp with datetime.date is deprecated in order to match the standard library behavior. In a future version these will be considered non-comparable. Use 'ts == pd.Timestamp(date)' or 'ts.date() == date' instead.\n",
      "\n",
      "127.0.0.1 - - [04/Dec/2022 00:08:58] \"POST /_dash-update-component HTTP/1.1\" 200 -\n"
     ]
    },
    {
     "name": "stdout",
     "output_type": "stream",
     "text": [
      "\n",
      "<class 'str'>\n"
     ]
    },
    {
     "name": "stderr",
     "output_type": "stream",
     "text": [
      "/Users/enrico.eduardo/opt/miniconda3/envs/plutho/lib/python3.10/site-packages/pandas/core/ops/array_ops.py:73: FutureWarning:\n",
      "\n",
      "Comparison of Timestamp with datetime.date is deprecated in order to match the standard library behavior. In a future version these will be considered non-comparable. Use 'ts == pd.Timestamp(date)' or 'ts.date() == date' instead.\n",
      "\n",
      "127.0.0.1 - - [04/Dec/2022 00:08:58] \"POST /_dash-update-component HTTP/1.1\" 200 -\n"
     ]
    },
    {
     "name": "stdout",
     "output_type": "stream",
     "text": [
      "\n",
      "<class 'str'>\n"
     ]
    },
    {
     "name": "stderr",
     "output_type": "stream",
     "text": [
      "/Users/enrico.eduardo/opt/miniconda3/envs/plutho/lib/python3.10/site-packages/pandas/core/ops/array_ops.py:73: FutureWarning:\n",
      "\n",
      "Comparison of Timestamp with datetime.date is deprecated in order to match the standard library behavior. In a future version these will be considered non-comparable. Use 'ts == pd.Timestamp(date)' or 'ts.date() == date' instead.\n",
      "\n",
      "127.0.0.1 - - [04/Dec/2022 00:08:59] \"POST /_dash-update-component HTTP/1.1\" 200 -\n",
      "/Users/enrico.eduardo/opt/miniconda3/envs/plutho/lib/python3.10/site-packages/pandas/core/ops/array_ops.py:73: FutureWarning:\n",
      "\n",
      "Comparison of Timestamp with datetime.date is deprecated in order to match the standard library behavior. In a future version these will be considered non-comparable. Use 'ts == pd.Timestamp(date)' or 'ts.date() == date' instead.\n",
      "\n",
      "127.0.0.1 - - [04/Dec/2022 00:08:59] \"POST /_dash-update-component HTTP/1.1\" 200 -\n"
     ]
    },
    {
     "name": "stdout",
     "output_type": "stream",
     "text": [
      "\n",
      "<class 'str'>\n",
      "\n",
      "<class 'str'>\n"
     ]
    },
    {
     "name": "stderr",
     "output_type": "stream",
     "text": [
      "/Users/enrico.eduardo/opt/miniconda3/envs/plutho/lib/python3.10/site-packages/pandas/core/ops/array_ops.py:73: FutureWarning:\n",
      "\n",
      "Comparison of Timestamp with datetime.date is deprecated in order to match the standard library behavior. In a future version these will be considered non-comparable. Use 'ts == pd.Timestamp(date)' or 'ts.date() == date' instead.\n",
      "\n",
      "127.0.0.1 - - [04/Dec/2022 00:09:00] \"POST /_dash-update-component HTTP/1.1\" 200 -\n"
     ]
    },
    {
     "name": "stdout",
     "output_type": "stream",
     "text": [
      "\n",
      "<class 'str'>\n"
     ]
    },
    {
     "name": "stderr",
     "output_type": "stream",
     "text": [
      "/Users/enrico.eduardo/opt/miniconda3/envs/plutho/lib/python3.10/site-packages/pandas/core/ops/array_ops.py:73: FutureWarning:\n",
      "\n",
      "Comparison of Timestamp with datetime.date is deprecated in order to match the standard library behavior. In a future version these will be considered non-comparable. Use 'ts == pd.Timestamp(date)' or 'ts.date() == date' instead.\n",
      "\n",
      "127.0.0.1 - - [04/Dec/2022 00:09:00] \"POST /_dash-update-component HTTP/1.1\" 200 -\n"
     ]
    },
    {
     "name": "stdout",
     "output_type": "stream",
     "text": [
      "\n",
      "<class 'str'>\n"
     ]
    },
    {
     "name": "stderr",
     "output_type": "stream",
     "text": [
      "/Users/enrico.eduardo/opt/miniconda3/envs/plutho/lib/python3.10/site-packages/pandas/core/ops/array_ops.py:73: FutureWarning:\n",
      "\n",
      "Comparison of Timestamp with datetime.date is deprecated in order to match the standard library behavior. In a future version these will be considered non-comparable. Use 'ts == pd.Timestamp(date)' or 'ts.date() == date' instead.\n",
      "\n",
      "127.0.0.1 - - [04/Dec/2022 00:09:01] \"POST /_dash-update-component HTTP/1.1\" 200 -\n"
     ]
    },
    {
     "name": "stdout",
     "output_type": "stream",
     "text": [
      "\n",
      "<class 'str'>\n"
     ]
    },
    {
     "name": "stderr",
     "output_type": "stream",
     "text": [
      "/Users/enrico.eduardo/opt/miniconda3/envs/plutho/lib/python3.10/site-packages/pandas/core/ops/array_ops.py:73: FutureWarning:\n",
      "\n",
      "Comparison of Timestamp with datetime.date is deprecated in order to match the standard library behavior. In a future version these will be considered non-comparable. Use 'ts == pd.Timestamp(date)' or 'ts.date() == date' instead.\n",
      "\n",
      "127.0.0.1 - - [04/Dec/2022 00:09:01] \"POST /_dash-update-component HTTP/1.1\" 200 -\n",
      "/Users/enrico.eduardo/opt/miniconda3/envs/plutho/lib/python3.10/site-packages/pandas/core/ops/array_ops.py:73: FutureWarning:\n",
      "\n",
      "Comparison of Timestamp with datetime.date is deprecated in order to match the standard library behavior. In a future version these will be considered non-comparable. Use 'ts == pd.Timestamp(date)' or 'ts.date() == date' instead.\n",
      "\n",
      "127.0.0.1 - - [04/Dec/2022 00:09:01] \"POST /_dash-update-component HTTP/1.1\" 200 -\n"
     ]
    },
    {
     "name": "stdout",
     "output_type": "stream",
     "text": [
      "\n",
      "<class 'str'>\n",
      "\n",
      "<class 'str'>\n"
     ]
    },
    {
     "name": "stderr",
     "output_type": "stream",
     "text": [
      "/Users/enrico.eduardo/opt/miniconda3/envs/plutho/lib/python3.10/site-packages/pandas/core/ops/array_ops.py:73: FutureWarning:\n",
      "\n",
      "Comparison of Timestamp with datetime.date is deprecated in order to match the standard library behavior. In a future version these will be considered non-comparable. Use 'ts == pd.Timestamp(date)' or 'ts.date() == date' instead.\n",
      "\n",
      "127.0.0.1 - - [04/Dec/2022 00:09:02] \"POST /_dash-update-component HTTP/1.1\" 200 -\n",
      "/Users/enrico.eduardo/opt/miniconda3/envs/plutho/lib/python3.10/site-packages/pandas/core/ops/array_ops.py:73: FutureWarning:\n",
      "\n",
      "Comparison of Timestamp with datetime.date is deprecated in order to match the standard library behavior. In a future version these will be considered non-comparable. Use 'ts == pd.Timestamp(date)' or 'ts.date() == date' instead.\n",
      "\n",
      "127.0.0.1 - - [04/Dec/2022 00:09:02] \"POST /_dash-update-component HTTP/1.1\" 200 -\n"
     ]
    },
    {
     "name": "stdout",
     "output_type": "stream",
     "text": [
      "\n",
      "<class 'str'>\n",
      "\n",
      "<class 'str'>\n"
     ]
    },
    {
     "name": "stderr",
     "output_type": "stream",
     "text": [
      "/Users/enrico.eduardo/opt/miniconda3/envs/plutho/lib/python3.10/site-packages/pandas/core/ops/array_ops.py:73: FutureWarning:\n",
      "\n",
      "Comparison of Timestamp with datetime.date is deprecated in order to match the standard library behavior. In a future version these will be considered non-comparable. Use 'ts == pd.Timestamp(date)' or 'ts.date() == date' instead.\n",
      "\n",
      "127.0.0.1 - - [04/Dec/2022 00:09:02] \"POST /_dash-update-component HTTP/1.1\" 200 -\n"
     ]
    },
    {
     "name": "stdout",
     "output_type": "stream",
     "text": [
      "\n",
      "<class 'str'>\n"
     ]
    }
   ],
   "source": [
    "if __name__ == '__main__':\n",
    "    app.run_server(debug=False)"
   ]
  },
  {
   "cell_type": "code",
   "execution_count": null,
   "metadata": {},
   "outputs": [],
   "source": []
  }
 ],
 "metadata": {
  "kernelspec": {
   "display_name": "Python 3 (ipykernel)",
   "language": "python",
   "name": "python3"
  },
  "language_info": {
   "codemirror_mode": {
    "name": "ipython",
    "version": 3
   },
   "file_extension": ".py",
   "mimetype": "text/x-python",
   "name": "python",
   "nbconvert_exporter": "python",
   "pygments_lexer": "ipython3",
   "version": "3.10.6"
  },
  "vscode": {
   "interpreter": {
    "hash": "d60f0b7e86408b0863659995fe6bf30511ae2ba8424ff2f107f1360b83cb8595"
   }
  }
 },
 "nbformat": 4,
 "nbformat_minor": 2
}
