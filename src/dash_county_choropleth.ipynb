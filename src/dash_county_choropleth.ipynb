{
 "cells": [
  {
   "cell_type": "code",
   "execution_count": 1,
   "metadata": {},
   "outputs": [
    {
     "name": "stdout",
     "output_type": "stream",
     "text": [
      "2.7.0\n"
     ]
    }
   ],
   "source": [
    "import pandas as pd\n",
    "import plotly.express as px  # (version 4.7.0 or higher)\n",
    "import plotly.graph_objects as go\n",
    "import dash\n",
    "from dash import Dash, html, dcc\n",
    "# import dash_core_components as dcc \n",
    "# import dash_html_components as html\n",
    "from dash.dependencies import Input, Output, State\n",
    "import datetime\n",
    "\n",
    "# from visualize import Visualize2\n",
    "import random\n",
    "# import google\n",
    "# from google.cloud import bigquery\n",
    "# from google.oauth2 import service_account\n",
    "import pandas as pd\n",
    "import numpy as np\n",
    "from urllib.request import urlopen\n",
    "import json"
   ]
  },
  {
   "cell_type": "code",
   "execution_count": 2,
   "metadata": {},
   "outputs": [],
   "source": [
    "# credentials = service_account.Credentials.from_service_account_file(\n",
    "# 'chain-coders-5d47d58b2c33.json')\n",
    "\n",
    "# project_id = 'chain-coders'\n",
    "# client = bigquery.Client(credentials= credentials,project=project_id)\n",
    "# query = \"SELECT * FROM `redfin.redfin-data-county-fips`\"\n",
    "# df = client.query(query).to_dataframe()"
   ]
  },
  {
   "cell_type": "code",
   "execution_count": 3,
   "metadata": {},
   "outputs": [],
   "source": [
    "app = dash.Dash(__name__)"
   ]
  },
  {
   "cell_type": "code",
   "execution_count": 4,
   "metadata": {},
   "outputs": [
    {
     "ename": "FileNotFoundError",
     "evalue": "[Errno 2] No such file or directory: 'redfin-data-county-fips.csv'",
     "output_type": "error",
     "traceback": [
      "\u001b[1;31m---------------------------------------------------------------------------\u001b[0m",
      "\u001b[1;31mFileNotFoundError\u001b[0m                         Traceback (most recent call last)",
      "Cell \u001b[1;32mIn [4], line 2\u001b[0m\n\u001b[0;32m      1\u001b[0m \u001b[39m# -- Import and clean data (importing csv into pandas)\u001b[39;00m\n\u001b[1;32m----> 2\u001b[0m df \u001b[39m=\u001b[39m pd\u001b[39m.\u001b[39;49mread_csv(\u001b[39m\"\u001b[39;49m\u001b[39mredfin-data-county-fips.csv\u001b[39;49m\u001b[39m\"\u001b[39;49m) \n\u001b[0;32m      4\u001b[0m \u001b[39m#convert county fips codes to string type to preserve leading 0\u001b[39;00m\n\u001b[0;32m      5\u001b[0m df\u001b[39m.\u001b[39mcounty_fips \u001b[39m=\u001b[39m df\u001b[39m.\u001b[39mcounty_fips\u001b[39m.\u001b[39mastype(\u001b[39mstr\u001b[39m) \u001b[39m#convert to string\u001b[39;00m\n",
      "File \u001b[1;32m~\\AppData\\Local\\Packages\\PythonSoftwareFoundation.Python.3.10_qbz5n2kfra8p0\\LocalCache\\local-packages\\Python310\\site-packages\\pandas\\util\\_decorators.py:211\u001b[0m, in \u001b[0;36mdeprecate_kwarg.<locals>._deprecate_kwarg.<locals>.wrapper\u001b[1;34m(*args, **kwargs)\u001b[0m\n\u001b[0;32m    209\u001b[0m     \u001b[39melse\u001b[39;00m:\n\u001b[0;32m    210\u001b[0m         kwargs[new_arg_name] \u001b[39m=\u001b[39m new_arg_value\n\u001b[1;32m--> 211\u001b[0m \u001b[39mreturn\u001b[39;00m func(\u001b[39m*\u001b[39margs, \u001b[39m*\u001b[39m\u001b[39m*\u001b[39mkwargs)\n",
      "File \u001b[1;32m~\\AppData\\Local\\Packages\\PythonSoftwareFoundation.Python.3.10_qbz5n2kfra8p0\\LocalCache\\local-packages\\Python310\\site-packages\\pandas\\util\\_decorators.py:331\u001b[0m, in \u001b[0;36mdeprecate_nonkeyword_arguments.<locals>.decorate.<locals>.wrapper\u001b[1;34m(*args, **kwargs)\u001b[0m\n\u001b[0;32m    325\u001b[0m \u001b[39mif\u001b[39;00m \u001b[39mlen\u001b[39m(args) \u001b[39m>\u001b[39m num_allow_args:\n\u001b[0;32m    326\u001b[0m     warnings\u001b[39m.\u001b[39mwarn(\n\u001b[0;32m    327\u001b[0m         msg\u001b[39m.\u001b[39mformat(arguments\u001b[39m=\u001b[39m_format_argument_list(allow_args)),\n\u001b[0;32m    328\u001b[0m         \u001b[39mFutureWarning\u001b[39;00m,\n\u001b[0;32m    329\u001b[0m         stacklevel\u001b[39m=\u001b[39mfind_stack_level(),\n\u001b[0;32m    330\u001b[0m     )\n\u001b[1;32m--> 331\u001b[0m \u001b[39mreturn\u001b[39;00m func(\u001b[39m*\u001b[39margs, \u001b[39m*\u001b[39m\u001b[39m*\u001b[39mkwargs)\n",
      "File \u001b[1;32m~\\AppData\\Local\\Packages\\PythonSoftwareFoundation.Python.3.10_qbz5n2kfra8p0\\LocalCache\\local-packages\\Python310\\site-packages\\pandas\\io\\parsers\\readers.py:950\u001b[0m, in \u001b[0;36mread_csv\u001b[1;34m(filepath_or_buffer, sep, delimiter, header, names, index_col, usecols, squeeze, prefix, mangle_dupe_cols, dtype, engine, converters, true_values, false_values, skipinitialspace, skiprows, skipfooter, nrows, na_values, keep_default_na, na_filter, verbose, skip_blank_lines, parse_dates, infer_datetime_format, keep_date_col, date_parser, dayfirst, cache_dates, iterator, chunksize, compression, thousands, decimal, lineterminator, quotechar, quoting, doublequote, escapechar, comment, encoding, encoding_errors, dialect, error_bad_lines, warn_bad_lines, on_bad_lines, delim_whitespace, low_memory, memory_map, float_precision, storage_options)\u001b[0m\n\u001b[0;32m    935\u001b[0m kwds_defaults \u001b[39m=\u001b[39m _refine_defaults_read(\n\u001b[0;32m    936\u001b[0m     dialect,\n\u001b[0;32m    937\u001b[0m     delimiter,\n\u001b[1;32m   (...)\u001b[0m\n\u001b[0;32m    946\u001b[0m     defaults\u001b[39m=\u001b[39m{\u001b[39m\"\u001b[39m\u001b[39mdelimiter\u001b[39m\u001b[39m\"\u001b[39m: \u001b[39m\"\u001b[39m\u001b[39m,\u001b[39m\u001b[39m\"\u001b[39m},\n\u001b[0;32m    947\u001b[0m )\n\u001b[0;32m    948\u001b[0m kwds\u001b[39m.\u001b[39mupdate(kwds_defaults)\n\u001b[1;32m--> 950\u001b[0m \u001b[39mreturn\u001b[39;00m _read(filepath_or_buffer, kwds)\n",
      "File \u001b[1;32m~\\AppData\\Local\\Packages\\PythonSoftwareFoundation.Python.3.10_qbz5n2kfra8p0\\LocalCache\\local-packages\\Python310\\site-packages\\pandas\\io\\parsers\\readers.py:605\u001b[0m, in \u001b[0;36m_read\u001b[1;34m(filepath_or_buffer, kwds)\u001b[0m\n\u001b[0;32m    602\u001b[0m _validate_names(kwds\u001b[39m.\u001b[39mget(\u001b[39m\"\u001b[39m\u001b[39mnames\u001b[39m\u001b[39m\"\u001b[39m, \u001b[39mNone\u001b[39;00m))\n\u001b[0;32m    604\u001b[0m \u001b[39m# Create the parser.\u001b[39;00m\n\u001b[1;32m--> 605\u001b[0m parser \u001b[39m=\u001b[39m TextFileReader(filepath_or_buffer, \u001b[39m*\u001b[39m\u001b[39m*\u001b[39mkwds)\n\u001b[0;32m    607\u001b[0m \u001b[39mif\u001b[39;00m chunksize \u001b[39mor\u001b[39;00m iterator:\n\u001b[0;32m    608\u001b[0m     \u001b[39mreturn\u001b[39;00m parser\n",
      "File \u001b[1;32m~\\AppData\\Local\\Packages\\PythonSoftwareFoundation.Python.3.10_qbz5n2kfra8p0\\LocalCache\\local-packages\\Python310\\site-packages\\pandas\\io\\parsers\\readers.py:1442\u001b[0m, in \u001b[0;36mTextFileReader.__init__\u001b[1;34m(self, f, engine, **kwds)\u001b[0m\n\u001b[0;32m   1439\u001b[0m     \u001b[39mself\u001b[39m\u001b[39m.\u001b[39moptions[\u001b[39m\"\u001b[39m\u001b[39mhas_index_names\u001b[39m\u001b[39m\"\u001b[39m] \u001b[39m=\u001b[39m kwds[\u001b[39m\"\u001b[39m\u001b[39mhas_index_names\u001b[39m\u001b[39m\"\u001b[39m]\n\u001b[0;32m   1441\u001b[0m \u001b[39mself\u001b[39m\u001b[39m.\u001b[39mhandles: IOHandles \u001b[39m|\u001b[39m \u001b[39mNone\u001b[39;00m \u001b[39m=\u001b[39m \u001b[39mNone\u001b[39;00m\n\u001b[1;32m-> 1442\u001b[0m \u001b[39mself\u001b[39m\u001b[39m.\u001b[39m_engine \u001b[39m=\u001b[39m \u001b[39mself\u001b[39;49m\u001b[39m.\u001b[39;49m_make_engine(f, \u001b[39mself\u001b[39;49m\u001b[39m.\u001b[39;49mengine)\n",
      "File \u001b[1;32m~\\AppData\\Local\\Packages\\PythonSoftwareFoundation.Python.3.10_qbz5n2kfra8p0\\LocalCache\\local-packages\\Python310\\site-packages\\pandas\\io\\parsers\\readers.py:1735\u001b[0m, in \u001b[0;36mTextFileReader._make_engine\u001b[1;34m(self, f, engine)\u001b[0m\n\u001b[0;32m   1733\u001b[0m     \u001b[39mif\u001b[39;00m \u001b[39m\"\u001b[39m\u001b[39mb\u001b[39m\u001b[39m\"\u001b[39m \u001b[39mnot\u001b[39;00m \u001b[39min\u001b[39;00m mode:\n\u001b[0;32m   1734\u001b[0m         mode \u001b[39m+\u001b[39m\u001b[39m=\u001b[39m \u001b[39m\"\u001b[39m\u001b[39mb\u001b[39m\u001b[39m\"\u001b[39m\n\u001b[1;32m-> 1735\u001b[0m \u001b[39mself\u001b[39m\u001b[39m.\u001b[39mhandles \u001b[39m=\u001b[39m get_handle(\n\u001b[0;32m   1736\u001b[0m     f,\n\u001b[0;32m   1737\u001b[0m     mode,\n\u001b[0;32m   1738\u001b[0m     encoding\u001b[39m=\u001b[39;49m\u001b[39mself\u001b[39;49m\u001b[39m.\u001b[39;49moptions\u001b[39m.\u001b[39;49mget(\u001b[39m\"\u001b[39;49m\u001b[39mencoding\u001b[39;49m\u001b[39m\"\u001b[39;49m, \u001b[39mNone\u001b[39;49;00m),\n\u001b[0;32m   1739\u001b[0m     compression\u001b[39m=\u001b[39;49m\u001b[39mself\u001b[39;49m\u001b[39m.\u001b[39;49moptions\u001b[39m.\u001b[39;49mget(\u001b[39m\"\u001b[39;49m\u001b[39mcompression\u001b[39;49m\u001b[39m\"\u001b[39;49m, \u001b[39mNone\u001b[39;49;00m),\n\u001b[0;32m   1740\u001b[0m     memory_map\u001b[39m=\u001b[39;49m\u001b[39mself\u001b[39;49m\u001b[39m.\u001b[39;49moptions\u001b[39m.\u001b[39;49mget(\u001b[39m\"\u001b[39;49m\u001b[39mmemory_map\u001b[39;49m\u001b[39m\"\u001b[39;49m, \u001b[39mFalse\u001b[39;49;00m),\n\u001b[0;32m   1741\u001b[0m     is_text\u001b[39m=\u001b[39;49mis_text,\n\u001b[0;32m   1742\u001b[0m     errors\u001b[39m=\u001b[39;49m\u001b[39mself\u001b[39;49m\u001b[39m.\u001b[39;49moptions\u001b[39m.\u001b[39;49mget(\u001b[39m\"\u001b[39;49m\u001b[39mencoding_errors\u001b[39;49m\u001b[39m\"\u001b[39;49m, \u001b[39m\"\u001b[39;49m\u001b[39mstrict\u001b[39;49m\u001b[39m\"\u001b[39;49m),\n\u001b[0;32m   1743\u001b[0m     storage_options\u001b[39m=\u001b[39;49m\u001b[39mself\u001b[39;49m\u001b[39m.\u001b[39;49moptions\u001b[39m.\u001b[39;49mget(\u001b[39m\"\u001b[39;49m\u001b[39mstorage_options\u001b[39;49m\u001b[39m\"\u001b[39;49m, \u001b[39mNone\u001b[39;49;00m),\n\u001b[0;32m   1744\u001b[0m )\n\u001b[0;32m   1745\u001b[0m \u001b[39massert\u001b[39;00m \u001b[39mself\u001b[39m\u001b[39m.\u001b[39mhandles \u001b[39mis\u001b[39;00m \u001b[39mnot\u001b[39;00m \u001b[39mNone\u001b[39;00m\n\u001b[0;32m   1746\u001b[0m f \u001b[39m=\u001b[39m \u001b[39mself\u001b[39m\u001b[39m.\u001b[39mhandles\u001b[39m.\u001b[39mhandle\n",
      "File \u001b[1;32m~\\AppData\\Local\\Packages\\PythonSoftwareFoundation.Python.3.10_qbz5n2kfra8p0\\LocalCache\\local-packages\\Python310\\site-packages\\pandas\\io\\common.py:856\u001b[0m, in \u001b[0;36mget_handle\u001b[1;34m(path_or_buf, mode, encoding, compression, memory_map, is_text, errors, storage_options)\u001b[0m\n\u001b[0;32m    851\u001b[0m \u001b[39melif\u001b[39;00m \u001b[39misinstance\u001b[39m(handle, \u001b[39mstr\u001b[39m):\n\u001b[0;32m    852\u001b[0m     \u001b[39m# Check whether the filename is to be opened in binary mode.\u001b[39;00m\n\u001b[0;32m    853\u001b[0m     \u001b[39m# Binary mode does not support 'encoding' and 'newline'.\u001b[39;00m\n\u001b[0;32m    854\u001b[0m     \u001b[39mif\u001b[39;00m ioargs\u001b[39m.\u001b[39mencoding \u001b[39mand\u001b[39;00m \u001b[39m\"\u001b[39m\u001b[39mb\u001b[39m\u001b[39m\"\u001b[39m \u001b[39mnot\u001b[39;00m \u001b[39min\u001b[39;00m ioargs\u001b[39m.\u001b[39mmode:\n\u001b[0;32m    855\u001b[0m         \u001b[39m# Encoding\u001b[39;00m\n\u001b[1;32m--> 856\u001b[0m         handle \u001b[39m=\u001b[39m \u001b[39mopen\u001b[39;49m(\n\u001b[0;32m    857\u001b[0m             handle,\n\u001b[0;32m    858\u001b[0m             ioargs\u001b[39m.\u001b[39;49mmode,\n\u001b[0;32m    859\u001b[0m             encoding\u001b[39m=\u001b[39;49mioargs\u001b[39m.\u001b[39;49mencoding,\n\u001b[0;32m    860\u001b[0m             errors\u001b[39m=\u001b[39;49merrors,\n\u001b[0;32m    861\u001b[0m             newline\u001b[39m=\u001b[39;49m\u001b[39m\"\u001b[39;49m\u001b[39m\"\u001b[39;49m,\n\u001b[0;32m    862\u001b[0m         )\n\u001b[0;32m    863\u001b[0m     \u001b[39melse\u001b[39;00m:\n\u001b[0;32m    864\u001b[0m         \u001b[39m# Binary mode\u001b[39;00m\n\u001b[0;32m    865\u001b[0m         handle \u001b[39m=\u001b[39m \u001b[39mopen\u001b[39m(handle, ioargs\u001b[39m.\u001b[39mmode)\n",
      "\u001b[1;31mFileNotFoundError\u001b[0m: [Errno 2] No such file or directory: 'redfin-data-county-fips.csv'"
     ]
    }
   ],
   "source": [
    "# -- Import and clean data (importing csv into pandas)\n",
    "df = pd.read_csv(\"redfin-data-county-fips.csv\") \n",
    "\n",
    "#convert county fips codes to string type to preserve leading 0\n",
    "df.county_fips = df.county_fips.astype(str) #convert to string\n",
    "df['county_fips'] = df['county_fips'].str.zfill(5)\n",
    "\n",
    "#format data type for time\n",
    "df['period_begin'] = pd.to_datetime(df['period_begin'], format=\"%Y/%m/%d\").dt.date\n",
    "df['period_end'] = pd.to_datetime(df['period_end'], format=\"%Y/%m/%d\").dt.date\n",
    "\n",
    "#property types for drop down\n",
    "property_set = list(set(df['property_type'].values.tolist()))\n",
    "\n",
    "#metric types for dropdown\n",
    "metric_set = ['median_sale_price', 'median_ppsf', 'median_sale_price_mom', 'median_ppsf_mom']\n",
    "\n",
    "#dates for slider\n",
    "sorted_dates = np.sort(df['period_end'].unique())\n",
    "sorted_dates = ['{}'.format(i) for i in sorted_dates] #convert each date to string within a list\n",
    "counter = 0\n",
    "year = 2012\n",
    "slider_labels = {}\n",
    "#labels for slider\n",
    "for index, date in enumerate(sorted_dates):\n",
    "       if counter == index:\n",
    "              slider_labels['{}'.format(index)] = year\n",
    "              year += 1\n",
    "              counter += 12\n",
    "       else: \n",
    "              slider_labels['{}'.format(index)] = ''\n",
    "\n",
    "# labels = {index: date for index, date in enumerate(sorted_dates)} #labels of dates for slider object\n",
    "\n",
    "#color-scale\n",
    "color_scale = [[0.0, '#edf8fb'],[0.2, '#ccece6'],[0.4, '#99d8c9'],\n",
    "       [0.6, '#66c2a4'],[0.8, '#2ca25f'],[1.0, '#006d2c']] # purples\n"
   ]
  },
  {
   "cell_type": "code",
   "execution_count": null,
   "metadata": {},
   "outputs": [],
   "source": [
    "#get geojson for counties\n",
    "with urlopen('https://raw.githubusercontent.com/plotly/datasets/master/geojson-counties-fips.json') as response:\n",
    "    counties_geojson = json.load(response)"
   ]
  },
  {
   "cell_type": "code",
   "execution_count": null,
   "metadata": {},
   "outputs": [
    {
     "name": "stdout",
     "output_type": "stream",
     "text": [
      "{'0': 2012, '1': '', '2': '', '3': '', '4': '', '5': '', '6': '', '7': '', '8': '', '9': '', '10': '', '11': '', '12': 2013, '13': '', '14': '', '15': '', '16': '', '17': '', '18': '', '19': '', '20': '', '21': '', '22': '', '23': '', '24': 2014, '25': '', '26': '', '27': '', '28': '', '29': '', '30': '', '31': '', '32': '', '33': '', '34': '', '35': '', '36': 2015, '37': '', '38': '', '39': '', '40': '', '41': '', '42': '', '43': '', '44': '', '45': '', '46': '', '47': '', '48': 2016, '49': '', '50': '', '51': '', '52': '', '53': '', '54': '', '55': '', '56': '', '57': '', '58': '', '59': '', '60': 2017, '61': '', '62': '', '63': '', '64': '', '65': '', '66': '', '67': '', '68': '', '69': '', '70': '', '71': '', '72': 2018, '73': '', '74': '', '75': '', '76': '', '77': '', '78': '', '79': '', '80': '', '81': '', '82': '', '83': '', '84': 2019, '85': '', '86': '', '87': '', '88': '', '89': '', '90': '', '91': '', '92': '', '93': '', '94': '', '95': '', '96': 2020, '97': '', '98': '', '99': '', '100': '', '101': '', '102': '', '103': '', '104': '', '105': '', '106': '', '107': '', '108': 2021, '109': '', '110': '', '111': '', '112': '', '113': '', '114': '', '115': '', '116': '', '117': '', '118': '', '119': '', '120': 2022, '121': '', '122': '', '123': '', '124': '', '125': '', '126': '', '127': '', '128': ''}\n"
     ]
    }
   ],
   "source": [
    "print(slider_labels)\n"
   ]
  },
  {
   "cell_type": "code",
   "execution_count": null,
   "metadata": {},
   "outputs": [
    {
     "data": {
      "text/plain": [
       "Index(['period_begin', 'period_end', 'period_duration', 'region_type',\n",
       "       'region_type_id', 'table_id', 'is_seasonally_adjusted', 'region',\n",
       "       'city', 'state_x', 'state_code', 'property_type', 'property_type_id',\n",
       "       'median_sale_price', 'median_sale_price_mom', 'median_sale_price_yoy',\n",
       "       'median_list_price', 'median_list_price_mom', 'median_list_price_yoy',\n",
       "       'median_ppsf', 'median_ppsf_mom', 'median_ppsf_yoy', 'median_list_ppsf',\n",
       "       'median_list_ppsf_mom', 'median_list_ppsf_yoy', 'homes_sold',\n",
       "       'homes_sold_mom', 'homes_sold_yoy', 'pending_sales',\n",
       "       'pending_sales_mom', 'pending_sales_yoy', 'new_listings',\n",
       "       'new_listings_mom', 'new_listings_yoy', 'inventory', 'inventory_mom',\n",
       "       'inventory_yoy', 'months_of_supply', 'months_of_supply_mom',\n",
       "       'months_of_supply_yoy', 'median_dom', 'median_dom_mom',\n",
       "       'median_dom_yoy', 'avg_sale_to_list', 'avg_sale_to_list_mom',\n",
       "       'avg_sale_to_list_yoy', 'sold_above_list', 'sold_above_list_mom',\n",
       "       'sold_above_list_yoy', 'price_drops', 'price_drops_mom',\n",
       "       'price_drops_yoy', 'off_market_in_two_weeks',\n",
       "       'off_market_in_two_weeks_mom', 'off_market_in_two_weeks_yoy',\n",
       "       'parent_metro_region', 'parent_metro_region_metro_code', 'last_updated',\n",
       "       'county_fips', 'county_name', 'state_y'],\n",
       "      dtype='object')"
      ]
     },
     "execution_count": 6,
     "metadata": {},
     "output_type": "execute_result"
    }
   ],
   "source": [
    "df.columns"
   ]
  },
  {
   "cell_type": "code",
   "execution_count": null,
   "metadata": {},
   "outputs": [
    {
     "name": "stdout",
     "output_type": "stream",
     "text": [
      "['2012-01-31', '2012-02-29', '2012-03-31', '2012-04-30', '2012-05-31', '2012-06-30', '2012-07-31', '2012-08-31', '2012-09-30', '2012-10-31', '2012-11-30', '2012-12-31', '2013-01-31', '2013-02-28', '2013-03-31', '2013-04-30', '2013-05-31', '2013-06-30', '2013-07-31', '2013-08-31', '2013-09-30', '2013-10-31', '2013-11-30', '2013-12-31', '2014-01-31', '2014-02-28', '2014-03-31', '2014-04-30', '2014-05-31', '2014-06-30', '2014-07-31', '2014-08-31', '2014-09-30', '2014-10-31', '2014-11-30', '2014-12-31', '2015-01-31', '2015-02-28', '2015-03-31', '2015-04-30', '2015-05-31', '2015-06-30', '2015-07-31', '2015-08-31', '2015-09-30', '2015-10-31', '2015-11-30', '2015-12-31', '2016-01-31', '2016-02-29', '2016-03-31', '2016-04-30', '2016-05-31', '2016-06-30', '2016-07-31', '2016-08-31', '2016-09-30', '2016-10-31', '2016-11-30', '2016-12-31', '2017-01-31', '2017-02-28', '2017-03-31', '2017-04-30', '2017-05-31', '2017-06-30', '2017-07-31', '2017-08-31', '2017-09-30', '2017-10-31', '2017-11-30', '2017-12-31', '2018-01-31', '2018-02-28', '2018-03-31', '2018-04-30', '2018-05-31', '2018-06-30', '2018-07-31', '2018-08-31', '2018-09-30', '2018-10-31', '2018-11-30', '2018-12-31', '2019-01-31', '2019-02-28', '2019-03-31', '2019-04-30', '2019-05-31', '2019-06-30', '2019-07-31', '2019-08-31', '2019-09-30', '2019-10-31', '2019-11-30', '2019-12-31', '2020-01-31', '2020-02-29', '2020-03-31', '2020-04-30', '2020-05-31', '2020-06-30', '2020-07-31', '2020-08-31', '2020-09-30', '2020-10-31', '2020-11-30', '2020-12-31', '2021-01-31', '2021-02-28', '2021-03-31', '2021-04-30', '2021-05-31', '2021-06-30', '2021-07-31', '2021-08-31', '2021-09-30', '2021-10-31', '2021-11-30', '2021-12-31', '2022-01-31', '2022-02-28', '2022-03-31', '2022-04-30', '2022-05-31', '2022-06-30', '2022-07-31', '2022-08-31', '2022-09-30']\n",
      "129\n"
     ]
    }
   ],
   "source": [
    "print(sorted_dates)\n",
    "print(len(sorted_dates))"
   ]
  },
  {
   "cell_type": "code",
   "execution_count": null,
   "metadata": {},
   "outputs": [],
   "source": [
    "#read in dummy data\n",
    "df2 = pd.read_csv(\"dummy_data2.csv\")\n",
    "df2['county_code'] = df2['county_code'].astype(str) #convert county code as string from int\n",
    "df2.head(10)"
   ]
  },
  {
   "cell_type": "code",
   "execution_count": null,
   "metadata": {},
   "outputs": [],
   "source": [
    "df2.dtypes"
   ]
  },
  {
   "cell_type": "code",
   "execution_count": null,
   "metadata": {},
   "outputs": [],
   "source": [
    "# ------------------------------------------------------------------------------\n",
    "# App layout\n",
    "#what goes inside dash layout are the dash components and any html we need\n",
    "app.layout = html.Div([\n",
    "\n",
    "    html.H1(\"Redfin Choropleth Data\", style={'text-align': 'center'}), #html Title\n",
    "\n",
    "    html.Div(id='output_container', children=[\"Metric\"], style = {'font-weight': 'bold'}),\n",
    "\n",
    "    #components, e.g., drop downs, sliders\n",
    "    #first drop down by metric\n",
    "    dcc.Dropdown(id=\"metric\",\n",
    "                 placeholder = \"Select Metric\",\n",
    "                 options=metric_set,\n",
    "                 value=metric_set[0],\n",
    "                 style={'width': \"60%\",}\n",
    "                 ),\n",
    "\n",
    "    html.Br(), #space between dropdowns\n",
    "\n",
    "    html.Div(id='output_container', style = {'font-weight': 'bold'}, \n",
    "    children = [\"Property Type\"]\n",
    "    ),\n",
    "\n",
    "    #second drop down for property type\n",
    "    dcc.Dropdown(id=\"property_type\",\n",
    "                 placeholder = \"Select Property Type\",\n",
    "                 options=property_set,\n",
    "                 value=property_set[0],\n",
    "                 style={'width': \"60%\"},\n",
    "                 ),\n",
    "\n",
    "    \n",
    "    html.Br(), #space\n",
    "    \n",
    "    #create div element, e.g., text to display dropdown selection\n",
    "    html.Div(id='output_container', children=[]),\n",
    "\n",
    "    html.Br(), #space\n",
    "\n",
    "    #graph object, e.g., choropleth\n",
    "    dcc.Graph(id='choropleth', figure={}), \n",
    "\n",
    "    #slider object\n",
    "    dcc.Slider(0, len(sorted_dates), step = None, #min value of 0 and max of number of unique dates\n",
    "               value=0, #where the slider starts\n",
    "               marks = slider_labels,\n",
    "               tooltip={\"placement\": \"bottom\", \"always_visible\": True}, #place slider at bottom of graph\n",
    "               id='date_chosen'),\n",
    "    \n",
    "    #add line chart\n",
    "    dcc.Graph(id = \"line_chart\", figure = {})\n",
    "\n",
    "])"
   ]
  },
  {
   "cell_type": "code",
   "execution_count": null,
   "metadata": {},
   "outputs": [
    {
     "ename": "SyntaxError",
     "evalue": "invalid syntax (3861216780.py, line 26)",
     "output_type": "error",
     "traceback": [
      "\u001b[1;36m  Cell \u001b[1;32mIn [9], line 26\u001b[1;36m\u001b[0m\n\u001b[1;33m    data_frame = dff,\u001b[0m\n\u001b[1;37m               ^\u001b[0m\n\u001b[1;31mSyntaxError\u001b[0m\u001b[1;31m:\u001b[0m invalid syntax\n"
     ]
    }
   ],
   "source": [
    "# ------------------------------------------------------------------------------\n",
    "# Connect the Plotly graphs with Dash Components\n",
    "@app.callback(\n",
    "    Output(component_id='output_container', component_property='children'),\n",
    "    Output(component_id='choropleth', component_property='figure'),\n",
    "    Output(component_id = 'line_chart', component_property = 'figure'),\n",
    "    Input(component_id='property_type', component_property='value'),\n",
    "    Input(component_id = 'metric', component_property = 'value'),\n",
    "    Input(component_id='date_chosen', component_property='value'),\n",
    "    Input(component_id = 'choropleth', component_property = 'hoverData'))\n",
    "\n",
    "\n",
    "def update_graph(property_type, metric, date_chosen, hover):\n",
    "    print(property_type)\n",
    "    print(type(property_type))\n",
    "\n",
    "    container = \"Date Selected: {}\".format(sorted_dates[date_chosen])\n",
    "\n",
    "    dff = df.copy()\n",
    "    dff = dff[['period_begin', 'period_end', 'region', 'median_sale_price', 'median_sale_price_mom', \n",
    "    'median_ppsf', 'median_ppsf_mom', 'property_type', 'county_fips']]\n",
    "    dff = dff[dff['property_type'] == property_type]\n",
    "    dff = dff[dff['period_end'] == pd.to_datetime(sorted_dates[date_chosen], format=\"%Y/%m/%d\")]\n",
    "\n",
    "    # Plotly Express\n",
    "    fig = px.choropleth(\n",
    "        data_frame = dff,\n",
    "        geojson = counties_geojson,\n",
    "        locations='county_fips',\n",
    "        scope=\"usa\",\n",
    "        color='{}'.format(metric),\n",
    "        hover_data=['region', '{}'.format(metric), 'county_fips', 'region'],\n",
    "        color_continuous_scale= color_scale\n",
    "    )\n",
    "\n",
    "    #to generate line chart based on hover data\n",
    "    if type(hover) == dict:\n",
    "        print(hover)\n",
    "        hover_county = hover['points'][0]['customdata'][2]\n",
    "        hover_county_name = hover['points'][0]['customdata'][3]\n",
    "        hover_df = df2[(df2['property'] == property_type) & (df2['county_code'] == hover_county)]\n",
    "        line_data = px.line(hover_df, x = \"year\", y = '{}'.format(metric), title = 'Predicted {fmetric} for {fcounty}'.format(fmetric = metric, fcounty = hover_county_name))\n",
    "        result = line_data\n",
    "        result.update_layout(xaxis = dict(\n",
    "            dtick = 1\n",
    "        ))\n",
    "        \n",
    "    else:\n",
    "        result = []\n",
    "    \n",
    "\n",
    "    return container, fig, result"
   ]
  },
  {
   "cell_type": "code",
   "execution_count": null,
   "metadata": {},
   "outputs": [
    {
     "name": "stdout",
     "output_type": "stream",
     "text": [
      "Dash is running on http://127.0.0.1:8050/\n",
      "\n",
      " * Serving Flask app '__main__'\n",
      " * Debug mode: on\n"
     ]
    },
    {
     "ename": "SystemExit",
     "evalue": "1",
     "output_type": "error",
     "traceback": [
      "An exception has occurred, use %tb to see the full traceback.\n",
      "\u001b[1;31mSystemExit\u001b[0m\u001b[1;31m:\u001b[0m 1\n"
     ]
    },
    {
     "name": "stderr",
     "output_type": "stream",
     "text": [
      "C:\\Users\\beard\\AppData\\Local\\Packages\\PythonSoftwareFoundation.Python.3.10_qbz5n2kfra8p0\\LocalCache\\local-packages\\Python310\\site-packages\\IPython\\core\\interactiveshell.py:3441: UserWarning: To exit: use 'exit', 'quit', or Ctrl-D.\n",
      "  warn(\"To exit: use 'exit', 'quit', or Ctrl-D.\", stacklevel=1)\n"
     ]
    }
   ],
   "source": [
    "if __name__ == '__main__':\n",
    "    app.run_server(debug=False)"
   ]
  },
  {
   "cell_type": "markdown",
   "metadata": {},
   "source": [
    "# Experiments"
   ]
  },
  {
   "cell_type": "code",
   "execution_count": null,
   "metadata": {},
   "outputs": [
    {
     "data": {
      "text/html": [
       "<div>\n",
       "<style scoped>\n",
       "    .dataframe tbody tr th:only-of-type {\n",
       "        vertical-align: middle;\n",
       "    }\n",
       "\n",
       "    .dataframe tbody tr th {\n",
       "        vertical-align: top;\n",
       "    }\n",
       "\n",
       "    .dataframe thead th {\n",
       "        text-align: right;\n",
       "    }\n",
       "</style>\n",
       "<table border=\"1\" class=\"dataframe\">\n",
       "  <thead>\n",
       "    <tr style=\"text-align: right;\">\n",
       "      <th></th>\n",
       "      <th>period_begin</th>\n",
       "      <th>period_end</th>\n",
       "      <th>county_fips</th>\n",
       "      <th>median_sale_price</th>\n",
       "    </tr>\n",
       "  </thead>\n",
       "  <tbody>\n",
       "    <tr>\n",
       "      <th>123</th>\n",
       "      <td>2016-01-01</td>\n",
       "      <td>2016-01-31</td>\n",
       "      <td>51775</td>\n",
       "      <td>170750.0</td>\n",
       "    </tr>\n",
       "    <tr>\n",
       "      <th>175</th>\n",
       "      <td>2016-01-01</td>\n",
       "      <td>2016-01-31</td>\n",
       "      <td>51775</td>\n",
       "      <td>150050.0</td>\n",
       "    </tr>\n",
       "    <tr>\n",
       "      <th>343</th>\n",
       "      <td>2016-01-01</td>\n",
       "      <td>2016-01-31</td>\n",
       "      <td>51650</td>\n",
       "      <td>160000.0</td>\n",
       "    </tr>\n",
       "    <tr>\n",
       "      <th>490</th>\n",
       "      <td>2016-01-01</td>\n",
       "      <td>2016-01-31</td>\n",
       "      <td>51650</td>\n",
       "      <td>166500.0</td>\n",
       "    </tr>\n",
       "    <tr>\n",
       "      <th>515</th>\n",
       "      <td>2016-01-01</td>\n",
       "      <td>2016-01-31</td>\n",
       "      <td>51650</td>\n",
       "      <td>71379.5</td>\n",
       "    </tr>\n",
       "  </tbody>\n",
       "</table>\n",
       "</div>"
      ],
      "text/plain": [
       "    period_begin  period_end county_fips median_sale_price\n",
       "123   2016-01-01  2016-01-31       51775          170750.0\n",
       "175   2016-01-01  2016-01-31       51775          150050.0\n",
       "343   2016-01-01  2016-01-31       51650          160000.0\n",
       "490   2016-01-01  2016-01-31       51650          166500.0\n",
       "515   2016-01-01  2016-01-31       51650           71379.5"
      ]
     },
     "execution_count": 11,
     "metadata": {},
     "output_type": "execute_result"
    }
   ],
   "source": [
    "# df_copy = df.copy()\n",
    "# df_copy = df_copy[['period_begin', 'period_end', 'county_fips', 'median_sale_price']]\n",
    "# df_copy['period_begin'] = pd.to_datetime(df_copy['period_begin'], format=\"%Y/%m/%d\").dt.date\n",
    "# df_copy['period_end'] = pd.to_datetime(df_copy['period_end'], format=\"%Y/%m/%d\").dt.date\n",
    "# df_2016 = df_copy[df_copy[\"period_end\"] == datetime.date(2016,1,31)]\n",
    "# df_2016.head(5)"
   ]
  },
  {
   "cell_type": "code",
   "execution_count": null,
   "metadata": {},
   "outputs": [
    {
     "ename": "KeyboardInterrupt",
     "evalue": "",
     "output_type": "error",
     "traceback": [
      "\u001b[1;31m---------------------------------------------------------------------------\u001b[0m",
      "\u001b[1;31mKeyboardInterrupt\u001b[0m                         Traceback (most recent call last)",
      "Cell \u001b[1;32mIn [12], line 1\u001b[0m\n\u001b[1;32m----> 1\u001b[0m fig \u001b[39m=\u001b[39m px\u001b[39m.\u001b[39;49mchoropleth(df_2016, geojson \u001b[39m=\u001b[39;49m counties_geojson, locations \u001b[39m=\u001b[39;49m \u001b[39m'\u001b[39;49m\u001b[39mcounty_fips\u001b[39;49m\u001b[39m'\u001b[39;49m, color \u001b[39m=\u001b[39;49m \u001b[39m'\u001b[39;49m\u001b[39mmedian_sale_price\u001b[39;49m\u001b[39m'\u001b[39;49m,\n\u001b[0;32m      2\u001b[0m                                     color_continuous_scale\u001b[39m=\u001b[39;49m\u001b[39m\"\u001b[39;49m\u001b[39mViridis\u001b[39;49m\u001b[39m\"\u001b[39;49m,\n\u001b[0;32m      3\u001b[0m                                     range_color\u001b[39m=\u001b[39;49m(\u001b[39m0\u001b[39;49m, \u001b[39m1000000\u001b[39;49m),\n\u001b[0;32m      4\u001b[0m                                     scope\u001b[39m=\u001b[39;49m\u001b[39m\"\u001b[39;49m\u001b[39musa\u001b[39;49m\u001b[39m\"\u001b[39;49m,\n\u001b[0;32m      5\u001b[0m                                     labels\u001b[39m=\u001b[39;49m{\u001b[39m'\u001b[39;49m\u001b[39mmedian_sale_price\u001b[39;49m\u001b[39m'\u001b[39;49m:\u001b[39m'\u001b[39;49m\u001b[39mmedian sale price\u001b[39;49m\u001b[39m'\u001b[39;49m}\n\u001b[0;32m      6\u001b[0m                                     )\n\u001b[0;32m      8\u001b[0m fig\u001b[39m.\u001b[39mupdate_layout(margin\u001b[39m=\u001b[39m{\u001b[39m\"\u001b[39m\u001b[39mr\u001b[39m\u001b[39m\"\u001b[39m:\u001b[39m0\u001b[39m,\u001b[39m\"\u001b[39m\u001b[39mt\u001b[39m\u001b[39m\"\u001b[39m:\u001b[39m0\u001b[39m,\u001b[39m\"\u001b[39m\u001b[39ml\u001b[39m\u001b[39m\"\u001b[39m:\u001b[39m0\u001b[39m,\u001b[39m\"\u001b[39m\u001b[39mb\u001b[39m\u001b[39m\"\u001b[39m:\u001b[39m0\u001b[39m})\n\u001b[0;32m     10\u001b[0m fig\u001b[39m.\u001b[39mshow()\n",
      "File \u001b[1;32m~\\AppData\\Local\\Packages\\PythonSoftwareFoundation.Python.3.10_qbz5n2kfra8p0\\LocalCache\\local-packages\\Python310\\site-packages\\plotly\\express\\_chart_types.py:1091\u001b[0m, in \u001b[0;36mchoropleth\u001b[1;34m(data_frame, lat, lon, locations, locationmode, geojson, featureidkey, color, facet_row, facet_col, facet_col_wrap, facet_row_spacing, facet_col_spacing, hover_name, hover_data, custom_data, animation_frame, animation_group, category_orders, labels, color_discrete_sequence, color_discrete_map, color_continuous_scale, range_color, color_continuous_midpoint, projection, scope, center, fitbounds, basemap_visible, title, template, width, height)\u001b[0m\n\u001b[0;32m   1051\u001b[0m \u001b[39mdef\u001b[39;00m \u001b[39mchoropleth\u001b[39m(\n\u001b[0;32m   1052\u001b[0m     data_frame\u001b[39m=\u001b[39m\u001b[39mNone\u001b[39;00m,\n\u001b[0;32m   1053\u001b[0m     lat\u001b[39m=\u001b[39m\u001b[39mNone\u001b[39;00m,\n\u001b[1;32m   (...)\u001b[0m\n\u001b[0;32m   1085\u001b[0m     height\u001b[39m=\u001b[39m\u001b[39mNone\u001b[39;00m,\n\u001b[0;32m   1086\u001b[0m ) \u001b[39m-\u001b[39m\u001b[39m>\u001b[39m go\u001b[39m.\u001b[39mFigure:\n\u001b[0;32m   1087\u001b[0m     \u001b[39m\"\"\"\u001b[39;00m\n\u001b[0;32m   1088\u001b[0m \u001b[39m    In a choropleth map, each row of `data_frame` is represented by a\u001b[39;00m\n\u001b[0;32m   1089\u001b[0m \u001b[39m    colored region mark on a map.\u001b[39;00m\n\u001b[0;32m   1090\u001b[0m \u001b[39m    \"\"\"\u001b[39;00m\n\u001b[1;32m-> 1091\u001b[0m     \u001b[39mreturn\u001b[39;00m make_figure(\n\u001b[0;32m   1092\u001b[0m         args\u001b[39m=\u001b[39;49m\u001b[39mlocals\u001b[39;49m(),\n\u001b[0;32m   1093\u001b[0m         constructor\u001b[39m=\u001b[39;49mgo\u001b[39m.\u001b[39;49mChoropleth,\n\u001b[0;32m   1094\u001b[0m         trace_patch\u001b[39m=\u001b[39;49m\u001b[39mdict\u001b[39;49m(locationmode\u001b[39m=\u001b[39;49mlocationmode),\n\u001b[0;32m   1095\u001b[0m     )\n",
      "File \u001b[1;32m~\\AppData\\Local\\Packages\\PythonSoftwareFoundation.Python.3.10_qbz5n2kfra8p0\\LocalCache\\local-packages\\Python310\\site-packages\\plotly\\express\\_core.py:2246\u001b[0m, in \u001b[0;36mmake_figure\u001b[1;34m(args, constructor, trace_patch, layout_patch)\u001b[0m\n\u001b[0;32m   2237\u001b[0m         _set_trace_grid_reference(\n\u001b[0;32m   2238\u001b[0m             trace,\n\u001b[0;32m   2239\u001b[0m             fig\u001b[39m.\u001b[39mlayout,\n\u001b[1;32m   (...)\u001b[0m\n\u001b[0;32m   2242\u001b[0m             trace\u001b[39m.\u001b[39m_subplot_col,\n\u001b[0;32m   2243\u001b[0m         )\n\u001b[0;32m   2245\u001b[0m \u001b[39m# Add traces, layout and frames to figure\u001b[39;00m\n\u001b[1;32m-> 2246\u001b[0m fig\u001b[39m.\u001b[39;49madd_traces(frame_list[\u001b[39m0\u001b[39;49m][\u001b[39m\"\u001b[39;49m\u001b[39mdata\u001b[39;49m\u001b[39m\"\u001b[39;49m] \u001b[39mif\u001b[39;49;00m \u001b[39mlen\u001b[39;49m(frame_list) \u001b[39m>\u001b[39;49m \u001b[39m0\u001b[39;49m \u001b[39melse\u001b[39;49;00m [])\n\u001b[0;32m   2247\u001b[0m fig\u001b[39m.\u001b[39mupdate_layout(layout_patch)\n\u001b[0;32m   2248\u001b[0m \u001b[39mif\u001b[39;00m \u001b[39m\"\u001b[39m\u001b[39mtemplate\u001b[39m\u001b[39m\"\u001b[39m \u001b[39min\u001b[39;00m args \u001b[39mand\u001b[39;00m args[\u001b[39m\"\u001b[39m\u001b[39mtemplate\u001b[39m\u001b[39m\"\u001b[39m] \u001b[39mis\u001b[39;00m \u001b[39mnot\u001b[39;00m \u001b[39mNone\u001b[39;00m:\n",
      "File \u001b[1;32m~\\AppData\\Local\\Packages\\PythonSoftwareFoundation.Python.3.10_qbz5n2kfra8p0\\LocalCache\\local-packages\\Python310\\site-packages\\plotly\\graph_objs\\_figure.py:967\u001b[0m, in \u001b[0;36mFigure.add_traces\u001b[1;34m(self, data, rows, cols, secondary_ys, exclude_empty_subplots)\u001b[0m\n\u001b[0;32m    891\u001b[0m \u001b[39mdef\u001b[39;00m \u001b[39madd_traces\u001b[39m(\n\u001b[0;32m    892\u001b[0m     \u001b[39mself\u001b[39m,\n\u001b[0;32m    893\u001b[0m     data,\n\u001b[1;32m   (...)\u001b[0m\n\u001b[0;32m    897\u001b[0m     exclude_empty_subplots\u001b[39m=\u001b[39m\u001b[39mFalse\u001b[39;00m,\n\u001b[0;32m    898\u001b[0m ) \u001b[39m-\u001b[39m\u001b[39m>\u001b[39m \u001b[39m\"\u001b[39m\u001b[39mFigure\u001b[39m\u001b[39m\"\u001b[39m:\n\u001b[0;32m    899\u001b[0m     \u001b[39m\"\"\"\u001b[39;00m\n\u001b[0;32m    900\u001b[0m \n\u001b[0;32m    901\u001b[0m \u001b[39m    Add traces to the figure\u001b[39;00m\n\u001b[1;32m   (...)\u001b[0m\n\u001b[0;32m    965\u001b[0m \n\u001b[0;32m    966\u001b[0m \u001b[39m    \"\"\"\u001b[39;00m\n\u001b[1;32m--> 967\u001b[0m     \u001b[39mreturn\u001b[39;00m \u001b[39msuper\u001b[39;49m(Figure, \u001b[39mself\u001b[39;49m)\u001b[39m.\u001b[39;49madd_traces(\n\u001b[0;32m    968\u001b[0m         data, rows, cols, secondary_ys, exclude_empty_subplots\n\u001b[0;32m    969\u001b[0m     )\n",
      "File \u001b[1;32m~\\AppData\\Local\\Packages\\PythonSoftwareFoundation.Python.3.10_qbz5n2kfra8p0\\LocalCache\\local-packages\\Python310\\site-packages\\plotly\\basedatatypes.py:2181\u001b[0m, in \u001b[0;36mBaseFigure.add_traces\u001b[1;34m(self, data, rows, cols, secondary_ys, exclude_empty_subplots)\u001b[0m\n\u001b[0;32m   2113\u001b[0m \u001b[39m\"\"\"\u001b[39;00m\n\u001b[0;32m   2114\u001b[0m \u001b[39mAdd traces to the figure\u001b[39;00m\n\u001b[0;32m   2115\u001b[0m \n\u001b[1;32m   (...)\u001b[0m\n\u001b[0;32m   2177\u001b[0m \u001b[39mFigure(...)\u001b[39;00m\n\u001b[0;32m   2178\u001b[0m \u001b[39m\"\"\"\u001b[39;00m\n\u001b[0;32m   2180\u001b[0m \u001b[39m# Validate traces\u001b[39;00m\n\u001b[1;32m-> 2181\u001b[0m data \u001b[39m=\u001b[39m \u001b[39mself\u001b[39;49m\u001b[39m.\u001b[39;49m_data_validator\u001b[39m.\u001b[39;49mvalidate_coerce(data)\n\u001b[0;32m   2183\u001b[0m \u001b[39m# Set trace indexes\u001b[39;00m\n\u001b[0;32m   2184\u001b[0m \u001b[39mfor\u001b[39;00m ind, new_trace \u001b[39min\u001b[39;00m \u001b[39menumerate\u001b[39m(data):\n",
      "File \u001b[1;32m~\\AppData\\Local\\Packages\\PythonSoftwareFoundation.Python.3.10_qbz5n2kfra8p0\\LocalCache\\local-packages\\Python310\\site-packages\\_plotly_utils\\basevalidators.py:2645\u001b[0m, in \u001b[0;36mBaseDataValidator.validate_coerce\u001b[1;34m(self, v, skip_invalid, _validate)\u001b[0m\n\u001b[0;32m   2641\u001b[0m \u001b[39mfor\u001b[39;00m v_el \u001b[39min\u001b[39;00m v:\n\u001b[0;32m   2643\u001b[0m     \u001b[39mif\u001b[39;00m \u001b[39misinstance\u001b[39m(v_el, BaseTraceType):\n\u001b[0;32m   2644\u001b[0m         \u001b[39m# Clone input traces\u001b[39;00m\n\u001b[1;32m-> 2645\u001b[0m         v_el \u001b[39m=\u001b[39m v_el\u001b[39m.\u001b[39;49mto_plotly_json()\n\u001b[0;32m   2647\u001b[0m     \u001b[39mif\u001b[39;00m \u001b[39misinstance\u001b[39m(v_el, \u001b[39mdict\u001b[39m):\n\u001b[0;32m   2648\u001b[0m         v_copy \u001b[39m=\u001b[39m deepcopy(v_el)\n",
      "File \u001b[1;32m~\\AppData\\Local\\Packages\\PythonSoftwareFoundation.Python.3.10_qbz5n2kfra8p0\\LocalCache\\local-packages\\Python310\\site-packages\\plotly\\basedatatypes.py:5590\u001b[0m, in \u001b[0;36mBasePlotlyType.to_plotly_json\u001b[1;34m(self)\u001b[0m\n\u001b[0;32m   5582\u001b[0m \u001b[39mdef\u001b[39;00m \u001b[39mto_plotly_json\u001b[39m(\u001b[39mself\u001b[39m):\n\u001b[0;32m   5583\u001b[0m     \u001b[39m\"\"\"\u001b[39;00m\n\u001b[0;32m   5584\u001b[0m \u001b[39m    Return plotly JSON representation of object as a Python dict\u001b[39;00m\n\u001b[0;32m   5585\u001b[0m \n\u001b[1;32m   (...)\u001b[0m\n\u001b[0;32m   5588\u001b[0m \u001b[39m    dict\u001b[39;00m\n\u001b[0;32m   5589\u001b[0m \u001b[39m    \"\"\"\u001b[39;00m\n\u001b[1;32m-> 5590\u001b[0m     \u001b[39mreturn\u001b[39;00m deepcopy(\u001b[39mself\u001b[39;49m\u001b[39m.\u001b[39;49m_props \u001b[39mif\u001b[39;49;00m \u001b[39mself\u001b[39;49m\u001b[39m.\u001b[39;49m_props \u001b[39mis\u001b[39;49;00m \u001b[39mnot\u001b[39;49;00m \u001b[39mNone\u001b[39;49;00m \u001b[39melse\u001b[39;49;00m {})\n",
      "File \u001b[1;32mC:\\Program Files\\WindowsApps\\PythonSoftwareFoundation.Python.3.10_3.10.2288.0_x64__qbz5n2kfra8p0\\lib\\copy.py:146\u001b[0m, in \u001b[0;36mdeepcopy\u001b[1;34m(x, memo, _nil)\u001b[0m\n\u001b[0;32m    144\u001b[0m copier \u001b[39m=\u001b[39m _deepcopy_dispatch\u001b[39m.\u001b[39mget(\u001b[39mcls\u001b[39m)\n\u001b[0;32m    145\u001b[0m \u001b[39mif\u001b[39;00m copier \u001b[39mis\u001b[39;00m \u001b[39mnot\u001b[39;00m \u001b[39mNone\u001b[39;00m:\n\u001b[1;32m--> 146\u001b[0m     y \u001b[39m=\u001b[39m copier(x, memo)\n\u001b[0;32m    147\u001b[0m \u001b[39melse\u001b[39;00m:\n\u001b[0;32m    148\u001b[0m     \u001b[39mif\u001b[39;00m \u001b[39missubclass\u001b[39m(\u001b[39mcls\u001b[39m, \u001b[39mtype\u001b[39m):\n",
      "File \u001b[1;32mC:\\Program Files\\WindowsApps\\PythonSoftwareFoundation.Python.3.10_3.10.2288.0_x64__qbz5n2kfra8p0\\lib\\copy.py:231\u001b[0m, in \u001b[0;36m_deepcopy_dict\u001b[1;34m(x, memo, deepcopy)\u001b[0m\n\u001b[0;32m    229\u001b[0m memo[\u001b[39mid\u001b[39m(x)] \u001b[39m=\u001b[39m y\n\u001b[0;32m    230\u001b[0m \u001b[39mfor\u001b[39;00m key, value \u001b[39min\u001b[39;00m x\u001b[39m.\u001b[39mitems():\n\u001b[1;32m--> 231\u001b[0m     y[deepcopy(key, memo)] \u001b[39m=\u001b[39m deepcopy(value, memo)\n\u001b[0;32m    232\u001b[0m \u001b[39mreturn\u001b[39;00m y\n",
      "File \u001b[1;32mC:\\Program Files\\WindowsApps\\PythonSoftwareFoundation.Python.3.10_3.10.2288.0_x64__qbz5n2kfra8p0\\lib\\copy.py:146\u001b[0m, in \u001b[0;36mdeepcopy\u001b[1;34m(x, memo, _nil)\u001b[0m\n\u001b[0;32m    144\u001b[0m copier \u001b[39m=\u001b[39m _deepcopy_dispatch\u001b[39m.\u001b[39mget(\u001b[39mcls\u001b[39m)\n\u001b[0;32m    145\u001b[0m \u001b[39mif\u001b[39;00m copier \u001b[39mis\u001b[39;00m \u001b[39mnot\u001b[39;00m \u001b[39mNone\u001b[39;00m:\n\u001b[1;32m--> 146\u001b[0m     y \u001b[39m=\u001b[39m copier(x, memo)\n\u001b[0;32m    147\u001b[0m \u001b[39melse\u001b[39;00m:\n\u001b[0;32m    148\u001b[0m     \u001b[39mif\u001b[39;00m \u001b[39missubclass\u001b[39m(\u001b[39mcls\u001b[39m, \u001b[39mtype\u001b[39m):\n",
      "File \u001b[1;32mC:\\Program Files\\WindowsApps\\PythonSoftwareFoundation.Python.3.10_3.10.2288.0_x64__qbz5n2kfra8p0\\lib\\copy.py:231\u001b[0m, in \u001b[0;36m_deepcopy_dict\u001b[1;34m(x, memo, deepcopy)\u001b[0m\n\u001b[0;32m    229\u001b[0m memo[\u001b[39mid\u001b[39m(x)] \u001b[39m=\u001b[39m y\n\u001b[0;32m    230\u001b[0m \u001b[39mfor\u001b[39;00m key, value \u001b[39min\u001b[39;00m x\u001b[39m.\u001b[39mitems():\n\u001b[1;32m--> 231\u001b[0m     y[deepcopy(key, memo)] \u001b[39m=\u001b[39m deepcopy(value, memo)\n\u001b[0;32m    232\u001b[0m \u001b[39mreturn\u001b[39;00m y\n",
      "    \u001b[1;31m[... skipping similar frames: deepcopy at line 146 (1 times)]\u001b[0m\n",
      "File \u001b[1;32mC:\\Program Files\\WindowsApps\\PythonSoftwareFoundation.Python.3.10_3.10.2288.0_x64__qbz5n2kfra8p0\\lib\\copy.py:206\u001b[0m, in \u001b[0;36m_deepcopy_list\u001b[1;34m(x, memo, deepcopy)\u001b[0m\n\u001b[0;32m    204\u001b[0m append \u001b[39m=\u001b[39m y\u001b[39m.\u001b[39mappend\n\u001b[0;32m    205\u001b[0m \u001b[39mfor\u001b[39;00m a \u001b[39min\u001b[39;00m x:\n\u001b[1;32m--> 206\u001b[0m     append(deepcopy(a, memo))\n\u001b[0;32m    207\u001b[0m \u001b[39mreturn\u001b[39;00m y\n",
      "    \u001b[1;31m[... skipping similar frames: deepcopy at line 146 (2 times), _deepcopy_dict at line 231 (1 times)]\u001b[0m\n",
      "File \u001b[1;32mC:\\Program Files\\WindowsApps\\PythonSoftwareFoundation.Python.3.10_3.10.2288.0_x64__qbz5n2kfra8p0\\lib\\copy.py:231\u001b[0m, in \u001b[0;36m_deepcopy_dict\u001b[1;34m(x, memo, deepcopy)\u001b[0m\n\u001b[0;32m    229\u001b[0m memo[\u001b[39mid\u001b[39m(x)] \u001b[39m=\u001b[39m y\n\u001b[0;32m    230\u001b[0m \u001b[39mfor\u001b[39;00m key, value \u001b[39min\u001b[39;00m x\u001b[39m.\u001b[39mitems():\n\u001b[1;32m--> 231\u001b[0m     y[deepcopy(key, memo)] \u001b[39m=\u001b[39m deepcopy(value, memo)\n\u001b[0;32m    232\u001b[0m \u001b[39mreturn\u001b[39;00m y\n",
      "    \u001b[1;31m[... skipping similar frames: deepcopy at line 146 (1 times)]\u001b[0m\n",
      "File \u001b[1;32mC:\\Program Files\\WindowsApps\\PythonSoftwareFoundation.Python.3.10_3.10.2288.0_x64__qbz5n2kfra8p0\\lib\\copy.py:206\u001b[0m, in \u001b[0;36m_deepcopy_list\u001b[1;34m(x, memo, deepcopy)\u001b[0m\n\u001b[0;32m    204\u001b[0m append \u001b[39m=\u001b[39m y\u001b[39m.\u001b[39mappend\n\u001b[0;32m    205\u001b[0m \u001b[39mfor\u001b[39;00m a \u001b[39min\u001b[39;00m x:\n\u001b[1;32m--> 206\u001b[0m     append(deepcopy(a, memo))\n\u001b[0;32m    207\u001b[0m \u001b[39mreturn\u001b[39;00m y\n",
      "    \u001b[1;31m[... skipping similar frames: deepcopy at line 146 (2 times), _deepcopy_list at line 206 (1 times)]\u001b[0m\n",
      "File \u001b[1;32mC:\\Program Files\\WindowsApps\\PythonSoftwareFoundation.Python.3.10_3.10.2288.0_x64__qbz5n2kfra8p0\\lib\\copy.py:206\u001b[0m, in \u001b[0;36m_deepcopy_list\u001b[1;34m(x, memo, deepcopy)\u001b[0m\n\u001b[0;32m    204\u001b[0m append \u001b[39m=\u001b[39m y\u001b[39m.\u001b[39mappend\n\u001b[0;32m    205\u001b[0m \u001b[39mfor\u001b[39;00m a \u001b[39min\u001b[39;00m x:\n\u001b[1;32m--> 206\u001b[0m     append(deepcopy(a, memo))\n\u001b[0;32m    207\u001b[0m \u001b[39mreturn\u001b[39;00m y\n",
      "File \u001b[1;32mC:\\Program Files\\WindowsApps\\PythonSoftwareFoundation.Python.3.10_3.10.2288.0_x64__qbz5n2kfra8p0\\lib\\copy.py:146\u001b[0m, in \u001b[0;36mdeepcopy\u001b[1;34m(x, memo, _nil)\u001b[0m\n\u001b[0;32m    144\u001b[0m copier \u001b[39m=\u001b[39m _deepcopy_dispatch\u001b[39m.\u001b[39mget(\u001b[39mcls\u001b[39m)\n\u001b[0;32m    145\u001b[0m \u001b[39mif\u001b[39;00m copier \u001b[39mis\u001b[39;00m \u001b[39mnot\u001b[39;00m \u001b[39mNone\u001b[39;00m:\n\u001b[1;32m--> 146\u001b[0m     y \u001b[39m=\u001b[39m copier(x, memo)\n\u001b[0;32m    147\u001b[0m \u001b[39melse\u001b[39;00m:\n\u001b[0;32m    148\u001b[0m     \u001b[39mif\u001b[39;00m \u001b[39missubclass\u001b[39m(\u001b[39mcls\u001b[39m, \u001b[39mtype\u001b[39m):\n",
      "File \u001b[1;32mC:\\Program Files\\WindowsApps\\PythonSoftwareFoundation.Python.3.10_3.10.2288.0_x64__qbz5n2kfra8p0\\lib\\copy.py:182\u001b[0m, in \u001b[0;36m_deepcopy_atomic\u001b[1;34m(x, memo)\u001b[0m\n\u001b[0;32m    178\u001b[0m     \u001b[39mreturn\u001b[39;00m y\n\u001b[0;32m    180\u001b[0m _deepcopy_dispatch \u001b[39m=\u001b[39m d \u001b[39m=\u001b[39m {}\n\u001b[1;32m--> 182\u001b[0m \u001b[39mdef\u001b[39;00m \u001b[39m_deepcopy_atomic\u001b[39m(x, memo):\n\u001b[0;32m    183\u001b[0m     \u001b[39mreturn\u001b[39;00m x\n\u001b[0;32m    184\u001b[0m d[\u001b[39mtype\u001b[39m(\u001b[39mNone\u001b[39;00m)] \u001b[39m=\u001b[39m _deepcopy_atomic\n",
      "\u001b[1;31mKeyboardInterrupt\u001b[0m: "
     ]
    }
   ],
   "source": [
    "# fig = px.choropleth(df_2016, geojson = counties_geojson, locations = 'county_fips', color = 'median_sale_price',\n",
    "#                                     color_continuous_scale=\"Viridis\",\n",
    "#                                     range_color=(0, 1000000),\n",
    "#                                     scope=\"usa\",\n",
    "#                                     labels={'median_sale_price':'median sale price'}\n",
    "#                                     )\n",
    "\n",
    "# fig.update_layout(margin={\"r\":0,\"t\":0,\"l\":0,\"b\":0})\n",
    "\n",
    "# fig.show()"
   ]
  }
 ],
 "metadata": {
  "kernelspec": {
   "display_name": "Python 3 (ipykernel)",
   "language": "python",
   "name": "python3"
  },
  "language_info": {
   "codemirror_mode": {
    "name": "ipython",
    "version": 3
   },
   "file_extension": ".py",
   "mimetype": "text/x-python",
   "name": "python",
   "nbconvert_exporter": "python",
   "pygments_lexer": "ipython3",
   "version": "3.10.8"
  },
  "vscode": {
   "interpreter": {
    "hash": "d60f0b7e86408b0863659995fe6bf30511ae2ba8424ff2f107f1360b83cb8595"
   }
  }
 },
 "nbformat": 4,
 "nbformat_minor": 4
}
