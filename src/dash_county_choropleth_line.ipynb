{
 "cells": [
  {
   "cell_type": "code",
   "execution_count": 1,
   "metadata": {},
   "outputs": [
    {
     "name": "stdout",
     "output_type": "stream",
     "text": [
      "2.7.0\n"
     ]
    }
   ],
   "source": [
    "import pandas as pd\n",
    "import plotly.express as px  # (version 4.7.0 or higher)\n",
    "import plotly.graph_objects as go\n",
    "import dash\n",
    "print(dash.__version__)\n",
    "from dash import Dash, html, dcc\n",
    "# import dash_core_components as dcc \n",
    "# import dash_html_components as html\n",
    "from dash.dependencies import Input, Output, State\n",
    "import datetime\n",
    "\n",
    "# from visualize import Visualize2\n",
    "import random\n",
    "# import google\n",
    "# from google.cloud import bigquery\n",
    "\n",
    "# from google.oauth2 import service_account\n",
    "import pandas as pd\n",
    "import numpy as np\n",
    "from urllib.request import urlopen\n",
    "import json"
   ]
  },
  {
   "cell_type": "code",
   "execution_count": 2,
   "metadata": {},
   "outputs": [],
   "source": [
    "# credentials = service_account.Credentials.from_service_account_file(\n",
    "# 'chain-coders-5d47d58b2c33.json')\n",
    "\n",
    "# project_id = 'chain-coders'\n",
    "# client = bigquery.Client(credentials= credentials,project=project_id)\n",
    "# query = \"SELECT * FROM `redfin.redfin-data-county-fips`\"\n",
    "# df = client.query(query).to_dataframe()"
   ]
  },
  {
   "cell_type": "code",
   "execution_count": 3,
   "metadata": {},
   "outputs": [],
   "source": [
    "app = dash.Dash(__name__)"
   ]
  },
  {
   "cell_type": "code",
   "execution_count": 4,
   "metadata": {},
   "outputs": [],
   "source": [
    "# -- Import and clean data (importing csv into pandas)\n",
    "df = pd.read_csv(\"redfin-data-county-fips.csv\") \n",
    "\n",
    "#convert county fips codes to string type to preserve leading 0\n",
    "df.county_fips = df.county_fips.astype(str) #convert to string\n",
    "df['county_fips'] = df['county_fips'].str.zfill(5)\n",
    "\n",
    "#format data type for time\n",
    "df['period_begin'] = pd.to_datetime(df['period_begin'], format=\"%Y/%m/%d\").dt.date\n",
    "df['period_end'] = pd.to_datetime(df['period_end'], format=\"%Y/%m/%d\").dt.date\n",
    "\n",
    "#property types for drop down\n",
    "property_set = list(set(df['property_type'].values.tolist()))\n",
    "\n",
    "#metric types for dropdown\n",
    "metric_set = ['median_sale_price', 'median_ppsf', 'median_sale_price_mom', 'median_ppsf_mom']\n",
    "\n",
    "#dates for slider\n",
    "sorted_dates = np.sort(df['period_end'].unique())\n",
    "sorted_dates = ['{}'.format(i) for i in sorted_dates] #convert each date to string within a list\n",
    "counter = 0\n",
    "year = 2012\n",
    "slider_labels = {}\n",
    "#labels for slider\n",
    "for index, date in enumerate(sorted_dates):\n",
    "       if counter == index:\n",
    "              slider_labels['{}'.format(index)] = year\n",
    "              year += 1\n",
    "              counter += 12\n",
    "       else: \n",
    "              slider_labels['{}'.format(index)] = ''\n",
    "\n",
    "# labels = {index: date for index, date in enumerate(sorted_dates)} #labels of dates for slider object\n",
    "\n",
    "#color-scale\n",
    "color_scale = [[0.0, '#edf8fb'],[0.2, '#ccece6'],[0.4, '#99d8c9'],\n",
    "       [0.6, '#66c2a4'],[0.8, '#2ca25f'],[1.0, '#006d2c']] # purples\n"
   ]
  },
  {
   "cell_type": "code",
   "execution_count": 5,
   "metadata": {},
   "outputs": [],
   "source": [
    "#get geojson for counties\n",
    "with urlopen('https://raw.githubusercontent.com/plotly/datasets/master/geojson-counties-fips.json') as response:\n",
    "    counties_geojson = json.load(response)"
   ]
  },
  {
   "cell_type": "code",
   "execution_count": 6,
   "metadata": {},
   "outputs": [
    {
     "name": "stdout",
     "output_type": "stream",
     "text": [
      "{'0': 2012, '1': '', '2': '', '3': '', '4': '', '5': '', '6': '', '7': '', '8': '', '9': '', '10': '', '11': '', '12': 2013, '13': '', '14': '', '15': '', '16': '', '17': '', '18': '', '19': '', '20': '', '21': '', '22': '', '23': '', '24': 2014, '25': '', '26': '', '27': '', '28': '', '29': '', '30': '', '31': '', '32': '', '33': '', '34': '', '35': '', '36': 2015, '37': '', '38': '', '39': '', '40': '', '41': '', '42': '', '43': '', '44': '', '45': '', '46': '', '47': '', '48': 2016, '49': '', '50': '', '51': '', '52': '', '53': '', '54': '', '55': '', '56': '', '57': '', '58': '', '59': '', '60': 2017, '61': '', '62': '', '63': '', '64': '', '65': '', '66': '', '67': '', '68': '', '69': '', '70': '', '71': '', '72': 2018, '73': '', '74': '', '75': '', '76': '', '77': '', '78': '', '79': '', '80': '', '81': '', '82': '', '83': '', '84': 2019, '85': '', '86': '', '87': '', '88': '', '89': '', '90': '', '91': '', '92': '', '93': '', '94': '', '95': '', '96': 2020, '97': '', '98': '', '99': '', '100': '', '101': '', '102': '', '103': '', '104': '', '105': '', '106': '', '107': '', '108': 2021, '109': '', '110': '', '111': '', '112': '', '113': '', '114': '', '115': '', '116': '', '117': '', '118': '', '119': '', '120': 2022, '121': '', '122': '', '123': '', '124': '', '125': '', '126': '', '127': '', '128': ''}\n"
     ]
    }
   ],
   "source": [
    "print(slider_labels)\n"
   ]
  },
  {
   "cell_type": "code",
   "execution_count": 7,
   "metadata": {},
   "outputs": [
    {
     "data": {
      "text/plain": [
       "Index(['period_begin', 'period_end', 'period_duration', 'region_type',\n",
       "       'region_type_id', 'table_id', 'is_seasonally_adjusted', 'region',\n",
       "       'city', 'state_x', 'state_code', 'property_type', 'property_type_id',\n",
       "       'median_sale_price', 'median_sale_price_mom', 'median_sale_price_yoy',\n",
       "       'median_list_price', 'median_list_price_mom', 'median_list_price_yoy',\n",
       "       'median_ppsf', 'median_ppsf_mom', 'median_ppsf_yoy', 'median_list_ppsf',\n",
       "       'median_list_ppsf_mom', 'median_list_ppsf_yoy', 'homes_sold',\n",
       "       'homes_sold_mom', 'homes_sold_yoy', 'pending_sales',\n",
       "       'pending_sales_mom', 'pending_sales_yoy', 'new_listings',\n",
       "       'new_listings_mom', 'new_listings_yoy', 'inventory', 'inventory_mom',\n",
       "       'inventory_yoy', 'months_of_supply', 'months_of_supply_mom',\n",
       "       'months_of_supply_yoy', 'median_dom', 'median_dom_mom',\n",
       "       'median_dom_yoy', 'avg_sale_to_list', 'avg_sale_to_list_mom',\n",
       "       'avg_sale_to_list_yoy', 'sold_above_list', 'sold_above_list_mom',\n",
       "       'sold_above_list_yoy', 'price_drops', 'price_drops_mom',\n",
       "       'price_drops_yoy', 'off_market_in_two_weeks',\n",
       "       'off_market_in_two_weeks_mom', 'off_market_in_two_weeks_yoy',\n",
       "       'parent_metro_region', 'parent_metro_region_metro_code', 'last_updated',\n",
       "       'county_fips', 'county_name', 'state_y'],\n",
       "      dtype='object')"
      ]
     },
     "execution_count": 7,
     "metadata": {},
     "output_type": "execute_result"
    }
   ],
   "source": [
    "df.columns"
   ]
  },
  {
   "cell_type": "code",
   "execution_count": 8,
   "metadata": {},
   "outputs": [
    {
     "name": "stdout",
     "output_type": "stream",
     "text": [
      "['2012-01-31', '2012-02-29', '2012-03-31', '2012-04-30', '2012-05-31', '2012-06-30', '2012-07-31', '2012-08-31', '2012-09-30', '2012-10-31', '2012-11-30', '2012-12-31', '2013-01-31', '2013-02-28', '2013-03-31', '2013-04-30', '2013-05-31', '2013-06-30', '2013-07-31', '2013-08-31', '2013-09-30', '2013-10-31', '2013-11-30', '2013-12-31', '2014-01-31', '2014-02-28', '2014-03-31', '2014-04-30', '2014-05-31', '2014-06-30', '2014-07-31', '2014-08-31', '2014-09-30', '2014-10-31', '2014-11-30', '2014-12-31', '2015-01-31', '2015-02-28', '2015-03-31', '2015-04-30', '2015-05-31', '2015-06-30', '2015-07-31', '2015-08-31', '2015-09-30', '2015-10-31', '2015-11-30', '2015-12-31', '2016-01-31', '2016-02-29', '2016-03-31', '2016-04-30', '2016-05-31', '2016-06-30', '2016-07-31', '2016-08-31', '2016-09-30', '2016-10-31', '2016-11-30', '2016-12-31', '2017-01-31', '2017-02-28', '2017-03-31', '2017-04-30', '2017-05-31', '2017-06-30', '2017-07-31', '2017-08-31', '2017-09-30', '2017-10-31', '2017-11-30', '2017-12-31', '2018-01-31', '2018-02-28', '2018-03-31', '2018-04-30', '2018-05-31', '2018-06-30', '2018-07-31', '2018-08-31', '2018-09-30', '2018-10-31', '2018-11-30', '2018-12-31', '2019-01-31', '2019-02-28', '2019-03-31', '2019-04-30', '2019-05-31', '2019-06-30', '2019-07-31', '2019-08-31', '2019-09-30', '2019-10-31', '2019-11-30', '2019-12-31', '2020-01-31', '2020-02-29', '2020-03-31', '2020-04-30', '2020-05-31', '2020-06-30', '2020-07-31', '2020-08-31', '2020-09-30', '2020-10-31', '2020-11-30', '2020-12-31', '2021-01-31', '2021-02-28', '2021-03-31', '2021-04-30', '2021-05-31', '2021-06-30', '2021-07-31', '2021-08-31', '2021-09-30', '2021-10-31', '2021-11-30', '2021-12-31', '2022-01-31', '2022-02-28', '2022-03-31', '2022-04-30', '2022-05-31', '2022-06-30', '2022-07-31', '2022-08-31', '2022-09-30']\n",
      "129\n"
     ]
    }
   ],
   "source": [
    "print(sorted_dates)\n",
    "print(len(sorted_dates))"
   ]
  },
  {
   "cell_type": "code",
   "execution_count": 9,
   "metadata": {},
   "outputs": [
    {
     "data": {
      "text/html": [
       "<div>\n",
       "<style scoped>\n",
       "    .dataframe tbody tr th:only-of-type {\n",
       "        vertical-align: middle;\n",
       "    }\n",
       "\n",
       "    .dataframe tbody tr th {\n",
       "        vertical-align: top;\n",
       "    }\n",
       "\n",
       "    .dataframe thead th {\n",
       "        text-align: right;\n",
       "    }\n",
       "</style>\n",
       "<table border=\"1\" class=\"dataframe\">\n",
       "  <thead>\n",
       "    <tr style=\"text-align: right;\">\n",
       "      <th></th>\n",
       "      <th>year</th>\n",
       "      <th>county_code</th>\n",
       "      <th>median_ppsf</th>\n",
       "      <th>median_sale_price</th>\n",
       "      <th>property</th>\n",
       "    </tr>\n",
       "  </thead>\n",
       "  <tbody>\n",
       "    <tr>\n",
       "      <th>0</th>\n",
       "      <td>2023</td>\n",
       "      <td>27053</td>\n",
       "      <td>483</td>\n",
       "      <td>274053</td>\n",
       "      <td>Condo/Co-op</td>\n",
       "    </tr>\n",
       "    <tr>\n",
       "      <th>1</th>\n",
       "      <td>2024</td>\n",
       "      <td>27053</td>\n",
       "      <td>38</td>\n",
       "      <td>271021</td>\n",
       "      <td>Condo/Co-op</td>\n",
       "    </tr>\n",
       "    <tr>\n",
       "      <th>2</th>\n",
       "      <td>2025</td>\n",
       "      <td>27053</td>\n",
       "      <td>700</td>\n",
       "      <td>419935</td>\n",
       "      <td>Condo/Co-op</td>\n",
       "    </tr>\n",
       "    <tr>\n",
       "      <th>3</th>\n",
       "      <td>2026</td>\n",
       "      <td>27053</td>\n",
       "      <td>27</td>\n",
       "      <td>482962</td>\n",
       "      <td>Condo/Co-op</td>\n",
       "    </tr>\n",
       "    <tr>\n",
       "      <th>4</th>\n",
       "      <td>2023</td>\n",
       "      <td>27053</td>\n",
       "      <td>685</td>\n",
       "      <td>223464</td>\n",
       "      <td>All Residential</td>\n",
       "    </tr>\n",
       "    <tr>\n",
       "      <th>5</th>\n",
       "      <td>2024</td>\n",
       "      <td>27053</td>\n",
       "      <td>667</td>\n",
       "      <td>360849</td>\n",
       "      <td>All Residential</td>\n",
       "    </tr>\n",
       "    <tr>\n",
       "      <th>6</th>\n",
       "      <td>2025</td>\n",
       "      <td>27053</td>\n",
       "      <td>552</td>\n",
       "      <td>716118</td>\n",
       "      <td>All Residential</td>\n",
       "    </tr>\n",
       "    <tr>\n",
       "      <th>7</th>\n",
       "      <td>2026</td>\n",
       "      <td>27053</td>\n",
       "      <td>93</td>\n",
       "      <td>210531</td>\n",
       "      <td>All Residential</td>\n",
       "    </tr>\n",
       "    <tr>\n",
       "      <th>8</th>\n",
       "      <td>2023</td>\n",
       "      <td>27053</td>\n",
       "      <td>526</td>\n",
       "      <td>387056</td>\n",
       "      <td>Townhouse</td>\n",
       "    </tr>\n",
       "    <tr>\n",
       "      <th>9</th>\n",
       "      <td>2024</td>\n",
       "      <td>27053</td>\n",
       "      <td>280</td>\n",
       "      <td>402558</td>\n",
       "      <td>Townhouse</td>\n",
       "    </tr>\n",
       "  </tbody>\n",
       "</table>\n",
       "</div>"
      ],
      "text/plain": [
       "   year county_code  median_ppsf  median_sale_price         property\n",
       "0  2023       27053          483             274053      Condo/Co-op\n",
       "1  2024       27053           38             271021      Condo/Co-op\n",
       "2  2025       27053          700             419935      Condo/Co-op\n",
       "3  2026       27053           27             482962      Condo/Co-op\n",
       "4  2023       27053          685             223464  All Residential\n",
       "5  2024       27053          667             360849  All Residential\n",
       "6  2025       27053          552             716118  All Residential\n",
       "7  2026       27053           93             210531  All Residential\n",
       "8  2023       27053          526             387056        Townhouse\n",
       "9  2024       27053          280             402558        Townhouse"
      ]
     },
     "execution_count": 9,
     "metadata": {},
     "output_type": "execute_result"
    }
   ],
   "source": [
    "#read in dummy data\n",
    "df2 = pd.read_csv(\"dummy_data2.csv\")\n",
    "df2['county_code'] = df2['county_code'].astype(str) #convert county code as string from int\n",
    "df2.head(10)"
   ]
  },
  {
   "cell_type": "code",
   "execution_count": 10,
   "metadata": {},
   "outputs": [
    {
     "data": {
      "text/plain": [
       "year                  int64\n",
       "county_code          object\n",
       "median_ppsf           int64\n",
       "median_sale_price     int64\n",
       "property             object\n",
       "dtype: object"
      ]
     },
     "execution_count": 10,
     "metadata": {},
     "output_type": "execute_result"
    }
   ],
   "source": [
    "df2.dtypes"
   ]
  },
  {
   "cell_type": "code",
   "execution_count": 11,
   "metadata": {},
   "outputs": [],
   "source": [
    "# ------------------------------------------------------------------------------\n",
    "# App layout\n",
    "#what goes inside dash layout are the dash components and any html we need\n",
    "app.layout = html.Div([\n",
    "\n",
    "    html.H1(\"Redfin Choropleth Data\", style={'text-align': 'center'}), #html Title\n",
    "\n",
    "    html.Div(id='output_container', children=[\"Metric\"], style = {'font-weight': 'bold'}),\n",
    "\n",
    "    #components, e.g., drop downs, sliders\n",
    "    #first drop down by metric\n",
    "    dcc.Dropdown(id=\"metric\",\n",
    "                 placeholder = \"Select Metric\",\n",
    "                 options=metric_set,\n",
    "                 value=metric_set[0],\n",
    "                 style={'width': \"60%\",}\n",
    "                 ),\n",
    "\n",
    "    html.Br(), #space between dropdowns\n",
    "\n",
    "    html.Div(id='output_container', style = {'font-weight': 'bold'}, \n",
    "    children = [\"Property Type\"]\n",
    "    ),\n",
    "\n",
    "    #second drop down for property type\n",
    "    dcc.Dropdown(id=\"property_type\",\n",
    "                 placeholder = \"Select Property Type\",\n",
    "                 options=property_set,\n",
    "                 value=property_set[0],\n",
    "                 style={'width': \"60%\"},\n",
    "                 ),\n",
    "\n",
    "    \n",
    "    html.Br(), #space\n",
    "    \n",
    "    #create div element, e.g., text to display dropdown selection\n",
    "    html.Div(id='output_container', children=[]),\n",
    "\n",
    "    html.Br(), #space\n",
    "\n",
    "    #graph object, e.g., choropleth\n",
    "    dcc.Graph(id='choropleth', figure={}), \n",
    "\n",
    "    #slider object\n",
    "    dcc.Slider(0, len(sorted_dates), step = None, #min value of 0 and max of number of unique dates\n",
    "               value=0, #where the slider starts\n",
    "               marks = slider_labels,\n",
    "               tooltip={\"placement\": \"bottom\", \"always_visible\": True}, #place slider at bottom of graph\n",
    "               id='date_chosen'),\n",
    "    \n",
    "    #add line chart\n",
    "    dcc.Graph(id = \"line_chart\", figure = {})\n",
    "\n",
    "])"
   ]
  },
  {
   "cell_type": "code",
   "execution_count": 12,
   "metadata": {},
   "outputs": [],
   "source": [
    "# ------------------------------------------------------------------------------\n",
    "# Connect the Plotly graphs with Dash Components\n",
    "@app.callback(\n",
    "    Output(component_id='output_container', component_property='children'),\n",
    "    Output(component_id='choropleth', component_property='figure'),\n",
    "    Output(component_id = 'line_chart', component_property = 'figure'),\n",
    "    Input(component_id='property_type', component_property='value'),\n",
    "    Input(component_id = 'metric', component_property = 'value'),\n",
    "    Input(component_id='date_chosen', component_property='value'),\n",
    "    Input(component_id = 'choropleth', component_property = 'hoverData'))\n",
    "\n",
    "\n",
    "def update_graph(property_type, metric, date_chosen, hover):\n",
    "    print(property_type)\n",
    "    print(type(property_type))\n",
    "\n",
    "    container = \"Date Selected: {}\".format(sorted_dates[date_chosen])\n",
    "\n",
    "    dff = df.copy()\n",
    "    dff = dff[['period_begin', 'period_end', 'region', 'median_sale_price', 'median_sale_price_mom', \n",
    "    'median_ppsf', 'median_ppsf_mom', 'property_type', 'county_fips']]\n",
    "    dff = dff[dff['property_type'] == property_type]\n",
    "    dff = dff[dff['period_end'] == pd.to_datetime(sorted_dates[date_chosen], format=\"%Y/%m/%d\")]\n",
    "\n",
    "    # Plotly Express\n",
    "    fig = px.choropleth(\n",
    "        data_frame = dff,\n",
    "        geojson = counties_geojson,\n",
    "        locations='county_fips',\n",
    "        scope=\"usa\",\n",
    "        color='{}'.format(metric),\n",
    "        hover_data=['region', '{}'.format(metric), 'county_fips', 'region'],\n",
    "        color_continuous_scale= color_scale\n",
    "    )\n",
    "\n",
    "    #to generate line chart based on hover data\n",
    "    if type(hover) == dict:\n",
    "        print(hover)\n",
    "        hover_county = hover['points'][0]['customdata'][2]\n",
    "        hover_county_name = hover['points'][0]['customdata'][3]\n",
    "        hover_df = df2[(df2['property'] == property_type) & (df2['county_code'] == hover_county)]\n",
    "        line_data = px.line(hover_df, x = \"year\", y = '{}'.format(metric), title = 'Predicted {fmetric} for {fcounty}'.format(fmetric = metric, fcounty = hover_county_name))\n",
    "        result = line_data\n",
    "        result.update_layout(xaxis = dict(\n",
    "            dtick = 1\n",
    "        ))\n",
    "        \n",
    "    else:\n",
    "        result = []\n",
    "    \n",
    "\n",
    "    return container, fig, result"
   ]
  },
  {
   "cell_type": "code",
   "execution_count": 13,
   "metadata": {},
   "outputs": [
    {
     "name": "stdout",
     "output_type": "stream",
     "text": [
      "Dash is running on http://0.0.0.0:8050/\n",
      "\n",
      " * Serving Flask app '__main__'\n",
      " * Debug mode: off\n"
     ]
    },
    {
     "name": "stderr",
     "output_type": "stream",
     "text": [
      "\u001b[31m\u001b[1mWARNING: This is a development server. Do not use it in a production deployment. Use a production WSGI server instead.\u001b[0m\n",
      " * Running on all addresses (0.0.0.0)\n",
      " * Running on http://127.0.0.1:8050\n",
      " * Running on http://172.17.0.2:8050\n",
      "\u001b[33mPress CTRL+C to quit\u001b[0m\n"
     ]
    },
    {
     "name": "stdout",
     "output_type": "stream",
     "text": [
      "Exception on /_reload-hash [GET]\n",
      "Traceback (most recent call last):\n",
      "  File \"/usr/local/lib/python3.7/site-packages/flask/app.py\", line 2525, in wsgi_app\n",
      "    response = self.full_dispatch_request()\n",
      "  File \"/usr/local/lib/python3.7/site-packages/flask/app.py\", line 1822, in full_dispatch_request\n",
      "    rv = self.handle_user_exception(e)\n",
      "  File \"/usr/local/lib/python3.7/site-packages/flask/app.py\", line 1818, in full_dispatch_request\n",
      "    rv = self.preprocess_request()\n",
      "  File \"/usr/local/lib/python3.7/site-packages/flask/app.py\", line 2309, in preprocess_request\n",
      "    rv = self.ensure_sync(before_func)()\n",
      "  File \"/usr/local/lib/python3.7/site-packages/dash/dash.py\", line 1307, in _setup_server\n",
      "    _validate.validate_layout(self.layout, self._layout_value())\n",
      "  File \"/usr/local/lib/python3.7/site-packages/dash/_validate.py\", line 411, in validate_layout\n",
      "    \"\"\"\n",
      "dash.exceptions.DuplicateIdError: Duplicate component id found in the initial layout: `output_container`\n"
     ]
    },
    {
     "name": "stderr",
     "output_type": "stream",
     "text": [
      "172.17.0.1 - - [03/Dec/2022 17:18:09] \"\u001b[35m\u001b[1mGET /_reload-hash HTTP/1.1\u001b[0m\" 500 -\n",
      "172.17.0.1 - - [03/Dec/2022 17:18:16] \"GET /_reload-hash HTTP/1.1\" 200 -\n",
      "172.17.0.1 - - [03/Dec/2022 17:18:16] \"GET /_dash-dependencies HTTP/1.1\" 200 -\n",
      "172.17.0.1 - - [03/Dec/2022 17:18:16] \"GET /_dash-layout HTTP/1.1\" 200 -\n"
     ]
    },
    {
     "name": "stdout",
     "output_type": "stream",
     "text": [
      "Townhouse\n",
      "<class 'str'>\n"
     ]
    },
    {
     "name": "stderr",
     "output_type": "stream",
     "text": [
      "/usr/local/lib/python3.7/site-packages/pandas/core/ops/array_ops.py:73: FutureWarning:\n",
      "\n",
      "Comparison of Timestamp with datetime.date is deprecated in order to match the standard library behavior.  In a future version these will be considered non-comparable.Use 'ts == pd.Timestamp(date)' or 'ts.date() == date' instead.\n",
      "\n",
      "172.17.0.1 - - [03/Dec/2022 17:18:20] \"POST /_dash-update-component HTTP/1.1\" 200 -\n",
      "172.17.0.1 - - [03/Dec/2022 17:18:29] \"GET / HTTP/1.1\" 200 -\n",
      "172.17.0.1 - - [03/Dec/2022 17:18:30] \"GET /_dash-component-suites/dash/deps/prop-types@15.v2_7_0m1669578108.8.1.min.js HTTP/1.1\" 200 -\n",
      "172.17.0.1 - - [03/Dec/2022 17:18:30] \"GET /_dash-dependencies HTTP/1.1\" 200 -\n",
      "172.17.0.1 - - [03/Dec/2022 17:18:30] \"GET /_dash-layout HTTP/1.1\" 200 -\n",
      "172.17.0.1 - - [03/Dec/2022 17:18:30] \"GET /_dash-component-suites/dash/dcc/async-slider.js HTTP/1.1\" 200 -\n",
      "172.17.0.1 - - [03/Dec/2022 17:18:30] \"\u001b[36mGET /_dash-component-suites/dash/dcc/async-graph.js HTTP/1.1\u001b[0m\" 304 -\n",
      "172.17.0.1 - - [03/Dec/2022 17:18:30] \"\u001b[36mGET /_dash-component-suites/dash/dcc/async-dropdown.js HTTP/1.1\u001b[0m\" 304 -\n",
      "172.17.0.1 - - [03/Dec/2022 17:18:30] \"\u001b[36mGET /_dash-component-suites/dash/dcc/async-plotlyjs.js HTTP/1.1\u001b[0m\" 304 -\n"
     ]
    },
    {
     "name": "stdout",
     "output_type": "stream",
     "text": [
      "Townhouse\n",
      "<class 'str'>\n"
     ]
    },
    {
     "name": "stderr",
     "output_type": "stream",
     "text": [
      "/usr/local/lib/python3.7/site-packages/pandas/core/ops/array_ops.py:73: FutureWarning:\n",
      "\n",
      "Comparison of Timestamp with datetime.date is deprecated in order to match the standard library behavior.  In a future version these will be considered non-comparable.Use 'ts == pd.Timestamp(date)' or 'ts.date() == date' instead.\n",
      "\n",
      "172.17.0.1 - - [03/Dec/2022 17:18:33] \"POST /_dash-update-component HTTP/1.1\" 200 -\n"
     ]
    },
    {
     "name": "stdout",
     "output_type": "stream",
     "text": [
      "Townhouse\n",
      "<class 'str'>\n",
      "Townhouse\n",
      "<class 'str'>\n",
      "Townhouse\n",
      "<class 'str'>\n",
      "Townhouse\n",
      "<class 'str'>\n",
      "Townhouse\n",
      "<class 'str'>\n",
      "Townhouse\n",
      "<class 'str'>\n",
      "{'points': [{'curveNumber': 0, 'pointNumber': 163, 'pointIndex': 163, 'location': '04025', 'z': 151500, 'bbox': {'x0': 748.0694952866468, 'x1': 748.0694952866468, 'y0': 507.8084227799167, 'y1': 507.8084227799167}, 'customdata': ['Yavapai County', 151500, '04025', 'Yavapai County']}]}\n",
      "{'points': [{'curveNumber': 0, 'pointNumber': 174, 'pointIndex': 174, 'location': '04005', 'z': 173750, 'bbox': {'x0': 752.0142194977548, 'x1': 752.0142194977548, 'y0': 497.58476658160555, 'y1': 497.58476658160555}, 'customdata': ['Coconino County', 173750, '04005', 'Coconino County']}]}\n",
      "{'points': [{'curveNumber': 0, 'pointNumber': 163, 'pointIndex': 163, 'location': '04025', 'z': 151500, 'bbox': {'x0': 748.0694952866468, 'x1': 748.0694952866468, 'y0': 507.8084227799167, 'y1': 507.8084227799167}, 'customdata': ['Yavapai County', 151500, '04025', 'Yavapai County']}]}\n",
      "{'points': [{'curveNumber': 0, 'pointNumber': 190, 'pointIndex': 190, 'location': '04013', 'z': 78751, 'bbox': {'x0': 749.7268469474426, 'x1': 749.7268469474426, 'y0': 520.8962488273871, 'y1': 520.8962488273871}, 'customdata': ['Maricopa County', 78751, '04013', 'Maricopa County']}]}\n",
      "{'points': [{'curveNumber': 0, 'pointNumber': 23, 'pointIndex': 23, 'location': '04019', 'z': 105000, 'bbox': {'x0': 751.8654150105153, 'x1': 751.8654150105153, 'y0': 538.5734139728161, 'y1': 538.5734139728161}, 'customdata': ['Pima County', 105000, '04019', 'Pima County']}]}\n",
      "{'points': [{'curveNumber': 0, 'pointNumber': 296, 'pointIndex': 296, 'location': '06029', 'z': 46900, 'bbox': {'x0': 688.8305060809697, 'x1': 688.8305060809697, 'y0': 487.76882967381283, 'y1': 487.76882967381283}, 'customdata': ['Kern County', 46900, '06029', 'Kern County']}]}\n"
     ]
    },
    {
     "name": "stderr",
     "output_type": "stream",
     "text": [
      "172.17.0.1 - - [03/Dec/2022 17:18:46] \"POST /_dash-update-component HTTP/1.1\" 200 -\n",
      "172.17.0.1 - - [03/Dec/2022 17:18:46] \"POST /_dash-update-component HTTP/1.1\" 200 -\n"
     ]
    },
    {
     "name": "stdout",
     "output_type": "stream",
     "text": [
      "Townhouse\n",
      "<class 'str'>\n",
      "Townhouse\n",
      "<class 'str'>\n"
     ]
    },
    {
     "name": "stderr",
     "output_type": "stream",
     "text": [
      "172.17.0.1 - - [03/Dec/2022 17:18:47] \"POST /_dash-update-component HTTP/1.1\" 200 -\n",
      "172.17.0.1 - - [03/Dec/2022 17:18:47] \"POST /_dash-update-component HTTP/1.1\" 200 -\n"
     ]
    },
    {
     "name": "stdout",
     "output_type": "stream",
     "text": [
      "Townhouse\n",
      "<class 'str'>\n"
     ]
    },
    {
     "name": "stderr",
     "output_type": "stream",
     "text": [
      "172.17.0.1 - - [03/Dec/2022 17:18:47] \"POST /_dash-update-component HTTP/1.1\" 200 -\n",
      "172.17.0.1 - - [03/Dec/2022 17:18:48] \"POST /_dash-update-component HTTP/1.1\" 200 -\n"
     ]
    },
    {
     "name": "stdout",
     "output_type": "stream",
     "text": [
      "Townhouse\n",
      "<class 'str'>\n",
      "Townhouse\n",
      "<class 'str'>\n",
      "Townhouse\n",
      "<class 'str'>\n",
      "{'points': [{'curveNumber': 0, 'pointNumber': 222, 'pointIndex': 222, 'location': '42071', 'z': 126750, 'bbox': {'x0': 1069.1957885969778, 'x1': 1069.1957885969778, 'y0': 442.196979409647, 'y1': 442.196979409647}, 'customdata': ['Lancaster County', 126750, '42071', 'Lancaster County']}]}\n",
      "{'points': [{'curveNumber': 0, 'pointNumber': 351, 'pointIndex': 351, 'location': '45029', 'z': 227950, 'bbox': {'x0': 1046.2556257604233, 'x1': 1046.2556257604233, 'y0': 531.9061843469417, 'y1': 531.9061843469417}, 'customdata': ['Colleton County', 227950, '45029', 'Colleton County']}]}\n",
      "{'points': [{'curveNumber': 0, 'pointNumber': 245, 'pointIndex': 245, 'location': '45043', 'z': 103000, 'bbox': {'x0': 1056.3510276085071, 'x1': 1056.3510276085071, 'y0': 519.7272693181769, 'y1': 519.7272693181769}, 'customdata': ['Georgetown County', 103000, '45043', 'Georgetown County']}]}\n",
      "{'points': [{'curveNumber': 0, 'pointNumber': 123, 'pointIndex': 123, 'location': '42043', 'z': 90000, 'bbox': {'x0': 1064.2430604994831, 'x1': 1064.2430604994831, 'y0': 436.56163547476365, 'y1': 436.56163547476365}, 'customdata': ['Dauphin County', 90000, '42043', 'Dauphin County']}]}\n",
      "{'points': [{'curveNumber': 0, 'pointNumber': 136, 'pointIndex': 136, 'location': '51085', 'z': 225660, 'bbox': {'x0': 1062.5086726096758, 'x1': 1062.5086726096758, 'y0': 468.6009114687799, 'y1': 468.6009114687799}, 'customdata': ['Hanover County', 225660, '51085', 'Hanover County']}]}\n"
     ]
    },
    {
     "name": "stderr",
     "output_type": "stream",
     "text": [
      "172.17.0.1 - - [03/Dec/2022 17:18:59] \"POST /_dash-update-component HTTP/1.1\" 200 -\n",
      "172.17.0.1 - - [03/Dec/2022 17:19:00] \"POST /_dash-update-component HTTP/1.1\" 200 -\n"
     ]
    },
    {
     "name": "stdout",
     "output_type": "stream",
     "text": [
      "{'points': [{'curveNumber': 0, 'pointNumber': 118, 'pointIndex': 118, 'location': '13051', 'z': 124950, 'bbox': {'x0': 1042.957724839157, 'x1': 1042.957724839157, 'y0': 541.3322175713621, 'y1': 541.3322175713621}, 'customdata': ['Chatham County', 124950, '13051', 'Chatham County']}]}\n",
      "Townhouse\n",
      "<class 'str'>\n",
      "Townhouse\n",
      "<class 'str'>\n"
     ]
    },
    {
     "name": "stderr",
     "output_type": "stream",
     "text": [
      "172.17.0.1 - - [03/Dec/2022 17:19:02] \"POST /_dash-update-component HTTP/1.1\" 200 -\n",
      "172.17.0.1 - - [03/Dec/2022 17:19:03] \"POST /_dash-update-component HTTP/1.1\" 200 -\n"
     ]
    },
    {
     "name": "stdout",
     "output_type": "stream",
     "text": [
      "Townhouse\n",
      "<class 'str'>\n"
     ]
    },
    {
     "name": "stderr",
     "output_type": "stream",
     "text": [
      "172.17.0.1 - - [03/Dec/2022 17:19:03] \"POST /_dash-update-component HTTP/1.1\" 200 -\n"
     ]
    },
    {
     "name": "stdout",
     "output_type": "stream",
     "text": [
      "Townhouse\n",
      "<class 'str'>\n"
     ]
    },
    {
     "name": "stderr",
     "output_type": "stream",
     "text": [
      "172.17.0.1 - - [03/Dec/2022 17:19:03] \"POST /_dash-update-component HTTP/1.1\" 200 -\n"
     ]
    },
    {
     "name": "stdout",
     "output_type": "stream",
     "text": [
      "Townhouse\n",
      "<class 'str'>\n",
      "{'points': [{'curveNumber': 0, 'pointNumber': 166, 'pointIndex': 166, 'location': '45013', 'z': 154000, 'bbox': {'x0': 1045.694246829276, 'x1': 1045.694246829276, 'y0': 536.1295392434156, 'y1': 536.1295392434156}, 'customdata': ['Beaufort County', 154000, '45013', 'Beaufort County']}]}\n",
      "{'points': [{'curveNumber': 0, 'pointNumber': 166, 'pointIndex': 166, 'location': '45013', 'z': 154000, 'bbox': {'x0': 1045.694246829276, 'x1': 1045.694246829276, 'y0': 536.1295392434156, 'y1': 536.1295392434156}, 'customdata': ['Beaufort County', 154000, '45013', 'Beaufort County']}]}\n",
      "{'points': [{'curveNumber': 0, 'pointNumber': 156, 'pointIndex': 156, 'location': '36103', 'z': 285000, 'bbox': {'x0': 1096.5158585006627, 'x1': 1096.5158585006627, 'y0': 424.7353269882789, 'y1': 424.7353269882789}, 'customdata': ['Suffolk County', 285000, '36103', 'Suffolk County']}]}\n"
     ]
    },
    {
     "name": "stderr",
     "output_type": "stream",
     "text": [
      "172.17.0.1 - - [03/Dec/2022 17:19:09] \"POST /_dash-update-component HTTP/1.1\" 200 -\n"
     ]
    },
    {
     "name": "stdout",
     "output_type": "stream",
     "text": [
      "{'points': [{'curveNumber': 0, 'pointNumber': 209, 'pointIndex': 209, 'location': '49003', 'z': 91750, 'bbox': {'x0': 758.8901790504003, 'x1': 758.8901790504003, 'y0': 427.0011633883012, 'y1': 427.0011633883012}, 'customdata': ['Box Elder County', 91750, '49003', 'Box Elder County']}]}\n"
     ]
    },
    {
     "name": "stderr",
     "output_type": "stream",
     "text": [
      "172.17.0.1 - - [03/Dec/2022 17:19:11] \"POST /_dash-update-component HTTP/1.1\" 200 -\n",
      "172.17.0.1 - - [03/Dec/2022 17:19:11] \"POST /_dash-update-component HTTP/1.1\" 200 -\n",
      "172.17.0.1 - - [03/Dec/2022 17:19:11] \"POST /_dash-update-component HTTP/1.1\" 200 -\n"
     ]
    },
    {
     "name": "stdout",
     "output_type": "stream",
     "text": [
      "{'points': [{'curveNumber': 0, 'pointNumber': 77, 'pointIndex': 77, 'location': '15001', 'z': 485750, 'bbox': {'x0': 808.8477061852592, 'x1': 808.8477061852592, 'y0': 616.5625588549067, 'y1': 616.5625588549067}, 'customdata': ['Hawaii County', 485750, '15001', 'Hawaii County']}]}\n"
     ]
    },
    {
     "name": "stderr",
     "output_type": "stream",
     "text": [
      "172.17.0.1 - - [03/Dec/2022 17:19:12] \"POST /_dash-update-component HTTP/1.1\" 200 -\n",
      "172.17.0.1 - - [03/Dec/2022 17:19:21] \"GET /_reload-hash HTTP/1.1\" 200 -\n"
     ]
    },
    {
     "name": "stdout",
     "output_type": "stream",
     "text": [
      "Townhouse\n",
      "<class 'str'>\n",
      "Townhouse\n",
      "<class 'str'>\n",
      "Townhouse\n",
      "<class 'str'>\n",
      "{'points': [{'curveNumber': 0, 'pointNumber': 77, 'pointIndex': 77, 'location': '15001', 'z': 485750, 'bbox': {'x0': 808.8477061852592, 'x1': 808.8477061852592, 'y0': 616.5625588549067, 'y1': 616.5625588549067}, 'customdata': ['Hawaii County', 485750, '15001', 'Hawaii County']}]}\n"
     ]
    },
    {
     "name": "stderr",
     "output_type": "stream",
     "text": [
      "172.17.0.1 - - [03/Dec/2022 17:19:29] \"POST /_dash-update-component HTTP/1.1\" 200 -\n"
     ]
    },
    {
     "name": "stdout",
     "output_type": "stream",
     "text": [
      "{'points': [{'curveNumber': 0, 'pointNumber': 77, 'pointIndex': 77, 'location': '15001', 'z': 485750, 'bbox': {'x0': 808.8477061852592, 'x1': 808.8477061852592, 'y0': 616.5625588549067, 'y1': 616.5625588549067}, 'customdata': ['Hawaii County', 485750, '15001', 'Hawaii County']}]}\n"
     ]
    },
    {
     "name": "stderr",
     "output_type": "stream",
     "text": [
      "172.17.0.1 - - [03/Dec/2022 17:19:30] \"POST /_dash-update-component HTTP/1.1\" 200 -\n"
     ]
    },
    {
     "name": "stdout",
     "output_type": "stream",
     "text": [
      "{'points': [{'curveNumber': 0, 'pointNumber': 77, 'pointIndex': 77, 'location': '15001', 'z': 485750, 'bbox': {'x0': 808.8477061852592, 'x1': 808.8477061852592, 'y0': 616.5625588549067, 'y1': 616.5625588549067}, 'customdata': ['Hawaii County', 485750, '15001', 'Hawaii County']}]}\n"
     ]
    },
    {
     "name": "stderr",
     "output_type": "stream",
     "text": [
      "172.17.0.1 - - [03/Dec/2022 17:19:31] \"POST /_dash-update-component HTTP/1.1\" 200 -\n",
      "172.17.0.1 - - [03/Dec/2022 17:20:38] \"GET /_reload-hash HTTP/1.1\" 200 -\n",
      "172.17.0.1 - - [03/Dec/2022 17:22:46] \"GET /_reload-hash HTTP/1.1\" 200 -\n",
      "172.17.0.1 - - [03/Dec/2022 17:25:21] \"GET /_reload-hash HTTP/1.1\" 200 -\n",
      "172.17.0.1 - - [03/Dec/2022 17:29:37] \"GET /_reload-hash HTTP/1.1\" 200 -\n",
      "172.17.0.1 - - [03/Dec/2022 17:32:44] \"GET /_reload-hash HTTP/1.1\" 200 -\n",
      "172.17.0.1 - - [03/Dec/2022 17:38:04] \"GET /_reload-hash HTTP/1.1\" 200 -\n",
      "172.17.0.1 - - [03/Dec/2022 17:43:24] \"GET /_reload-hash HTTP/1.1\" 200 -\n",
      "172.17.0.1 - - [03/Dec/2022 17:48:44] \"GET /_reload-hash HTTP/1.1\" 200 -\n",
      "172.17.0.1 - - [03/Dec/2022 17:54:04] \"GET /_reload-hash HTTP/1.1\" 200 -\n",
      "172.17.0.1 - - [03/Dec/2022 17:59:25] \"GET /_reload-hash HTTP/1.1\" 200 -\n",
      "172.17.0.1 - - [03/Dec/2022 18:04:49] \"GET /_reload-hash HTTP/1.1\" 200 -\n",
      "172.17.0.1 - - [03/Dec/2022 18:10:14] \"GET /_reload-hash HTTP/1.1\" 200 -\n",
      "172.17.0.1 - - [03/Dec/2022 18:15:38] \"GET /_reload-hash HTTP/1.1\" 200 -\n",
      "172.17.0.1 - - [03/Dec/2022 18:21:00] \"GET /_reload-hash HTTP/1.1\" 200 -\n",
      "172.17.0.1 - - [03/Dec/2022 18:26:23] \"GET /_reload-hash HTTP/1.1\" 200 -\n",
      "172.17.0.1 - - [03/Dec/2022 18:31:27] \"GET /_reload-hash HTTP/1.1\" 200 -\n",
      "172.17.0.1 - - [03/Dec/2022 18:37:07] \"GET /_reload-hash HTTP/1.1\" 200 -\n",
      "172.17.0.1 - - [03/Dec/2022 18:42:47] \"GET /_reload-hash HTTP/1.1\" 200 -\n",
      "172.17.0.1 - - [03/Dec/2022 18:48:28] \"GET /_reload-hash HTTP/1.1\" 200 -\n",
      "172.17.0.1 - - [03/Dec/2022 18:54:11] \"GET /_reload-hash HTTP/1.1\" 200 -\n",
      "172.17.0.1 - - [03/Dec/2022 18:59:53] \"GET /_reload-hash HTTP/1.1\" 200 -\n",
      "172.17.0.1 - - [03/Dec/2022 19:05:33] \"GET /_reload-hash HTTP/1.1\" 200 -\n",
      "172.17.0.1 - - [03/Dec/2022 19:11:13] \"GET /_reload-hash HTTP/1.1\" 200 -\n",
      "172.17.0.1 - - [03/Dec/2022 19:16:53] \"GET /_reload-hash HTTP/1.1\" 200 -\n",
      "172.17.0.1 - - [03/Dec/2022 19:22:38] \"GET /_reload-hash HTTP/1.1\" 200 -\n",
      "172.17.0.1 - - [03/Dec/2022 19:28:23] \"GET /_reload-hash HTTP/1.1\" 200 -\n",
      "172.17.0.1 - - [03/Dec/2022 19:34:06] \"GET /_reload-hash HTTP/1.1\" 200 -\n",
      "172.17.0.1 - - [03/Dec/2022 19:39:46] \"GET /_reload-hash HTTP/1.1\" 200 -\n",
      "172.17.0.1 - - [03/Dec/2022 19:45:31] \"GET /_reload-hash HTTP/1.1\" 200 -\n",
      "172.17.0.1 - - [03/Dec/2022 19:51:16] \"GET /_reload-hash HTTP/1.1\" 200 -\n",
      "172.17.0.1 - - [03/Dec/2022 19:57:00] \"GET /_reload-hash HTTP/1.1\" 200 -\n",
      "172.17.0.1 - - [03/Dec/2022 20:02:42] \"GET /_reload-hash HTTP/1.1\" 200 -\n",
      "172.17.0.1 - - [03/Dec/2022 20:08:24] \"GET /_reload-hash HTTP/1.1\" 200 -\n",
      "172.17.0.1 - - [03/Dec/2022 20:08:28] \"GET /_reload-hash HTTP/1.1\" 200 -\n",
      "172.17.0.1 - - [03/Dec/2022 20:14:28] \"GET /_reload-hash HTTP/1.1\" 200 -\n",
      "172.17.0.1 - - [03/Dec/2022 20:20:28] \"GET /_reload-hash HTTP/1.1\" 200 -\n",
      "172.17.0.1 - - [03/Dec/2022 20:26:28] \"GET /_reload-hash HTTP/1.1\" 200 -\n",
      "172.17.0.1 - - [03/Dec/2022 20:32:28] \"GET /_reload-hash HTTP/1.1\" 200 -\n",
      "172.17.0.1 - - [03/Dec/2022 20:38:28] \"GET /_reload-hash HTTP/1.1\" 200 -\n",
      "172.17.0.1 - - [03/Dec/2022 20:44:32] \"GET /_reload-hash HTTP/1.1\" 200 -\n",
      "172.17.0.1 - - [03/Dec/2022 20:50:32] \"GET /_reload-hash HTTP/1.1\" 200 -\n",
      "172.17.0.1 - - [03/Dec/2022 20:56:32] \"GET /_reload-hash HTTP/1.1\" 200 -\n",
      "172.17.0.1 - - [03/Dec/2022 21:02:32] \"GET /_reload-hash HTTP/1.1\" 200 -\n",
      "172.17.0.1 - - [03/Dec/2022 21:08:31] \"GET /_reload-hash HTTP/1.1\" 200 -\n",
      "172.17.0.1 - - [03/Dec/2022 21:14:31] \"GET /_reload-hash HTTP/1.1\" 200 -\n",
      "172.17.0.1 - - [03/Dec/2022 21:20:31] \"GET /_reload-hash HTTP/1.1\" 200 -\n",
      "172.17.0.1 - - [03/Dec/2022 21:26:32] \"GET /_reload-hash HTTP/1.1\" 200 -\n",
      "172.17.0.1 - - [03/Dec/2022 21:31:56] \"GET /_reload-hash HTTP/1.1\" 200 -\n",
      "172.17.0.1 - - [03/Dec/2022 21:38:16] \"GET /_reload-hash HTTP/1.1\" 200 -\n",
      "172.17.0.1 - - [03/Dec/2022 21:44:35] \"GET /_reload-hash HTTP/1.1\" 200 -\n",
      "172.17.0.1 - - [03/Dec/2022 21:50:55] \"GET /_reload-hash HTTP/1.1\" 200 -\n",
      "172.17.0.1 - - [03/Dec/2022 21:57:16] \"GET /_reload-hash HTTP/1.1\" 200 -\n",
      "172.17.0.1 - - [03/Dec/2022 21:59:20] \"GET /_reload-hash HTTP/1.1\" 200 -\n",
      "172.17.0.1 - - [03/Dec/2022 22:05:59] \"GET /_reload-hash HTTP/1.1\" 200 -\n",
      "172.17.0.1 - - [03/Dec/2022 22:09:55] \"GET /_reload-hash HTTP/1.1\" 200 -\n",
      "172.17.0.1 - - [03/Dec/2022 22:16:15] \"GET /_reload-hash HTTP/1.1\" 200 -\n",
      "172.17.0.1 - - [03/Dec/2022 22:22:35] \"GET /_reload-hash HTTP/1.1\" 200 -\n",
      "172.17.0.1 - - [03/Dec/2022 22:28:56] \"GET /_reload-hash HTTP/1.1\" 200 -\n",
      "172.17.0.1 - - [03/Dec/2022 22:35:22] \"GET /_reload-hash HTTP/1.1\" 200 -\n",
      "172.17.0.1 - - [03/Dec/2022 22:41:47] \"GET /_reload-hash HTTP/1.1\" 200 -\n",
      "172.17.0.1 - - [03/Dec/2022 22:48:09] \"GET /_reload-hash HTTP/1.1\" 200 -\n",
      "172.17.0.1 - - [03/Dec/2022 22:54:30] \"GET /_reload-hash HTTP/1.1\" 200 -\n",
      "172.17.0.1 - - [03/Dec/2022 23:00:51] \"GET /_reload-hash HTTP/1.1\" 200 -\n",
      "172.17.0.1 - - [03/Dec/2022 23:07:11] \"GET /_reload-hash HTTP/1.1\" 200 -\n",
      "172.17.0.1 - - [03/Dec/2022 23:14:10] \"GET /_reload-hash HTTP/1.1\" 200 -\n",
      "172.17.0.1 - - [03/Dec/2022 23:20:14] \"GET /_reload-hash HTTP/1.1\" 200 -\n",
      "172.17.0.1 - - [03/Dec/2022 23:22:02] \"GET /_reload-hash HTTP/1.1\" 200 -\n",
      "172.17.0.1 - - [03/Dec/2022 23:27:42] \"GET /_reload-hash HTTP/1.1\" 200 -\n",
      "172.17.0.1 - - [03/Dec/2022 23:33:26] \"GET /_reload-hash HTTP/1.1\" 200 -\n",
      "172.17.0.1 - - [03/Dec/2022 23:39:02] \"GET /_reload-hash HTTP/1.1\" 200 -\n",
      "172.17.0.1 - - [03/Dec/2022 23:44:42] \"GET /_reload-hash HTTP/1.1\" 200 -\n",
      "172.17.0.1 - - [03/Dec/2022 23:50:22] \"GET /_reload-hash HTTP/1.1\" 200 -\n",
      "172.17.0.1 - - [03/Dec/2022 23:56:02] \"GET /_reload-hash HTTP/1.1\" 200 -\n",
      "172.17.0.1 - - [04/Dec/2022 00:01:42] \"GET /_reload-hash HTTP/1.1\" 200 -\n",
      "172.17.0.1 - - [04/Dec/2022 00:07:23] \"GET /_reload-hash HTTP/1.1\" 200 -\n",
      "172.17.0.1 - - [04/Dec/2022 00:13:02] \"GET /_reload-hash HTTP/1.1\" 200 -\n",
      "172.17.0.1 - - [04/Dec/2022 00:18:42] \"GET /_reload-hash HTTP/1.1\" 200 -\n",
      "172.17.0.1 - - [04/Dec/2022 00:24:23] \"GET /_reload-hash HTTP/1.1\" 200 -\n",
      "172.17.0.1 - - [04/Dec/2022 00:30:03] \"GET /_reload-hash HTTP/1.1\" 200 -\n",
      "172.17.0.1 - - [04/Dec/2022 00:33:27] \"GET /_reload-hash HTTP/1.1\" 200 -\n",
      "172.17.0.1 - - [04/Dec/2022 00:39:27] \"GET /_reload-hash HTTP/1.1\" 200 -\n",
      "172.17.0.1 - - [04/Dec/2022 00:45:27] \"GET /_reload-hash HTTP/1.1\" 200 -\n",
      "172.17.0.1 - - [04/Dec/2022 00:51:27] \"GET /_reload-hash HTTP/1.1\" 200 -\n",
      "172.17.0.1 - - [04/Dec/2022 00:52:39] \"GET /_reload-hash HTTP/1.1\" 200 -\n",
      "172.17.0.1 - - [04/Dec/2022 00:53:35] \"GET /_reload-hash HTTP/1.1\" 200 -\n",
      "172.17.0.1 - - [04/Dec/2022 01:00:15] \"GET /_reload-hash HTTP/1.1\" 200 -\n",
      "172.17.0.1 - - [04/Dec/2022 01:06:55] \"GET /_reload-hash HTTP/1.1\" 200 -\n",
      "172.17.0.1 - - [04/Dec/2022 01:13:35] \"GET /_reload-hash HTTP/1.1\" 200 -\n",
      "172.17.0.1 - - [04/Dec/2022 01:20:20] \"GET /_reload-hash HTTP/1.1\" 200 -\n",
      "172.17.0.1 - - [04/Dec/2022 01:27:04] \"GET /_reload-hash HTTP/1.1\" 200 -\n",
      "172.17.0.1 - - [04/Dec/2022 01:27:48] \"GET /_reload-hash HTTP/1.1\" 200 -\n",
      "172.17.0.1 - - [04/Dec/2022 01:34:48] \"GET /_reload-hash HTTP/1.1\" 200 -\n",
      "172.17.0.1 - - [04/Dec/2022 01:41:48] \"GET /_reload-hash HTTP/1.1\" 200 -\n",
      "172.17.0.1 - - [04/Dec/2022 01:48:48] \"GET /_reload-hash HTTP/1.1\" 200 -\n",
      "172.17.0.1 - - [04/Dec/2022 01:55:48] \"GET /_reload-hash HTTP/1.1\" 200 -\n",
      "172.17.0.1 - - [04/Dec/2022 02:02:48] \"GET /_reload-hash HTTP/1.1\" 200 -\n",
      "172.17.0.1 - - [04/Dec/2022 02:09:48] \"GET /_reload-hash HTTP/1.1\" 200 -\n",
      "172.17.0.1 - - [04/Dec/2022 02:16:48] \"GET /_reload-hash HTTP/1.1\" 200 -\n",
      "172.17.0.1 - - [04/Dec/2022 02:23:48] \"GET /_reload-hash HTTP/1.1\" 200 -\n",
      "172.17.0.1 - - [04/Dec/2022 02:30:48] \"GET /_reload-hash HTTP/1.1\" 200 -\n",
      "172.17.0.1 - - [04/Dec/2022 02:37:48] \"GET /_reload-hash HTTP/1.1\" 200 -\n",
      "172.17.0.1 - - [04/Dec/2022 02:44:48] \"GET /_reload-hash HTTP/1.1\" 200 -\n",
      "172.17.0.1 - - [04/Dec/2022 02:51:12] \"GET /_reload-hash HTTP/1.1\" 200 -\n",
      "172.17.0.1 - - [04/Dec/2022 02:52:56] \"GET /_reload-hash HTTP/1.1\" 200 -\n",
      "172.17.0.1 - - [04/Dec/2022 03:00:36] \"GET /_reload-hash HTTP/1.1\" 200 -\n",
      "172.17.0.1 - - [04/Dec/2022 03:08:16] \"GET /_reload-hash HTTP/1.1\" 200 -\n",
      "172.17.0.1 - - [04/Dec/2022 03:15:56] \"GET /_reload-hash HTTP/1.1\" 200 -\n",
      "172.17.0.1 - - [04/Dec/2022 03:23:36] \"GET /_reload-hash HTTP/1.1\" 200 -\n",
      "172.17.0.1 - - [04/Dec/2022 03:31:16] \"GET /_reload-hash HTTP/1.1\" 200 -\n",
      "172.17.0.1 - - [04/Dec/2022 03:38:56] \"GET /_reload-hash HTTP/1.1\" 200 -\n",
      "172.17.0.1 - - [04/Dec/2022 03:46:38] \"GET /_reload-hash HTTP/1.1\" 200 -\n",
      "172.17.0.1 - - [04/Dec/2022 03:54:24] \"GET /_reload-hash HTTP/1.1\" 200 -\n",
      "172.17.0.1 - - [04/Dec/2022 04:06:06] \"GET /_reload-hash HTTP/1.1\" 200 -\n",
      "172.17.0.1 - - [04/Dec/2022 04:08:42] \"GET /_reload-hash HTTP/1.1\" 200 -\n",
      "172.17.0.1 - - [04/Dec/2022 04:13:46] \"GET /_reload-hash HTTP/1.1\" 200 -\n",
      "172.17.0.1 - - [04/Dec/2022 04:16:02] \"GET /_reload-hash HTTP/1.1\" 200 -\n",
      "172.17.0.1 - - [04/Dec/2022 04:21:26] \"GET /_reload-hash HTTP/1.1\" 200 -\n",
      "172.17.0.1 - - [04/Dec/2022 04:29:06] \"GET /_reload-hash HTTP/1.1\" 200 -\n",
      "172.17.0.1 - - [04/Dec/2022 04:36:46] \"GET /_reload-hash HTTP/1.1\" 200 -\n",
      "172.17.0.1 - - [04/Dec/2022 04:44:26] \"GET /_reload-hash HTTP/1.1\" 200 -\n",
      "172.17.0.1 - - [04/Dec/2022 04:51:34] \"GET /_reload-hash HTTP/1.1\" 200 -\n",
      "172.17.0.1 - - [04/Dec/2022 04:54:10] \"GET /_reload-hash HTTP/1.1\" 200 -\n",
      "172.17.0.1 - - [04/Dec/2022 05:02:11] \"GET /_reload-hash HTTP/1.1\" 200 -\n",
      "172.17.0.1 - - [04/Dec/2022 05:08:14] \"GET /_reload-hash HTTP/1.1\" 200 -\n",
      "172.17.0.1 - - [04/Dec/2022 05:16:34] \"GET /_reload-hash HTTP/1.1\" 200 -\n",
      "172.17.0.1 - - [04/Dec/2022 05:21:14] \"GET / HTTP/1.1\" 200 -\n",
      "172.17.0.1 - - [04/Dec/2022 05:21:14] \"GET /_dash-dependencies HTTP/1.1\" 200 -\n",
      "172.17.0.1 - - [04/Dec/2022 05:21:14] \"GET /_dash-layout HTTP/1.1\" 200 -\n",
      "172.17.0.1 - - [04/Dec/2022 05:21:14] \"GET /apple-touch-icon-precomposed.png HTTP/1.1\" 200 -\n",
      "172.17.0.1 - - [04/Dec/2022 05:21:14] \"GET /apple-touch-icon.png HTTP/1.1\" 200 -\n",
      "172.17.0.1 - - [04/Dec/2022 05:21:15] \"\u001b[36mGET /_dash-component-suites/dash/dcc/async-dropdown.js HTTP/1.1\u001b[0m\" 304 -\n",
      "172.17.0.1 - - [04/Dec/2022 05:21:15] \"\u001b[36mGET /_dash-component-suites/dash/dcc/async-slider.js HTTP/1.1\u001b[0m\" 304 -\n",
      "172.17.0.1 - - [04/Dec/2022 05:21:15] \"\u001b[36mGET /_dash-component-suites/dash/dcc/async-plotlyjs.js HTTP/1.1\u001b[0m\" 304 -\n",
      "172.17.0.1 - - [04/Dec/2022 05:21:15] \"\u001b[36mGET /_dash-component-suites/dash/dcc/async-graph.js HTTP/1.1\u001b[0m\" 304 -\n"
     ]
    },
    {
     "name": "stdout",
     "output_type": "stream",
     "text": [
      "Townhouse\n",
      "<class 'str'>\n",
      "All Residential\n",
      "<class 'str'>\n"
     ]
    },
    {
     "name": "stderr",
     "output_type": "stream",
     "text": [
      "172.17.0.1 - - [04/Dec/2022 05:21:27] \"POST /_dash-update-component HTTP/1.1\" 200 -\n",
      "172.17.0.1 - - [04/Dec/2022 05:21:28] \"POST /_dash-update-component HTTP/1.1\" 200 -\n"
     ]
    }
   ],
   "source": [
    "if __name__ == '__main__':\n",
    "    app.run_server(host= '0.0.0.0',port=8050, debug=False)"
   ]
  },
  {
   "cell_type": "markdown",
   "metadata": {},
   "source": [
    "# Experiments"
   ]
  },
  {
   "cell_type": "code",
   "execution_count": null,
   "metadata": {},
   "outputs": [],
   "source": [
    "# df_copy = df.copy()\n",
    "# df_copy = df_copy[['period_begin', 'period_end', 'county_fips', 'median_sale_price']]\n",
    "# df_copy['period_begin'] = pd.to_datetime(df_copy['period_begin'], format=\"%Y/%m/%d\").dt.date\n",
    "# df_copy['period_end'] = pd.to_datetime(df_copy['period_end'], format=\"%Y/%m/%d\").dt.date\n",
    "# df_2016 = df_copy[df_copy[\"period_end\"] == datetime.date(2016,1,31)]\n",
    "# df_2016.head(5)"
   ]
  },
  {
   "cell_type": "code",
   "execution_count": null,
   "metadata": {},
   "outputs": [],
   "source": [
    "# fig = px.choropleth(df_2016, geojson = counties_geojson, locations = 'county_fips', color = 'median_sale_price',\n",
    "#                                     color_continuous_scale=\"Viridis\",\n",
    "#                                     range_color=(0, 1000000),\n",
    "#                                     scope=\"usa\",\n",
    "#                                     labels={'median_sale_price':'median sale price'}\n",
    "#                                     )\n",
    "\n",
    "# fig.update_layout(margin={\"r\":0,\"t\":0,\"l\":0,\"b\":0})\n",
    "\n",
    "# fig.show()"
   ]
  },
  {
   "cell_type": "code",
   "execution_count": null,
   "metadata": {},
   "outputs": [],
   "source": []
  }
 ],
 "metadata": {
  "kernelspec": {
   "display_name": "Python 3 (ipykernel)",
   "language": "python",
   "name": "python3"
  },
  "language_info": {
   "codemirror_mode": {
    "name": "ipython",
    "version": 3
   },
   "file_extension": ".py",
   "mimetype": "text/x-python",
   "name": "python",
   "nbconvert_exporter": "python",
   "pygments_lexer": "ipython3",
   "version": "3.7.15"
  },
  "vscode": {
   "interpreter": {
    "hash": "d60f0b7e86408b0863659995fe6bf30511ae2ba8424ff2f107f1360b83cb8595"
   }
  }
 },
 "nbformat": 4,
 "nbformat_minor": 4
}
