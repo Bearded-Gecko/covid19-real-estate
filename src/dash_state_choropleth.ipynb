{
 "cells": [
  {
   "cell_type": "code",
   "execution_count": 1,
   "metadata": {},
   "outputs": [],
   "source": [
    "import pandas as pd\n",
    "import plotly.express as px  # (version 4.7.0 or higher)\n",
    "import plotly.graph_objects as go\n",
    "import dash\n",
    "from dash import Dash, html, dcc\n",
    "# import dash_core_components as dcc \n",
    "# import dash_html_components as html\n",
    "from dash.dependencies import Input, Output, State\n",
    "import datetime\n",
    "\n",
    "# from visualize import Visualize2\n",
    "import random\n",
    "# from google.cloud import bigquery\n",
    "# from google.oauth2 import service_account\n",
    "import pandas as pd\n",
    "import numpy as np\n",
    "import json"
   ]
  },
  {
   "cell_type": "code",
   "execution_count": 2,
   "metadata": {},
   "outputs": [],
   "source": [
    "# credentials = service_account.Credentials.from_service_account_file(\n",
    "# 'chain-coders-5d47d58b2c33.json')\n",
    "\n",
    "# project_id = 'chain-coders'\n",
    "# client = bigquery.Client(credentials= credentials,project=project_id)\n",
    "# query = \"SELECT * FROM `redfin.redfin-data-state`\"\n",
    "# df = client.query(query).to_dataframe()"
   ]
  },
  {
   "cell_type": "code",
   "execution_count": 3,
   "metadata": {},
   "outputs": [],
   "source": [
    "app = dash.Dash(__name__)"
   ]
  },
  {
   "cell_type": "code",
   "execution_count": 4,
   "metadata": {},
   "outputs": [],
   "source": [
    "# #get us states json file\n",
    "# file = \"us-states.json\"\n",
    "# with open(\"{}\".format(file)) as user_file:\n",
    "#     geojson = json.load(user_file)"
   ]
  },
  {
   "cell_type": "code",
   "execution_count": 5,
   "metadata": {},
   "outputs": [],
   "source": [
    "# -- Import and clean data (importing csv into pandas)\n",
    "df = pd.read_csv(\"state_market_tracker.csv\")\n",
    "\n",
    "#format data type for time\n",
    "df['period_begin'] = pd.to_datetime(df['period_begin'], format=\"%m/%d/%Y\").dt.date\n",
    "df['period_end'] = pd.to_datetime(df['period_end'], format=\"%m/%d/%Y\").dt.date\n",
    "\n",
    "# #format data type for time\n",
    "# df['period_begin'] = pd.to_datetime(df['period_begin'], format=\"%Y/%m/%d\").dt.date\n",
    "# df['period_end'] = pd.to_datetime(df['period_end'], format=\"%Y/%m/%d\").dt.date\n",
    "\n",
    "#property types for drop down\n",
    "property_set = list(set(df['property_type'].values.tolist()))\n",
    "\n",
    "#metric types for dropdown\n",
    "metric_set = ['median_sale_price', 'median_ppsf', 'median_sale_price_mom', 'median_ppsf_mom']\n",
    "\n",
    "#dates for slider\n",
    "sorted_dates = np.sort(df['period_end'].unique())\n",
    "sorted_dates = ['{}'.format(i) for i in sorted_dates] #convert each date to string within a list\n",
    "counter = 0\n",
    "year = 2012\n",
    "slider_labels = {}\n",
    "#labels for slider\n",
    "for index, date in enumerate(sorted_dates):\n",
    "       if counter == index:\n",
    "              slider_labels['{}'.format(index)] = year\n",
    "              year += 1\n",
    "              counter += 12\n",
    "       else: \n",
    "              slider_labels['{}'.format(index)] = ''\n",
    "\n",
    "# labels = {index: date for index, date in enumerate(sorted_dates)} #labels of dates for slider object\n",
    "\n",
    "#color-scale\n",
    "color_scale = [[0.0, '#edf8fb'],[0.2, '#ccece6'],[0.4, '#99d8c9'],\n",
    "       [0.6, '#66c2a4'],[0.8, '#2ca25f'],[1.0, '#006d2c']] # purples\n"
   ]
  },
  {
   "cell_type": "code",
   "execution_count": 6,
   "metadata": {},
   "outputs": [
    {
     "name": "stdout",
     "output_type": "stream",
     "text": [
      "{'0': 2012, '1': '', '2': '', '3': '', '4': '', '5': '', '6': '', '7': '', '8': '', '9': '', '10': '', '11': '', '12': 2013, '13': '', '14': '', '15': '', '16': '', '17': '', '18': '', '19': '', '20': '', '21': '', '22': '', '23': '', '24': 2014, '25': '', '26': '', '27': '', '28': '', '29': '', '30': '', '31': '', '32': '', '33': '', '34': '', '35': '', '36': 2015, '37': '', '38': '', '39': '', '40': '', '41': '', '42': '', '43': '', '44': '', '45': '', '46': '', '47': '', '48': 2016, '49': '', '50': '', '51': '', '52': '', '53': '', '54': '', '55': '', '56': '', '57': '', '58': '', '59': '', '60': 2017, '61': '', '62': '', '63': '', '64': '', '65': '', '66': '', '67': '', '68': '', '69': '', '70': '', '71': '', '72': 2018, '73': '', '74': '', '75': '', '76': '', '77': '', '78': '', '79': '', '80': '', '81': '', '82': '', '83': '', '84': 2019, '85': '', '86': '', '87': '', '88': '', '89': '', '90': '', '91': '', '92': '', '93': '', '94': '', '95': '', '96': 2020, '97': '', '98': '', '99': '', '100': '', '101': '', '102': '', '103': '', '104': '', '105': '', '106': '', '107': '', '108': 2021, '109': '', '110': '', '111': '', '112': '', '113': '', '114': '', '115': '', '116': '', '117': '', '118': '', '119': '', '120': 2022, '121': '', '122': '', '123': '', '124': '', '125': '', '126': '', '127': '', '128': ''}\n"
     ]
    }
   ],
   "source": [
    "print(slider_labels)\n"
   ]
  },
  {
   "cell_type": "code",
   "execution_count": 7,
   "metadata": {},
   "outputs": [
    {
     "data": {
      "text/plain": [
       "Index(['period_begin', 'period_end', 'period_duration', 'region_type',\n",
       "       'region_type_id', 'table_id', 'is_seasonally_adjusted', 'region',\n",
       "       'city', 'state', 'state_code', 'property_type', 'property_type_id',\n",
       "       'median_sale_price', 'median_sale_price_mom', 'median_sale_price_yoy',\n",
       "       'median_list_price', 'median_list_price_mom', 'median_list_price_yoy',\n",
       "       'median_ppsf', 'median_ppsf_mom', 'median_ppsf_yoy', 'median_list_ppsf',\n",
       "       'median_list_ppsf_mom', 'median_list_ppsf_yoy', 'homes_sold',\n",
       "       'homes_sold_mom', 'homes_sold_yoy', 'pending_sales',\n",
       "       'pending_sales_mom', 'pending_sales_yoy', 'new_listings',\n",
       "       'new_listings_mom', 'new_listings_yoy', 'inventory', 'inventory_mom',\n",
       "       'inventory_yoy', 'months_of_supply', 'months_of_supply_mom',\n",
       "       'months_of_supply_yoy', 'median_dom', 'median_dom_mom',\n",
       "       'median_dom_yoy', 'avg_sale_to_list', 'avg_sale_to_list_mom',\n",
       "       'avg_sale_to_list_yoy', 'sold_above_list', 'sold_above_list_mom',\n",
       "       'sold_above_list_yoy', 'price_drops', 'price_drops_mom',\n",
       "       'price_drops_yoy', 'off_market_in_two_weeks',\n",
       "       'off_market_in_two_weeks_mom', 'off_market_in_two_weeks_yoy',\n",
       "       'parent_metro_region', 'parent_metro_region_metro_code',\n",
       "       'last_updated'],\n",
       "      dtype='object')"
      ]
     },
     "execution_count": 7,
     "metadata": {},
     "output_type": "execute_result"
    }
   ],
   "source": [
    "df.columns"
   ]
  },
  {
   "cell_type": "code",
   "execution_count": 8,
   "metadata": {},
   "outputs": [
    {
     "name": "stdout",
     "output_type": "stream",
     "text": [
      "['Condo/Co-op', 'All Residential', 'Single Family Residential', 'Townhouse', 'Multi-Family (2-4 Unit)']\n"
     ]
    }
   ],
   "source": [
    "print(property_set)"
   ]
  },
  {
   "cell_type": "code",
   "execution_count": 9,
   "metadata": {},
   "outputs": [
    {
     "name": "stdout",
     "output_type": "stream",
     "text": [
      "['2012-01-31', '2012-02-29', '2012-03-31', '2012-04-30', '2012-05-31', '2012-06-30', '2012-07-31', '2012-08-31', '2012-09-30', '2012-10-31', '2012-11-30', '2012-12-31', '2013-01-31', '2013-02-28', '2013-03-31', '2013-04-30', '2013-05-31', '2013-06-30', '2013-07-31', '2013-08-31', '2013-09-30', '2013-10-31', '2013-11-30', '2013-12-31', '2014-01-31', '2014-02-28', '2014-03-31', '2014-04-30', '2014-05-31', '2014-06-30', '2014-07-31', '2014-08-31', '2014-09-30', '2014-10-31', '2014-11-30', '2014-12-31', '2015-01-31', '2015-02-28', '2015-03-31', '2015-04-30', '2015-05-31', '2015-06-30', '2015-07-31', '2015-08-31', '2015-09-30', '2015-10-31', '2015-11-30', '2015-12-31', '2016-01-31', '2016-02-29', '2016-03-31', '2016-04-30', '2016-05-31', '2016-06-30', '2016-07-31', '2016-08-31', '2016-09-30', '2016-10-31', '2016-11-30', '2016-12-31', '2017-01-31', '2017-02-28', '2017-03-31', '2017-04-30', '2017-05-31', '2017-06-30', '2017-07-31', '2017-08-31', '2017-09-30', '2017-10-31', '2017-11-30', '2017-12-31', '2018-01-31', '2018-02-28', '2018-03-31', '2018-04-30', '2018-05-31', '2018-06-30', '2018-07-31', '2018-08-31', '2018-09-30', '2018-10-31', '2018-11-30', '2018-12-31', '2019-01-31', '2019-02-28', '2019-03-31', '2019-04-30', '2019-05-31', '2019-06-30', '2019-07-31', '2019-08-31', '2019-09-30', '2019-10-31', '2019-11-30', '2019-12-31', '2020-01-31', '2020-02-29', '2020-03-31', '2020-04-30', '2020-05-31', '2020-06-30', '2020-07-31', '2020-08-31', '2020-09-30', '2020-10-31', '2020-11-30', '2020-12-31', '2021-01-31', '2021-02-28', '2021-03-31', '2021-04-30', '2021-05-31', '2021-06-30', '2021-07-31', '2021-08-31', '2021-09-30', '2021-10-31', '2021-11-30', '2021-12-31', '2022-01-31', '2022-02-28', '2022-03-31', '2022-04-30', '2022-05-31', '2022-06-30', '2022-07-31', '2022-08-31', '2022-09-30']\n",
      "129\n"
     ]
    }
   ],
   "source": [
    "print(sorted_dates)\n",
    "print(len(sorted_dates))"
   ]
  },
  {
   "cell_type": "code",
   "execution_count": 10,
   "metadata": {},
   "outputs": [],
   "source": [
    "# line = go.Figure(data=[go.Scatter(x=[1, 2, 3], y=[4, 1, 2])])"
   ]
  },
  {
   "cell_type": "code",
   "execution_count": 11,
   "metadata": {},
   "outputs": [
    {
     "data": {
      "text/html": [
       "<div>\n",
       "<style scoped>\n",
       "    .dataframe tbody tr th:only-of-type {\n",
       "        vertical-align: middle;\n",
       "    }\n",
       "\n",
       "    .dataframe tbody tr th {\n",
       "        vertical-align: top;\n",
       "    }\n",
       "\n",
       "    .dataframe thead th {\n",
       "        text-align: right;\n",
       "    }\n",
       "</style>\n",
       "<table border=\"1\" class=\"dataframe\">\n",
       "  <thead>\n",
       "    <tr style=\"text-align: right;\">\n",
       "      <th></th>\n",
       "      <th>year</th>\n",
       "      <th>state</th>\n",
       "      <th>median_ppsf</th>\n",
       "      <th>median_sale_price</th>\n",
       "      <th>property</th>\n",
       "    </tr>\n",
       "  </thead>\n",
       "  <tbody>\n",
       "    <tr>\n",
       "      <th>0</th>\n",
       "      <td>2023</td>\n",
       "      <td>MN</td>\n",
       "      <td>483</td>\n",
       "      <td>274053</td>\n",
       "      <td>Condo/Co-op</td>\n",
       "    </tr>\n",
       "    <tr>\n",
       "      <th>1</th>\n",
       "      <td>2024</td>\n",
       "      <td>MN</td>\n",
       "      <td>38</td>\n",
       "      <td>271021</td>\n",
       "      <td>Condo/Co-op</td>\n",
       "    </tr>\n",
       "    <tr>\n",
       "      <th>2</th>\n",
       "      <td>2025</td>\n",
       "      <td>MN</td>\n",
       "      <td>700</td>\n",
       "      <td>419935</td>\n",
       "      <td>Condo/Co-op</td>\n",
       "    </tr>\n",
       "    <tr>\n",
       "      <th>3</th>\n",
       "      <td>2026</td>\n",
       "      <td>MN</td>\n",
       "      <td>27</td>\n",
       "      <td>482962</td>\n",
       "      <td>Condo/Co-op</td>\n",
       "    </tr>\n",
       "    <tr>\n",
       "      <th>4</th>\n",
       "      <td>2023</td>\n",
       "      <td>MN</td>\n",
       "      <td>685</td>\n",
       "      <td>223464</td>\n",
       "      <td>All Residential</td>\n",
       "    </tr>\n",
       "    <tr>\n",
       "      <th>5</th>\n",
       "      <td>2024</td>\n",
       "      <td>MN</td>\n",
       "      <td>667</td>\n",
       "      <td>360849</td>\n",
       "      <td>All Residential</td>\n",
       "    </tr>\n",
       "    <tr>\n",
       "      <th>6</th>\n",
       "      <td>2025</td>\n",
       "      <td>MN</td>\n",
       "      <td>552</td>\n",
       "      <td>716118</td>\n",
       "      <td>All Residential</td>\n",
       "    </tr>\n",
       "    <tr>\n",
       "      <th>7</th>\n",
       "      <td>2026</td>\n",
       "      <td>MN</td>\n",
       "      <td>93</td>\n",
       "      <td>210531</td>\n",
       "      <td>All Residential</td>\n",
       "    </tr>\n",
       "    <tr>\n",
       "      <th>8</th>\n",
       "      <td>2023</td>\n",
       "      <td>MN</td>\n",
       "      <td>526</td>\n",
       "      <td>387056</td>\n",
       "      <td>Townhouse</td>\n",
       "    </tr>\n",
       "    <tr>\n",
       "      <th>9</th>\n",
       "      <td>2024</td>\n",
       "      <td>MN</td>\n",
       "      <td>280</td>\n",
       "      <td>402558</td>\n",
       "      <td>Townhouse</td>\n",
       "    </tr>\n",
       "  </tbody>\n",
       "</table>\n",
       "</div>"
      ],
      "text/plain": [
       "   year state  median_ppsf  median_sale_price         property\n",
       "0  2023    MN          483             274053      Condo/Co-op\n",
       "1  2024    MN           38             271021      Condo/Co-op\n",
       "2  2025    MN          700             419935      Condo/Co-op\n",
       "3  2026    MN           27             482962      Condo/Co-op\n",
       "4  2023    MN          685             223464  All Residential\n",
       "5  2024    MN          667             360849  All Residential\n",
       "6  2025    MN          552             716118  All Residential\n",
       "7  2026    MN           93             210531  All Residential\n",
       "8  2023    MN          526             387056        Townhouse\n",
       "9  2024    MN          280             402558        Townhouse"
      ]
     },
     "execution_count": 11,
     "metadata": {},
     "output_type": "execute_result"
    }
   ],
   "source": [
    "df2 = pd.read_csv(\"dummy_data.csv\")\n",
    "df2.head(10)\n"
   ]
  },
  {
   "cell_type": "code",
   "execution_count": 12,
   "metadata": {},
   "outputs": [],
   "source": [
    "# temp = df2[(df2['property'] == 'All Residential') & (df2['state'] == 'MN')]\n",
    "# print(temp)"
   ]
  },
  {
   "cell_type": "code",
   "execution_count": 13,
   "metadata": {},
   "outputs": [],
   "source": [
    "# ------------------------------------------------------------------------------\n",
    "# App layout\n",
    "#what goes inside dash layout are the dash components and any html we need\n",
    "app.layout = html.Div([\n",
    "\n",
    "    html.H1(\"Redfin Choropleth Data\", style={'text-align': 'center'}), #html Title\n",
    "\n",
    "    html.Div(id='output_container', children=[\"Metric\"], style = {'font-weight': 'bold'}),\n",
    "\n",
    "    #components, e.g., drop downs, sliders\n",
    "    #first drop down by metric\n",
    "    dcc.Dropdown(id=\"metric\",\n",
    "                 placeholder = \"Select Metric\",\n",
    "                 options=metric_set,\n",
    "                 value=metric_set[0],\n",
    "                 style={'width': \"60%\",}\n",
    "                 ),\n",
    "\n",
    "    html.Br(), #space between dropdowns\n",
    "\n",
    "    html.Div(id='output_container', style = {'font-weight': 'bold'}, \n",
    "    children = [\"Property Type\"]\n",
    "    ),\n",
    "\n",
    "    #second drop down for property type\n",
    "    dcc.Dropdown(id=\"property_type\",\n",
    "                 placeholder = \"Select Property Type\",\n",
    "                 options=property_set,\n",
    "                 value=property_set[0],\n",
    "                 style={'width': \"60%\"},\n",
    "                 ),\n",
    "\n",
    "    \n",
    "    html.Br(), #space\n",
    "    \n",
    "    #create div element, e.g., text to display dropdown selection\n",
    "    html.Div(id='output_container', children=[]),\n",
    "\n",
    "    html.Br(), #space\n",
    "\n",
    "    #graph object, e.g., choropleth\n",
    "    dcc.Graph(id='choropleth', figure={}),\n",
    "\n",
    "    \n",
    "\n",
    "    #slider object\n",
    "    dcc.Slider(0, len(sorted_dates), step = None, #min value of 0 and max of number of unique dates\n",
    "               value=0, #where the slider starts\n",
    "               marks = slider_labels,\n",
    "               tooltip={\"placement\": \"bottom\", \"always_visible\": True}, #place slider at bottom of graph\n",
    "               id='date_chosen'),\n",
    "\n",
    "    #add line chart\n",
    "    dcc.Graph(id = \"line_chart\", figure = {})\n",
    "\n",
    "])"
   ]
  },
  {
   "cell_type": "code",
   "execution_count": 14,
   "metadata": {},
   "outputs": [],
   "source": [
    "# ------------------------------------------------------------------------------\n",
    "# Connect the Plotly graphs with Dash Components\n",
    "@app.callback(\n",
    "    Output(component_id='output_container', component_property='children'),\n",
    "    Output(component_id='choropleth', component_property='figure'),\n",
    "    Output(component_id = 'line_chart', component_property = 'figure'),\n",
    "    Input(component_id='property_type', component_property='value'),\n",
    "    Input(component_id = 'metric', component_property = 'value'),\n",
    "    Input(component_id='date_chosen', component_property='value'),\n",
    "    Input(component_id = 'choropleth', component_property = 'hoverData'))\n",
    "\n",
    "\n",
    "def update_graph(property_type, metric, date_chosen, hover):\n",
    "    print(property_type)\n",
    "    print(type(property_type))\n",
    "    # print(hover)\n",
    "    # print(type(hover))\n",
    "\n",
    "    container = \"Date Selected: {}\".format(sorted_dates[date_chosen])\n",
    "\n",
    "    dff = df.copy()\n",
    "    dff = dff[['period_begin', 'period_end', 'state_code', 'median_sale_price', 'median_sale_price_mom', \n",
    "    'median_ppsf', 'median_ppsf_mom', 'property_type']]\n",
    "    dff = dff[dff['property_type'] == property_type]\n",
    "    dff = dff[dff['period_end'] == pd.to_datetime(sorted_dates[date_chosen], format=\"%Y/%m/%d\")]\n",
    "\n",
    "\n",
    "    # Plotly Express\n",
    "    fig = px.choropleth(\n",
    "        data_frame=dff,\n",
    "        locationmode='USA-states',\n",
    "        locations='state_code',\n",
    "        scope=\"usa\",\n",
    "        color='{}'.format(metric),\n",
    "        hover_data=['state_code', '{}'.format(metric)],\n",
    "        color_continuous_scale= color_scale\n",
    "    )\n",
    "\n",
    "    if type(hover) == dict:\n",
    "        hover_state = hover['points'][0]['customdata'][0]\n",
    "        hover_df = df2[(df2['property'] == property_type) & (df2['state'] == hover_state)]\n",
    "        # hover_df = hover_df[['year', '{}'.format(metric)]]\n",
    "        # hover_x = hover_df['year'].values.tolist()\n",
    "        # hover_y = hover_df['{}'.format(metric)].values.tolist()\n",
    "        # hover_y = [int(year) for year in hover_y]\n",
    "        line_data = px.line(hover_df, x = \"year\", y = '{}'.format(metric), title = 'Predicted {fmetric} for {fstate}'.format(fmetric = metric, fstate = hover_state))\n",
    "        # line_data = go.Figure(data=[go.Scatter(x=hover_x, y=hover_y)])\n",
    "        result = line_data\n",
    "    else:\n",
    "        result = []\n",
    "\n",
    "    #try using px.line\n",
    "    \n",
    "\n",
    "    # if type(hover) == dict:\n",
    "    #     hover_state = hover['points'][0]['customdata'][0]\n",
    "    #     hover_df = df2[(df2['property'] == property_type) & (df2['state'] == hover_state)]\n",
    "    #     hover_df = hover_df[['year', '{}'.format(metric)]]\n",
    "    #     hover_x = hover_df['year'].values.tolist()\n",
    "    #     hover_y = hover_df['{}'.format(metric)].values.tolist()\n",
    "    #     line_data = go.Figure(data=[go.Scatter(x=hover_x, y=hover_y)])\n",
    "    #     print(hover_state)\n",
    "    #     print(line_data)\n",
    "    #     if hover_state == \"MN\":\n",
    "    #         result = line_data\n",
    "    # else:\n",
    "    #     result = []\n",
    "\n",
    "    # # Plotly Express using geojson data\n",
    "    # fig = px.choropleth(\n",
    "    #     dff,\n",
    "    #     geojson = geojson,\n",
    "    #     # featureidkey=\"id\",\n",
    "    #     locations='state_code',\n",
    "    #     scope=\"usa\",\n",
    "    #     color='{}'.format(metric),\n",
    "    #     hover_data=['state_code', '{}'.format(metric)],\n",
    "    #     color_continuous_scale= color_scale\n",
    "    # )\n",
    "\n",
    "\n",
    "\n",
    "\n",
    "    return container, fig, result"
   ]
  },
  {
   "cell_type": "code",
   "execution_count": null,
   "metadata": {},
   "outputs": [],
   "source": [
    "if __name__ == '__main__':\n",
    "    app.run_server(debug=False)"
   ]
  }
 ],
 "metadata": {
  "kernelspec": {
   "display_name": "Python 3 (ipykernel)",
   "language": "python",
   "name": "python3"
  },
  "language_info": {
   "codemirror_mode": {
    "name": "ipython",
    "version": 3
   },
   "file_extension": ".py",
   "mimetype": "text/x-python",
   "name": "python",
   "nbconvert_exporter": "python",
   "pygments_lexer": "ipython3",
   "version": "3.7.15"
  },
  "vscode": {
   "interpreter": {
    "hash": "d60f0b7e86408b0863659995fe6bf30511ae2ba8424ff2f107f1360b83cb8595"
   }
  }
 },
 "nbformat": 4,
 "nbformat_minor": 4
}
