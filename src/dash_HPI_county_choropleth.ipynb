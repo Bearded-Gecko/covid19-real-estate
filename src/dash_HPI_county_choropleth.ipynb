{
 "cells": [
  {
   "cell_type": "code",
   "execution_count": 1,
   "metadata": {},
   "outputs": [],
   "source": [
    "import pandas as pd\n",
    "import plotly.express as px  # (version 4.7.0 or higher)\n",
    "import plotly.graph_objects as go\n",
    "import dash\n",
    "from dash import Dash, html, dcc\n",
    "# import dash_core_components as dcc \n",
    "# import dash_html_components as html\n",
    "from dash.dependencies import Input, Output, State\n",
    "import datetime\n",
    "\n",
    "# from visualize import Visualize2\n",
    "import random\n",
    "# from google.cloud import bigquery\n",
    "# from google.oauth2 import service_account\n",
    "import pandas as pd\n",
    "import numpy as np\n",
    "import json"
   ]
  },
  {
   "cell_type": "code",
   "execution_count": 2,
   "metadata": {},
   "outputs": [],
   "source": [
    "from urllib.request import urlopen"
   ]
  },
  {
   "cell_type": "code",
   "execution_count": 3,
   "metadata": {},
   "outputs": [],
   "source": [
    "from google.cloud import bigquery\n",
    "from google.oauth2 import service_account\n",
    "credentials = service_account.Credentials.from_service_account_file(\n",
    "'./chain-coders-5d47d58b2c33.json')\n",
    "\n",
    "project_id = 'chain-coders'\n",
    "client = bigquery.Client(credentials= credentials,project=project_id)\n",
    "# query = \"SELECT * FROM `redfin.redfin-data-state`\"\n",
    "# df = client.query(query).to_dataframe()"
   ]
  },
  {
   "cell_type": "code",
   "execution_count": 4,
   "metadata": {},
   "outputs": [],
   "source": [
    "app = dash.Dash(__name__)"
   ]
  },
  {
   "cell_type": "code",
   "execution_count": 5,
   "metadata": {},
   "outputs": [],
   "source": [
    "# -- Import and clean data (importing csv into pandas)\n",
    "# HPI_state = pd.read_csv('./data/HPI_AT_state.csv', header=None)\n",
    "# HPI_state.columns = ['state_abbr', 'year', 'quarter', 'HPI_base_1980']\n",
    "# HPI_state['year_quarter'] = HPI_state.year.astype(str)[:]+'-Q'+HPI_state.quarter.astype(str)[:]\n",
    "# HPI_state.year_quarter = HPI_state.year_quarter.str.replace(r'(\\d{4})_(\\d)', r'\\1-Q\\2')\n",
    "# HPI_state.year_quarter = pd.to_datetime(HPI_state.year_quarter).dt.date\n",
    "# df = HPI_state.reindex(['state_abbr', 'year_quarter', 'HPI_base_1980'], axis=1)\n",
    "query = \"SELECT * FROM `redfin.HPI_county` \"\n",
    "HPI_county = client.query(query).to_dataframe()\n",
    "HPI_county.dropna(subset=['HPI_base_2000'], inplace=True)\n",
    "HPI_county.year = pd.to_datetime(HPI_county[['year']].assign(day=1, month=1)).dt.date\n",
    "HPI_county.sort_values(['fips_code', 'year'], inplace=True)\n",
    "HPI_county.reset_index(drop=True, inplace=True)"
   ]
  },
  {
   "cell_type": "code",
   "execution_count": 6,
   "metadata": {},
   "outputs": [],
   "source": [
    "df = HPI_county"
   ]
  },
  {
   "cell_type": "code",
   "execution_count": 7,
   "metadata": {},
   "outputs": [],
   "source": [
    "#property types for drop down\n",
    "property_set = ['']\n",
    "\n",
    "#metric types for dropdown\n",
    "metric_set = ['HPI_base_2000']\n",
    "\n",
    "#dates for slider\n",
    "sorted_dates = np.sort(df['year'].unique())\n",
    "sorted_dates = ['{}'.format(i) for i in sorted_dates] #convert each date to string within a list\n",
    "counter = 0\n",
    "year = 1975\n",
    "\n",
    "slider_labels = {}\n",
    "#labels for slider\n",
    "for index, date in enumerate(sorted_dates):\n",
    "       if counter == index:\n",
    "              slider_labels['{}'.format(index)] = year\n",
    "              year += 1\n",
    "              counter += 1\n",
    "       else: \n",
    "              slider_labels['{}'.format(index)] = ''\n",
    "\n",
    "# labels = {index: date for index, date in enumerate(sorted_dates)} #labels of dates for slider object\n",
    "\n",
    "#color-scale\n",
    "color_scale = [[0.0, '#edf8fb'],[0.2, '#ccece6'],[0.4, '#99d8c9'],\n",
    "       [0.6, '#66c2a4'],[0.8, '#2ca25f'],[1.0, '#006d2c']] # purples"
   ]
  },
  {
   "cell_type": "code",
   "execution_count": null,
   "metadata": {},
   "outputs": [],
   "source": [
    "print(property_set)"
   ]
  },
  {
   "cell_type": "code",
   "execution_count": null,
   "metadata": {},
   "outputs": [],
   "source": [
    "print(sorted_dates)\n",
    "print(len(sorted_dates))"
   ]
  },
  {
   "cell_type": "code",
   "execution_count": null,
   "metadata": {},
   "outputs": [],
   "source": [
    "# line = go.Figure(data=[go.Scatter(x=[1, 2, 3], y=[4, 1, 2])])"
   ]
  },
  {
   "cell_type": "code",
   "execution_count": 8,
   "metadata": {},
   "outputs": [],
   "source": [
    "df2 = pd.read_csv('pred_HPI_county.csv')"
   ]
  },
  {
   "cell_type": "code",
   "execution_count": 9,
   "metadata": {
    "scrolled": true
   },
   "outputs": [],
   "source": [
    "df2.year = pd.to_datetime(df2.year)"
   ]
  },
  {
   "cell_type": "code",
   "execution_count": 10,
   "metadata": {},
   "outputs": [],
   "source": [
    "df2.fips_code = df2.fips_code.astype(str).str.zfill(5)"
   ]
  },
  {
   "cell_type": "code",
   "execution_count": null,
   "metadata": {},
   "outputs": [],
   "source": [
    "# temp = df2[(df2['property'] == 'All Residential') & (df2['state'] == 'MN')]\n",
    "# print(temp)"
   ]
  },
  {
   "cell_type": "code",
   "execution_count": 11,
   "metadata": {},
   "outputs": [],
   "source": [
    "# ------------------------------------------------------------------------------\n",
    "# App layout\n",
    "#what goes inside dash layout are the dash components and any html we need\n",
    "app.layout = html.Div([\n",
    "\n",
    "    html.H1(\"HPI County Choropleth Data\", style={'text-align': 'center'}), #html Title\n",
    "\n",
    "#     html.Div(id='output_container', children=[\"Metric\"], style = {'font-weight': 'bold'}),\n",
    "\n",
    "    #components, e.g., drop downs, sliders\n",
    "    #first drop down by metric\n",
    "    dcc.Dropdown(id=\"metric\",\n",
    "                 placeholder = \"Select Metric\",\n",
    "                 options=metric_set,\n",
    "                 value=metric_set[0],\n",
    "                 style={'width': \"60%\",}\n",
    "                 ),\n",
    "\n",
    "    html.Br(), #space between dropdowns\n",
    "\n",
    "#     html.Div(id='output_container', style = {'font-weight': 'bold'}, \n",
    "#     children = [\"Property Type\"]\n",
    "#     ),\n",
    "\n",
    "    #second drop down for property type\n",
    "    dcc.Dropdown(id=\"property_type\",\n",
    "                 placeholder = \"Select Property Type\",\n",
    "                 options=property_set,\n",
    "                 value=property_set[0],\n",
    "                 style={'width': \"60%\"},\n",
    "                 ),\n",
    "\n",
    "    \n",
    "    html.Br(), #space\n",
    "    \n",
    "    #create div element, e.g., text to display dropdown selection\n",
    "    html.Div(id='output_container', children=[]),\n",
    "\n",
    "    html.Br(), #space\n",
    "\n",
    "    #graph object, e.g., choropleth\n",
    "    dcc.Graph(id='choropleth', figure={}),\n",
    "\n",
    "    \n",
    "\n",
    "    #slider object\n",
    "    dcc.Slider(0, len(sorted_dates), step = None, #min value of 0 and max of number of unique dates\n",
    "               value=0, #where the slider starts\n",
    "               marks = slider_labels,\n",
    "               tooltip={\"placement\": \"bottom\", \"always_visible\": True}, #place slider at bottom of graph\n",
    "               id='date_chosen'),\n",
    "\n",
    "    #add line chart\n",
    "    dcc.Graph(id = \"line_chart\", figure = {})\n",
    "\n",
    "])"
   ]
  },
  {
   "cell_type": "code",
   "execution_count": 12,
   "metadata": {},
   "outputs": [],
   "source": [
    "#get geojson for counties\n",
    "with urlopen('https://raw.githubusercontent.com/plotly/datasets/master/geojson-counties-fips.json') as response:\n",
    "    counties_geojson = json.load(response)"
   ]
  },
  {
   "cell_type": "code",
   "execution_count": 13,
   "metadata": {},
   "outputs": [],
   "source": [
    "@app.callback(\n",
    "    Output(component_id='output_container', component_property='children'),\n",
    "    Output(component_id='choropleth', component_property='figure'),\n",
    "    Output(component_id = 'line_chart', component_property = 'figure'),\n",
    "    Input(component_id='property_type', component_property='value'),\n",
    "    Input(component_id = 'metric', component_property = 'value'),\n",
    "    Input(component_id='date_chosen', component_property='value'),\n",
    "    Input(component_id = 'choropleth', component_property = 'hoverData'))\n",
    "\n",
    "\n",
    "def update_graph(property_type, metric, date_chosen, hover):\n",
    "    print(property_type)\n",
    "    print(type(property_type))\n",
    "    # print(hover)\n",
    "    # print(type(hover))\n",
    "\n",
    "    container = \"Date Selected: {}\".format(sorted_dates[date_chosen])\n",
    "\n",
    "    dff = df.copy()\n",
    "    dff = dff[dff['year'] == pd.to_datetime(sorted_dates[date_chosen])]\n",
    "\n",
    "    # Plotly Express\n",
    "    fig = px.choropleth(\n",
    "        data_frame = dff,\n",
    "        geojson = counties_geojson,\n",
    "        featureidkey=\"id\",\n",
    "        locations='fips_code',\n",
    "        scope=\"usa\",\n",
    "        color='{}'.format(metric),\n",
    "        hover_data=['fips_code', '{}'.format(metric)],\n",
    "        color_continuous_scale= color_scale\n",
    "    )\n",
    "\n",
    "    if type(hover) == dict:\n",
    "        hover_fips = hover['points'][0]['customdata'][0]\n",
    "        hover_df = df2[df2['fips_code'] == hover_fips]\n",
    "        # hover_df = hover_df[['year', '{}'.format(metric)]]\n",
    "        # hover_x = hover_df['year'].values.tolist()\n",
    "        # hover_y = hover_df['{}'.format(metric)].values.tolist()\n",
    "        # hover_y = [int(year) for year in hover_y]\n",
    "        line_data = px.line(hover_df, x = \"year\", y = ['predicted', 'actual'], title = '{fmetric} for {fstate}'.format(fmetric = metric, fstate = hover_fips))\n",
    "        # line_data = go.Figure(data=[go.Scatter(x=hover_x, y=hover_y)])\n",
    "        result = line_data\n",
    "    else:\n",
    "        result = []\n",
    "\n",
    "    return container, fig, result"
   ]
  },
  {
   "cell_type": "code",
   "execution_count": 16,
   "metadata": {},
   "outputs": [
    {
     "data": {
      "text/html": [
       "<div>\n",
       "<style scoped>\n",
       "    .dataframe tbody tr th:only-of-type {\n",
       "        vertical-align: middle;\n",
       "    }\n",
       "\n",
       "    .dataframe tbody tr th {\n",
       "        vertical-align: top;\n",
       "    }\n",
       "\n",
       "    .dataframe thead th {\n",
       "        text-align: right;\n",
       "    }\n",
       "</style>\n",
       "<table border=\"1\" class=\"dataframe\">\n",
       "  <thead>\n",
       "    <tr style=\"text-align: right;\">\n",
       "      <th></th>\n",
       "      <th>year</th>\n",
       "      <th>predicted</th>\n",
       "      <th>fips_code</th>\n",
       "      <th>actual</th>\n",
       "    </tr>\n",
       "  </thead>\n",
       "  <tbody>\n",
       "    <tr>\n",
       "      <th>0</th>\n",
       "      <td>2020-01-01</td>\n",
       "      <td>137.717766</td>\n",
       "      <td>01001</td>\n",
       "      <td>136.60</td>\n",
       "    </tr>\n",
       "    <tr>\n",
       "      <th>1</th>\n",
       "      <td>2021-01-01</td>\n",
       "      <td>139.066462</td>\n",
       "      <td>01001</td>\n",
       "      <td>148.07</td>\n",
       "    </tr>\n",
       "    <tr>\n",
       "      <th>2</th>\n",
       "      <td>2020-01-01</td>\n",
       "      <td>177.435069</td>\n",
       "      <td>01003</td>\n",
       "      <td>173.47</td>\n",
       "    </tr>\n",
       "    <tr>\n",
       "      <th>3</th>\n",
       "      <td>2021-01-01</td>\n",
       "      <td>180.547513</td>\n",
       "      <td>01003</td>\n",
       "      <td>195.93</td>\n",
       "    </tr>\n",
       "    <tr>\n",
       "      <th>4</th>\n",
       "      <td>2020-01-01</td>\n",
       "      <td>128.831624</td>\n",
       "      <td>01005</td>\n",
       "      <td>124.75</td>\n",
       "    </tr>\n",
       "    <tr>\n",
       "      <th>...</th>\n",
       "      <td>...</td>\n",
       "      <td>...</td>\n",
       "      <td>...</td>\n",
       "      <td>...</td>\n",
       "    </tr>\n",
       "    <tr>\n",
       "      <th>4815</th>\n",
       "      <td>2021-01-01</td>\n",
       "      <td>183.903944</td>\n",
       "      <td>56035</td>\n",
       "      <td>195.49</td>\n",
       "    </tr>\n",
       "    <tr>\n",
       "      <th>4816</th>\n",
       "      <td>2020-01-01</td>\n",
       "      <td>194.263321</td>\n",
       "      <td>56043</td>\n",
       "      <td>186.50</td>\n",
       "    </tr>\n",
       "    <tr>\n",
       "      <th>4817</th>\n",
       "      <td>2021-01-01</td>\n",
       "      <td>194.882518</td>\n",
       "      <td>56043</td>\n",
       "      <td>201.59</td>\n",
       "    </tr>\n",
       "    <tr>\n",
       "      <th>4818</th>\n",
       "      <td>2020-01-01</td>\n",
       "      <td>217.882076</td>\n",
       "      <td>56045</td>\n",
       "      <td>211.64</td>\n",
       "    </tr>\n",
       "    <tr>\n",
       "      <th>4819</th>\n",
       "      <td>2021-01-01</td>\n",
       "      <td>223.472881</td>\n",
       "      <td>56045</td>\n",
       "      <td>226.58</td>\n",
       "    </tr>\n",
       "  </tbody>\n",
       "</table>\n",
       "<p>4820 rows × 4 columns</p>\n",
       "</div>"
      ],
      "text/plain": [
       "           year   predicted fips_code  actual\n",
       "0    2020-01-01  137.717766     01001  136.60\n",
       "1    2021-01-01  139.066462     01001  148.07\n",
       "2    2020-01-01  177.435069     01003  173.47\n",
       "3    2021-01-01  180.547513     01003  195.93\n",
       "4    2020-01-01  128.831624     01005  124.75\n",
       "...         ...         ...       ...     ...\n",
       "4815 2021-01-01  183.903944     56035  195.49\n",
       "4816 2020-01-01  194.263321     56043  186.50\n",
       "4817 2021-01-01  194.882518     56043  201.59\n",
       "4818 2020-01-01  217.882076     56045  211.64\n",
       "4819 2021-01-01  223.472881     56045  226.58\n",
       "\n",
       "[4820 rows x 4 columns]"
      ]
     },
     "execution_count": 16,
     "metadata": {},
     "output_type": "execute_result"
    }
   ],
   "source": [
    "df2"
   ]
  },
  {
   "cell_type": "code",
   "execution_count": null,
   "metadata": {},
   "outputs": [
    {
     "name": "stdout",
     "output_type": "stream",
     "text": [
      "Dash is running on http://127.0.0.1:8050/\n",
      "\n",
      " * Serving Flask app '__main__'\n",
      " * Debug mode: off\n"
     ]
    },
    {
     "name": "stderr",
     "output_type": "stream",
     "text": [
      "WARNING: This is a development server. Do not use it in a production deployment. Use a production WSGI server instead.\n",
      " * Running on http://127.0.0.1:8050\n",
      "Press CTRL+C to quit\n",
      "127.0.0.1 - - [04/Dec/2022 11:52:31] \"GET / HTTP/1.1\" 200 -\n",
      "127.0.0.1 - - [04/Dec/2022 11:52:31] \"GET /_dash-layout HTTP/1.1\" 200 -\n",
      "127.0.0.1 - - [04/Dec/2022 11:52:31] \"GET /_dash-dependencies HTTP/1.1\" 200 -\n",
      "127.0.0.1 - - [04/Dec/2022 11:52:31] \"GET /_dash-component-suites/dash/dcc/async-graph.js HTTP/1.1\" 304 -\n",
      "127.0.0.1 - - [04/Dec/2022 11:52:31] \"GET /_dash-component-suites/dash/dcc/async-dropdown.js HTTP/1.1\" 304 -\n",
      "127.0.0.1 - - [04/Dec/2022 11:52:31] \"GET /_dash-component-suites/dash/dcc/async-slider.js HTTP/1.1\" 304 -\n",
      "127.0.0.1 - - [04/Dec/2022 11:52:31] \"GET /_dash-component-suites/dash/dcc/async-plotlyjs.js HTTP/1.1\" 304 -\n",
      "127.0.0.1 - - [04/Dec/2022 11:52:31] \"/Users/enrico.eduardo/opt/miniconda3/envs/plutho/lib/python3.10/site-packages/pandas/core/ops/array_ops.py:73: FutureWarning:\n",
      "\n",
      "Comparison of Timestamp with datetime.date is deprecated in order to match the standard library behavior. In a future version these will be considered non-comparable. Use 'ts == pd.Timestamp(date)' or 'ts.date() == date' instead.\n",
      "\n",
      "GET /assets/fonts/d7d7b8359eeb9cddfba6.ttf HTTP/1.1\" 404 -\n"
     ]
    },
    {
     "name": "stdout",
     "output_type": "stream",
     "text": [
      "\n",
      "<class 'str'>\n"
     ]
    },
    {
     "name": "stderr",
     "output_type": "stream",
     "text": [
      "127.0.0.1 - - [04/Dec/2022 11:52:32] \"POST /_dash-update-component HTTP/1.1\" 200 -\n"
     ]
    },
    {
     "name": "stdout",
     "output_type": "stream",
     "text": [
      "\n",
      "<class 'str'>\n"
     ]
    },
    {
     "name": "stderr",
     "output_type": "stream",
     "text": [
      "/Users/enrico.eduardo/opt/miniconda3/envs/plutho/lib/python3.10/site-packages/pandas/core/ops/array_ops.py:73: FutureWarning:\n",
      "\n",
      "Comparison of Timestamp with datetime.date is deprecated in order to match the standard library behavior. In a future version these will be considered non-comparable. Use 'ts == pd.Timestamp(date)' or 'ts.date() == date' instead.\n",
      "\n",
      "/Users/enrico.eduardo/opt/miniconda3/envs/plutho/lib/python3.10/site-packages/pandas/core/ops/array_ops.py:73: FutureWarning:\n",
      "\n",
      "Comparison of Timestamp with datetime.date is deprecated in order to match the standard library behavior. In a future version these will be considered non-comparable. Use 'ts == pd.Timestamp(date)' or 'ts.date() == date' instead.\n",
      "\n"
     ]
    },
    {
     "name": "stdout",
     "output_type": "stream",
     "text": [
      "\n",
      "<class 'str'>\n"
     ]
    },
    {
     "name": "stderr",
     "output_type": "stream",
     "text": [
      "127.0.0.1 - - [04/Dec/2022 11:52:40] \"POST /_dash-update-component HTTP/1.1\" 200 -\n",
      "127.0.0.1 - - [04/Dec/2022 11:52:40] \"POST /_dash-update-component HTTP/1.1\" 200 -\n"
     ]
    },
    {
     "name": "stdout",
     "output_type": "stream",
     "text": [
      "\n",
      "<class 'str'>\n"
     ]
    },
    {
     "name": "stderr",
     "output_type": "stream",
     "text": [
      "/Users/enrico.eduardo/opt/miniconda3/envs/plutho/lib/python3.10/site-packages/pandas/core/ops/array_ops.py:73: FutureWarning:\n",
      "\n",
      "Comparison of Timestamp with datetime.date is deprecated in order to match the standard library behavior. In a future version these will be considered non-comparable. Use 'ts == pd.Timestamp(date)' or 'ts.date() == date' instead.\n",
      "\n",
      "127.0.0.1 - - [04/Dec/2022 11:52:47] \"POST /_dash-update-component HTTP/1.1\" 200 -\n"
     ]
    },
    {
     "name": "stdout",
     "output_type": "stream",
     "text": [
      "\n",
      "<class 'str'>\n"
     ]
    },
    {
     "name": "stderr",
     "output_type": "stream",
     "text": [
      "/Users/enrico.eduardo/opt/miniconda3/envs/plutho/lib/python3.10/site-packages/pandas/core/ops/array_ops.py:73: FutureWarning:\n",
      "\n",
      "Comparison of Timestamp with datetime.date is deprecated in order to match the standard library behavior. In a future version these will be considered non-comparable. Use 'ts == pd.Timestamp(date)' or 'ts.date() == date' instead.\n",
      "\n",
      "127.0.0.1 - - [04/Dec/2022 11:52:51] \"POST /_dash-update-component HTTP/1.1\" 200 -\n",
      "/Users/enrico.eduardo/opt/miniconda3/envs/plutho/lib/python3.10/site-packages/pandas/core/ops/array_ops.py:73: FutureWarning:\n",
      "\n",
      "Comparison of Timestamp with datetime.date is deprecated in order to match the standard library behavior. In a future version these will be considered non-comparable. Use 'ts == pd.Timestamp(date)' or 'ts.date() == date' instead.\n",
      "\n"
     ]
    },
    {
     "name": "stdout",
     "output_type": "stream",
     "text": [
      "\n",
      "<class 'str'>\n"
     ]
    },
    {
     "name": "stderr",
     "output_type": "stream",
     "text": [
      "127.0.0.1 - - [04/Dec/2022 11:52:51] \"POST /_dash-update-component HTTP/1.1\" 200 -\n"
     ]
    },
    {
     "name": "stdout",
     "output_type": "stream",
     "text": [
      "\n",
      "<class 'str'>\n"
     ]
    },
    {
     "name": "stderr",
     "output_type": "stream",
     "text": [
      "/Users/enrico.eduardo/opt/miniconda3/envs/plutho/lib/python3.10/site-packages/pandas/core/ops/array_ops.py:73: FutureWarning:\n",
      "\n",
      "Comparison of Timestamp with datetime.date is deprecated in order to match the standard library behavior. In a future version these will be considered non-comparable. Use 'ts == pd.Timestamp(date)' or 'ts.date() == date' instead.\n",
      "\n"
     ]
    },
    {
     "name": "stdout",
     "output_type": "stream",
     "text": [
      "\n",
      "<class 'str'>\n",
      "\n",
      "<class 'str'>\n"
     ]
    },
    {
     "name": "stderr",
     "output_type": "stream",
     "text": [
      "/Users/enrico.eduardo/opt/miniconda3/envs/plutho/lib/python3.10/site-packages/pandas/core/ops/array_ops.py:73: FutureWarning:\n",
      "\n",
      "Comparison of Timestamp with datetime.date is deprecated in order to match the standard library behavior. In a future version these will be considered non-comparable. Use 'ts == pd.Timestamp(date)' or 'ts.date() == date' instead.\n",
      "\n",
      "127.0.0.1 - - [04/Dec/2022 11:52:54] \"POST /_dash-update-component HTTP/1.1\" 200 -\n",
      "127.0.0.1 - - [04/Dec/2022 11:52:55] \"POST /_dash-update-component HTTP/1.1\" 200 -\n",
      "127.0.0.1 - - [04/Dec/2022 11:52:56] \"POST /_dash-update-component HTTP/1.1\" 200 -\n"
     ]
    },
    {
     "name": "stdout",
     "output_type": "stream",
     "text": [
      "\n",
      "<class 'str'>\n",
      "\n",
      "<class 'str'>\n"
     ]
    },
    {
     "name": "stderr",
     "output_type": "stream",
     "text": [
      "/Users/enrico.eduardo/opt/miniconda3/envs/plutho/lib/python3.10/site-packages/pandas/core/ops/array_ops.py:73: FutureWarning:\n",
      "\n",
      "Comparison of Timestamp with datetime.date is deprecated in order to match the standard library behavior. In a future version these will be considered non-comparable. Use 'ts == pd.Timestamp(date)' or 'ts.date() == date' instead.\n",
      "\n",
      "/Users/enrico.eduardo/opt/miniconda3/envs/plutho/lib/python3.10/site-packages/pandas/core/ops/array_ops.py:73: FutureWarning:\n",
      "\n",
      "Comparison of Timestamp with datetime.date is deprecated in order to match the standard library behavior. In a future version these will be considered non-comparable. Use 'ts == pd.Timestamp(date)' or 'ts.date() == date' instead.\n",
      "\n"
     ]
    },
    {
     "name": "stdout",
     "output_type": "stream",
     "text": [
      "\n",
      "<class 'str'>\n",
      "\n",
      "<class 'str'>\n"
     ]
    },
    {
     "name": "stderr",
     "output_type": "stream",
     "text": [
      "/Users/enrico.eduardo/opt/miniconda3/envs/plutho/lib/python3.10/site-packages/pandas/core/ops/array_ops.py:73: FutureWarning:\n",
      "\n",
      "Comparison of Timestamp with datetime.date is deprecated in order to match the standard library behavior. In a future version these will be considered non-comparable. Use 'ts == pd.Timestamp(date)' or 'ts.date() == date' instead.\n",
      "\n",
      "/Users/enrico.eduardo/opt/miniconda3/envs/plutho/lib/python3.10/site-packages/pandas/core/ops/array_ops.py:73: FutureWarning:\n",
      "\n",
      "Comparison of Timestamp with datetime.date is deprecated in order to match the standard library behavior. In a future version these will be considered non-comparable. Use 'ts == pd.Timestamp(date)' or 'ts.date() == date' instead.\n",
      "\n",
      "127.0.0.1 - - [04/Dec/2022 11:53:00] \"POST /_dash-update-component HTTP/1.1\" 200 -\n",
      "127.0.0.1 - - [04/Dec/2022 11:53:00] \"POST /_dash-update-component HTTP/1.1\" 200 -\n",
      "127.0.0.1 - - [04/Dec/2022 11:53:01] \"POST /_dash-update-component HTTP/1.1\" 200 -\n",
      "127.0.0.1 - - [04/Dec/2022 11:53:01] \"POST /_dash-update-component HTTP/1.1\" 200 -\n"
     ]
    },
    {
     "name": "stdout",
     "output_type": "stream",
     "text": [
      "\n",
      "<class 'str'>\n"
     ]
    },
    {
     "name": "stderr",
     "output_type": "stream",
     "text": [
      "/Users/enrico.eduardo/opt/miniconda3/envs/plutho/lib/python3.10/site-packages/pandas/core/ops/array_ops.py:73: FutureWarning:\n",
      "\n",
      "Comparison of Timestamp with datetime.date is deprecated in order to match the standard library behavior. In a future version these will be considered non-comparable. Use 'ts == pd.Timestamp(date)' or 'ts.date() == date' instead.\n",
      "\n",
      "127.0.0.1 - - [04/Dec/2022 11:53:10] \"POST /_dash-update-component HTTP/1.1\" 200 -\n"
     ]
    },
    {
     "name": "stdout",
     "output_type": "stream",
     "text": [
      "\n",
      "<class 'str'>\n"
     ]
    },
    {
     "name": "stderr",
     "output_type": "stream",
     "text": [
      "/Users/enrico.eduardo/opt/miniconda3/envs/plutho/lib/python3.10/site-packages/pandas/core/ops/array_ops.py:73: FutureWarning:\n",
      "\n",
      "Comparison of Timestamp with datetime.date is deprecated in order to match the standard library behavior. In a future version these will be considered non-comparable. Use 'ts == pd.Timestamp(date)' or 'ts.date() == date' instead.\n",
      "\n",
      "127.0.0.1 - - [04/Dec/2022 11:53:14] \"POST /_dash-update-component HTTP/1.1\" 200 -\n"
     ]
    },
    {
     "name": "stdout",
     "output_type": "stream",
     "text": [
      "\n",
      "<class 'str'>\n"
     ]
    },
    {
     "name": "stderr",
     "output_type": "stream",
     "text": [
      "/Users/enrico.eduardo/opt/miniconda3/envs/plutho/lib/python3.10/site-packages/pandas/core/ops/array_ops.py:73: FutureWarning:\n",
      "\n",
      "Comparison of Timestamp with datetime.date is deprecated in order to match the standard library behavior. In a future version these will be considered non-comparable. Use 'ts == pd.Timestamp(date)' or 'ts.date() == date' instead.\n",
      "\n",
      "127.0.0.1 - - [04/Dec/2022 11:53:23] \"POST /_dash-update-component HTTP/1.1\" 200 -\n"
     ]
    },
    {
     "name": "stdout",
     "output_type": "stream",
     "text": [
      "\n",
      "<class 'str'>\n",
      "\n",
      "<class 'str'>\n"
     ]
    },
    {
     "name": "stderr",
     "output_type": "stream",
     "text": [
      "/Users/enrico.eduardo/opt/miniconda3/envs/plutho/lib/python3.10/site-packages/pandas/core/ops/array_ops.py:73: FutureWarning:\n",
      "\n",
      "Comparison of Timestamp with datetime.date is deprecated in order to match the standard library behavior. In a future version these will be considered non-comparable. Use 'ts == pd.Timestamp(date)' or 'ts.date() == date' instead.\n",
      "\n",
      "/Users/enrico.eduardo/opt/miniconda3/envs/plutho/lib/python3.10/site-packages/pandas/core/ops/array_ops.py:73: FutureWarning:\n",
      "\n",
      "Comparison of Timestamp with datetime.date is deprecated in order to match the standard library behavior. In a future version these will be considered non-comparable. Use 'ts == pd.Timestamp(date)' or 'ts.date() == date' instead.\n",
      "\n",
      "127.0.0.1 - - [04/Dec/2022 11:53:27] \"POST /_dash-update-component HTTP/1.1\" 200 -\n",
      "127.0.0.1 - - [04/Dec/2022 11:53:27] \"POST /_dash-update-component HTTP/1.1\" 200 -\n"
     ]
    },
    {
     "name": "stdout",
     "output_type": "stream",
     "text": [
      "\n",
      "<class 'str'>\n"
     ]
    },
    {
     "name": "stderr",
     "output_type": "stream",
     "text": [
      "/Users/enrico.eduardo/opt/miniconda3/envs/plutho/lib/python3.10/site-packages/pandas/core/ops/array_ops.py:73: FutureWarning:\n",
      "\n",
      "Comparison of Timestamp with datetime.date is deprecated in order to match the standard library behavior. In a future version these will be considered non-comparable. Use 'ts == pd.Timestamp(date)' or 'ts.date() == date' instead.\n",
      "\n",
      "127.0.0.1 - - [04/Dec/2022 11:53:30] \"POST /_dash-update-component HTTP/1.1\" 200 -\n"
     ]
    },
    {
     "name": "stdout",
     "output_type": "stream",
     "text": [
      "\n",
      "<class 'str'>\n"
     ]
    },
    {
     "name": "stderr",
     "output_type": "stream",
     "text": [
      "/Users/enrico.eduardo/opt/miniconda3/envs/plutho/lib/python3.10/site-packages/pandas/core/ops/array_ops.py:73: FutureWarning:\n",
      "\n",
      "Comparison of Timestamp with datetime.date is deprecated in order to match the standard library behavior. In a future version these will be considered non-comparable. Use 'ts == pd.Timestamp(date)' or 'ts.date() == date' instead.\n",
      "\n",
      "127.0.0.1 - - [04/Dec/2022 11:53:37] \"POST /_dash-update-component HTTP/1.1\" 200 -\n"
     ]
    },
    {
     "name": "stdout",
     "output_type": "stream",
     "text": [
      "\n",
      "<class 'str'>\n"
     ]
    },
    {
     "name": "stderr",
     "output_type": "stream",
     "text": [
      "/Users/enrico.eduardo/opt/miniconda3/envs/plutho/lib/python3.10/site-packages/pandas/core/ops/array_ops.py:73: FutureWarning:\n",
      "\n",
      "Comparison of Timestamp with datetime.date is deprecated in order to match the standard library behavior. In a future version these will be considered non-comparable. Use 'ts == pd.Timestamp(date)' or 'ts.date() == date' instead.\n",
      "\n",
      "127.0.0.1 - - [04/Dec/2022 11:53:41] \"POST /_dash-update-component HTTP/1.1\" 200 -\n"
     ]
    }
   ],
   "source": [
    "if __name__ == '__main__':\n",
    "    app.run_server(debug=False)"
   ]
  },
  {
   "cell_type": "code",
   "execution_count": null,
   "metadata": {},
   "outputs": [],
   "source": []
  }
 ],
 "metadata": {
  "kernelspec": {
   "display_name": "Python 3 (ipykernel)",
   "language": "python",
   "name": "python3"
  },
  "language_info": {
   "codemirror_mode": {
    "name": "ipython",
    "version": 3
   },
   "file_extension": ".py",
   "mimetype": "text/x-python",
   "name": "python",
   "nbconvert_exporter": "python",
   "pygments_lexer": "ipython3",
   "version": "3.10.6"
  },
  "vscode": {
   "interpreter": {
    "hash": "d60f0b7e86408b0863659995fe6bf30511ae2ba8424ff2f107f1360b83cb8595"
   }
  }
 },
 "nbformat": 4,
 "nbformat_minor": 2
}
