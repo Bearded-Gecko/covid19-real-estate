{
 "cells": [
  {
   "cell_type": "code",
   "execution_count": 30,
   "id": "449847f3-4ae3-4034-b93a-c310d5f36b55",
   "metadata": {},
   "outputs": [],
   "source": [
    "from google.cloud import bigquery\n",
    "from google.oauth2 import service_account\n",
    "import pandas as pd\n",
    "import numpy as np\n",
    "import matplotlib.pyplot as plt\n",
    "from urllib.request import urlopen\n",
    "import json\n",
    "import os\n",
    "import datetime\n",
    "import plotly.express as px\n",
    "from statsmodels.tsa.arima.model import ARIMA\n",
    "import math\n",
    "from sklearn.metrics import mean_squared_error\n",
    "from pmdarima.arima import auto_arima\n",
    "import datetime\n",
    "import matplotlib.dates as dates\n",
    "import statsmodels.api as sm\n",
    "from datetime import datetime\n",
    "from pmdarima.arima import auto_arima\n",
    "import statsmodels.api as sm"
   ]
  },
  {
   "cell_type": "code",
   "execution_count": 31,
   "id": "f03ef6dc-ca3f-4797-a77c-1d72ddd4d1e4",
   "metadata": {},
   "outputs": [
    {
     "name": "stdout",
     "output_type": "stream",
     "text": [
      "redfin\n"
     ]
    }
   ],
   "source": [
    "credentials = service_account.Credentials.from_service_account_file(\n",
    "'chain-coders-5d47d58b2c33.json')\n",
    "\n",
    "project_id = 'chain-coders'\n",
    "client = bigquery.Client(credentials= credentials,project=project_id)\n",
    "\n",
    "datasets = client.list_datasets()\n",
    "for dataset in datasets:\n",
    "  did = dataset.dataset_id\n",
    "  # Optional to verify that you are able to access the datasets.\n",
    "  # The datasets we care about are mimiciii_clinical and mimiciii_notes.\n",
    "  print(did)"
   ]
  },
  {
   "cell_type": "code",
   "execution_count": 32,
   "id": "fbe9d1f1-6db5-41a1-b64b-c2bfe01d7675",
   "metadata": {},
   "outputs": [],
   "source": [
    "query = \"\"\"SELECT * FROM `redfin.redfin-data-state` \"\"\"\n",
    "df = client.query(query).to_dataframe()"
   ]
  },
  {
   "cell_type": "code",
   "execution_count": 44,
   "id": "f83d81c8-a377-4700-b866-083ce9ba3ec9",
   "metadata": {},
   "outputs": [],
   "source": [
    "states = df.state_code.unique()\n",
    "property_types = df.property_type_id.unique()\n",
    "period_dates = df.period_end.unique()\n",
    "df_pred = pd.DataFrame()\n",
    "cols = ['state_code', 'property_type_id', 'period_end','property_type']\n",
    "property_dict ={4:'Multi_Family' , -1 : \"All_Residential\" , 13:\"Townhouse\" , 3:\"Condo\", 6:\"Single_Family_Residential\"}"
   ]
  },
  {
   "cell_type": "code",
   "execution_count": 45,
   "id": "4160aef7-c9bb-43a9-82c1-108a5a324316",
   "metadata": {},
   "outputs": [
    {
     "name": "stderr",
     "output_type": "stream",
     "text": [
      "/usr/local/lib/python3.7/site-packages/statsmodels/tsa/statespace/sarimax.py:978: UserWarning: Non-invertible starting MA parameters found. Using zeros as starting parameters.\n",
      "  warn('Non-invertible starting MA parameters found.'\n",
      "/usr/local/lib/python3.7/site-packages/statsmodels/tsa/statespace/sarimax.py:1009: UserWarning: Non-invertible starting seasonal moving average Using zeros as starting parameters.\n",
      "  warn('Non-invertible starting seasonal moving average'\n",
      "/usr/local/lib/python3.7/site-packages/statsmodels/tsa/statespace/sarimax.py:1009: UserWarning: Non-invertible starting seasonal moving average Using zeros as starting parameters.\n",
      "  warn('Non-invertible starting seasonal moving average'\n",
      "/usr/local/lib/python3.7/site-packages/statsmodels/tsa/statespace/sarimax.py:868: UserWarning: Too few observations to estimate starting parameters for seasonal ARMA. All parameters except for variances will be set to zeros.\n",
      "  ' zeros.' % warning_description)\n",
      "/usr/local/lib/python3.7/site-packages/statsmodels/tsa/statespace/sarimax.py:1009: UserWarning: Non-invertible starting seasonal moving average Using zeros as starting parameters.\n",
      "  warn('Non-invertible starting seasonal moving average'\n"
     ]
    },
    {
     "name": "stdout",
     "output_type": "stream",
     "text": [
      " ###################. Not enough data for  AK 13\n"
     ]
    },
    {
     "name": "stderr",
     "output_type": "stream",
     "text": [
      "/usr/local/lib/python3.7/site-packages/statsmodels/tsa/statespace/sarimax.py:1009: UserWarning: Non-invertible starting seasonal moving average Using zeros as starting parameters.\n",
      "  warn('Non-invertible starting seasonal moving average'\n",
      "/usr/local/lib/python3.7/site-packages/statsmodels/tsa/statespace/sarimax.py:978: UserWarning: Non-invertible starting MA parameters found. Using zeros as starting parameters.\n",
      "  warn('Non-invertible starting MA parameters found.'\n",
      "/usr/local/lib/python3.7/site-packages/statsmodels/tsa/statespace/sarimax.py:978: UserWarning: Non-invertible starting MA parameters found. Using zeros as starting parameters.\n",
      "  warn('Non-invertible starting MA parameters found.'\n",
      "/usr/local/lib/python3.7/site-packages/statsmodels/tsa/statespace/sarimax.py:978: UserWarning: Non-invertible starting MA parameters found. Using zeros as starting parameters.\n",
      "  warn('Non-invertible starting MA parameters found.'\n",
      "/usr/local/lib/python3.7/site-packages/statsmodels/tsa/statespace/sarimax.py:966: UserWarning: Non-stationary starting autoregressive parameters found. Using zeros as starting parameters.\n",
      "  warn('Non-stationary starting autoregressive parameters'\n",
      "/usr/local/lib/python3.7/site-packages/statsmodels/tsa/statespace/sarimax.py:978: UserWarning: Non-invertible starting MA parameters found. Using zeros as starting parameters.\n",
      "  warn('Non-invertible starting MA parameters found.'\n",
      "/usr/local/lib/python3.7/site-packages/statsmodels/tsa/statespace/sarimax.py:978: UserWarning: Non-invertible starting MA parameters found. Using zeros as starting parameters.\n",
      "  warn('Non-invertible starting MA parameters found.'\n",
      "/usr/local/lib/python3.7/site-packages/statsmodels/tsa/statespace/sarimax.py:966: UserWarning: Non-stationary starting autoregressive parameters found. Using zeros as starting parameters.\n",
      "  warn('Non-stationary starting autoregressive parameters'\n",
      "/usr/local/lib/python3.7/site-packages/statsmodels/tsa/statespace/sarimax.py:978: UserWarning: Non-invertible starting MA parameters found. Using zeros as starting parameters.\n",
      "  warn('Non-invertible starting MA parameters found.'\n",
      "/usr/local/lib/python3.7/site-packages/statsmodels/base/model.py:606: ConvergenceWarning: Maximum Likelihood optimization failed to converge. Check mle_retvals\n",
      "  ConvergenceWarning)\n",
      "/usr/local/lib/python3.7/site-packages/statsmodels/tsa/statespace/sarimax.py:1009: UserWarning: Non-invertible starting seasonal moving average Using zeros as starting parameters.\n",
      "  warn('Non-invertible starting seasonal moving average'\n",
      "/usr/local/lib/python3.7/site-packages/statsmodels/tsa/statespace/sarimax.py:978: UserWarning: Non-invertible starting MA parameters found. Using zeros as starting parameters.\n",
      "  warn('Non-invertible starting MA parameters found.'\n",
      "/usr/local/lib/python3.7/site-packages/statsmodels/tsa/statespace/sarimax.py:966: UserWarning: Non-stationary starting autoregressive parameters found. Using zeros as starting parameters.\n",
      "  warn('Non-stationary starting autoregressive parameters'\n",
      "/usr/local/lib/python3.7/site-packages/statsmodels/tsa/statespace/sarimax.py:978: UserWarning: Non-invertible starting MA parameters found. Using zeros as starting parameters.\n",
      "  warn('Non-invertible starting MA parameters found.'\n",
      "/usr/local/lib/python3.7/site-packages/statsmodels/tsa/statespace/sarimax.py:966: UserWarning: Non-stationary starting autoregressive parameters found. Using zeros as starting parameters.\n",
      "  warn('Non-stationary starting autoregressive parameters'\n",
      "/usr/local/lib/python3.7/site-packages/statsmodels/tsa/statespace/sarimax.py:978: UserWarning: Non-invertible starting MA parameters found. Using zeros as starting parameters.\n",
      "  warn('Non-invertible starting MA parameters found.'\n",
      "/usr/local/lib/python3.7/site-packages/statsmodels/tsa/statespace/sarimax.py:868: UserWarning: Too few observations to estimate starting parameters for seasonal ARMA. All parameters except for variances will be set to zeros.\n",
      "  ' zeros.' % warning_description)\n",
      "/usr/local/lib/python3.7/site-packages/statsmodels/tsa/statespace/sarimax.py:1009: UserWarning: Non-invertible starting seasonal moving average Using zeros as starting parameters.\n",
      "  warn('Non-invertible starting seasonal moving average'\n",
      "/usr/local/lib/python3.7/site-packages/statsmodels/tsa/statespace/sarimax.py:966: UserWarning: Non-stationary starting autoregressive parameters found. Using zeros as starting parameters.\n",
      "  warn('Non-stationary starting autoregressive parameters'\n",
      "/usr/local/lib/python3.7/site-packages/statsmodels/tsa/statespace/sarimax.py:978: UserWarning: Non-invertible starting MA parameters found. Using zeros as starting parameters.\n",
      "  warn('Non-invertible starting MA parameters found.'\n",
      "/usr/local/lib/python3.7/site-packages/statsmodels/tsa/statespace/sarimax.py:1009: UserWarning: Non-invertible starting seasonal moving average Using zeros as starting parameters.\n",
      "  warn('Non-invertible starting seasonal moving average'\n",
      "/usr/local/lib/python3.7/site-packages/statsmodels/tsa/statespace/sarimax.py:978: UserWarning: Non-invertible starting MA parameters found. Using zeros as starting parameters.\n",
      "  warn('Non-invertible starting MA parameters found.'\n",
      "/usr/local/lib/python3.7/site-packages/statsmodels/tsa/statespace/sarimax.py:1009: UserWarning: Non-invertible starting seasonal moving average Using zeros as starting parameters.\n",
      "  warn('Non-invertible starting seasonal moving average'\n",
      "/usr/local/lib/python3.7/site-packages/statsmodels/base/model.py:606: ConvergenceWarning: Maximum Likelihood optimization failed to converge. Check mle_retvals\n",
      "  ConvergenceWarning)\n",
      "/usr/local/lib/python3.7/site-packages/statsmodels/tsa/statespace/sarimax.py:978: UserWarning: Non-invertible starting MA parameters found. Using zeros as starting parameters.\n",
      "  warn('Non-invertible starting MA parameters found.'\n",
      "/usr/local/lib/python3.7/site-packages/statsmodels/tsa/statespace/sarimax.py:1009: UserWarning: Non-invertible starting seasonal moving average Using zeros as starting parameters.\n",
      "  warn('Non-invertible starting seasonal moving average'\n",
      "/usr/local/lib/python3.7/site-packages/statsmodels/tsa/statespace/sarimax.py:966: UserWarning: Non-stationary starting autoregressive parameters found. Using zeros as starting parameters.\n",
      "  warn('Non-stationary starting autoregressive parameters'\n",
      "/usr/local/lib/python3.7/site-packages/statsmodels/tsa/statespace/sarimax.py:978: UserWarning: Non-invertible starting MA parameters found. Using zeros as starting parameters.\n",
      "  warn('Non-invertible starting MA parameters found.'\n",
      "/usr/local/lib/python3.7/site-packages/statsmodels/tsa/statespace/sarimax.py:978: UserWarning: Non-invertible starting MA parameters found. Using zeros as starting parameters.\n",
      "  warn('Non-invertible starting MA parameters found.'\n",
      "/usr/local/lib/python3.7/site-packages/statsmodels/tsa/statespace/sarimax.py:966: UserWarning: Non-stationary starting autoregressive parameters found. Using zeros as starting parameters.\n",
      "  warn('Non-stationary starting autoregressive parameters'\n",
      "/usr/local/lib/python3.7/site-packages/statsmodels/tsa/statespace/sarimax.py:978: UserWarning: Non-invertible starting MA parameters found. Using zeros as starting parameters.\n",
      "  warn('Non-invertible starting MA parameters found.'\n",
      "/usr/local/lib/python3.7/site-packages/statsmodels/tsa/statespace/sarimax.py:868: UserWarning: Too few observations to estimate starting parameters for seasonal ARMA. All parameters except for variances will be set to zeros.\n",
      "  ' zeros.' % warning_description)\n",
      "/usr/local/lib/python3.7/site-packages/statsmodels/tsa/statespace/sarimax.py:1009: UserWarning: Non-invertible starting seasonal moving average Using zeros as starting parameters.\n",
      "  warn('Non-invertible starting seasonal moving average'\n",
      "/usr/local/lib/python3.7/site-packages/statsmodels/tsa/statespace/sarimax.py:868: UserWarning: Too few observations to estimate starting parameters for seasonal ARMA. All parameters except for variances will be set to zeros.\n",
      "  ' zeros.' % warning_description)\n",
      "/usr/local/lib/python3.7/site-packages/statsmodels/tsa/statespace/sarimax.py:1009: UserWarning: Non-invertible starting seasonal moving average Using zeros as starting parameters.\n",
      "  warn('Non-invertible starting seasonal moving average'\n",
      "/usr/local/lib/python3.7/site-packages/statsmodels/tsa/statespace/sarimax.py:978: UserWarning: Non-invertible starting MA parameters found. Using zeros as starting parameters.\n",
      "  warn('Non-invertible starting MA parameters found.'\n"
     ]
    },
    {
     "name": "stdout",
     "output_type": "stream",
     "text": [
      " ###################. Not enough data for  WV 3\n"
     ]
    }
   ],
   "source": [
    "for state in states:\n",
    "    for property_type in property_types:\n",
    "        #print(\"Predicting for \", state, property_type)\n",
    "        mask1 = df['state_code'] ==state\n",
    "        mask2 = df['property_type_id'] == property_type\n",
    "\n",
    "        df_out = df[mask1 & mask2]\n",
    "        df_sar = df_out[['median_ppsf', 'period_end']]\n",
    "        df_sar = df_sar.set_index('period_end')\n",
    "        df_sar.index = pd.to_datetime(df_sar.index)\n",
    "        ts = df_sar.resample('m').mean().fillna(method='ffill')\n",
    "        if (ts.shape[0] < 50):\n",
    "            print(\" ###################. Not enough data for \", state, property_type)\n",
    "            continue\n",
    "\n",
    "        ts_train_ac=ts\n",
    "        ts_train_bc=ts[ts.index[0]:( ts.index[ts.index.get_loc('2020-01-31', method='nearest')])]\n",
    "\n",
    "        fit_ac = sm.tsa.statespace.SARIMAX(ts_train_ac.astype(float), order=(1, 1, 1),seasonal_order=(0,1,1,12)).fit(disp=False)\n",
    "        fit_bc = sm.tsa.statespace.SARIMAX(ts_train_bc.astype(float), order=(1, 1, 1),seasonal_order=(0,1,1,12)).fit(disp=False)\n",
    "\n",
    "        ts_predicted_bc = fit_bc.predict(start=ts_train_bc.index[0],end='2025-12-31')\n",
    "        ts_predicted_ac = fit_ac.predict(start=ts_train_ac.index[0],end='2025-12-31')\n",
    "\n",
    "        pred_bc = pd.Series(ts_predicted_bc, name='median_ppsf_without_covid').to_frame()\n",
    "        pred_ac = pd.Series(ts_predicted_ac, name='median_ppsf_with_covid').to_frame()\n",
    "        pred = pd.merge(pred_bc,pred_ac,  how='outer', left_index= True, right_index= True)\n",
    "\n",
    "        \n",
    "        pred['state_code'] = state\n",
    "        pred['property_type_id'] = property_type\n",
    "        pred['property_type'] = property_dict[property_type]\n",
    "\n",
    "        pred = pred.reset_index().rename(columns={'index': 'period_end'})\n",
    "        pred['period_end']=pred['period_end'].astype(str)\n",
    "        pred['combined'] = pred[cols].apply(lambda row: '_'.join(row.values.astype(str)), axis=1)\n",
    "\n",
    "        if  df_pred.empty:\n",
    "            df_pred = pred\n",
    "        else:\n",
    "            df_pred = df_pred.append(pred)"
   ]
  },
  {
   "cell_type": "code",
   "execution_count": 46,
   "id": "8b37c864-bd39-4f32-925c-a0c7bb50cf43",
   "metadata": {},
   "outputs": [],
   "source": [
    "df_orig = df.copy()\n",
    "df_orig['combined'] = df_orig[cols].apply(lambda row: '_'.join(row.values.astype(str)), axis=1)\n",
    "df_orig = df_orig.set_index('combined')\n",
    "df_pred= df_pred.set_index('combined')\n",
    "\n",
    "#df_merged.reset_index()"
   ]
  },
  {
   "cell_type": "code",
   "execution_count": 47,
   "id": "a794f325-b74f-47dd-ad31-c52f8296b458",
   "metadata": {},
   "outputs": [],
   "source": [
    "df_merged = pd.merge(df_pred,df_orig,  how='outer', left_index= True, right_index= True, suffixes=('', '_y'))\n",
    "df_merged.drop(df_merged.filter(regex='_y$').columns, axis=1, inplace=True)\n",
    "df_merged[\"covid_impact\"] = 100*((df_merged[\"median_ppsf_with_covid\"]-df_merged[\"median_ppsf_without_covid\"])/df_merged[\"median_ppsf_without_covid\"])\n",
    "df_merged = df_merged.reset_index()\n",
    "df_merged = df_merged.drop('combined', axis=1)"
   ]
  },
  {
   "cell_type": "code",
   "execution_count": 48,
   "id": "026c044d-63fc-4217-90f6-f739cf207754",
   "metadata": {},
   "outputs": [],
   "source": [
    "job_config = bigquery.LoadJobConfig(\n",
    "\n",
    "    # Optionally, set the write disposition. BigQuery appends loaded rows\n",
    "    # to an existing table by default, but with WRITE_TRUNCATE write\n",
    "    # disposition it replaces the table with the loaded data.\n",
    "    write_disposition=\"WRITE_TRUNCATE\",\n",
    ")"
   ]
  },
  {
   "cell_type": "code",
   "execution_count": 49,
   "id": "cef4339f-478f-418c-8f3d-b7c1112aaeb4",
   "metadata": {},
   "outputs": [],
   "source": [
    "table_id = \"redfin.redfin-data-state-with-predictions3\" "
   ]
  },
  {
   "cell_type": "code",
   "execution_count": 50,
   "id": "534a15c3-bc9a-486c-ac8d-f5e1b2f8207a",
   "metadata": {},
   "outputs": [
    {
     "name": "stderr",
     "output_type": "stream",
     "text": [
      "/usr/local/lib/python3.7/site-packages/google/cloud/bigquery/_pandas_helpers.py:554: UserWarning: Pyarrow could not determine the type of columns: city, parent_metro_region_metro_code.\n",
      "  \", \".join(field.name for field in unknown_type_fields)\n"
     ]
    },
    {
     "data": {
      "text/plain": [
       "LoadJob<project=chain-coders, location=us-west2, id=8c16f9f2-4f6d-4fab-be0b-4841c0e12b26>"
      ]
     },
     "execution_count": 50,
     "metadata": {},
     "output_type": "execute_result"
    }
   ],
   "source": [
    "job = client.load_table_from_dataframe(\n",
    "    df_merged, table_id, job_config=job_config\n",
    ")  # Make an API request.\n",
    "job.result()  # Wait for the job to complete."
   ]
  },
  {
   "cell_type": "code",
   "execution_count": null,
   "id": "86b93ab0-d42d-482f-bbfa-3bfb7f7ad449",
   "metadata": {},
   "outputs": [],
   "source": []
  }
 ],
 "metadata": {
  "kernelspec": {
   "display_name": "Python 3 (ipykernel)",
   "language": "python",
   "name": "python3"
  },
  "language_info": {
   "codemirror_mode": {
    "name": "ipython",
    "version": 3
   },
   "file_extension": ".py",
   "mimetype": "text/x-python",
   "name": "python",
   "nbconvert_exporter": "python",
   "pygments_lexer": "ipython3",
   "version": "3.7.15"
  }
 },
 "nbformat": 4,
 "nbformat_minor": 5
}
